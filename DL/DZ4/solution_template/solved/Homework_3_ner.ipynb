{
  "cells": [
    {
      "cell_type": "markdown",
      "metadata": {
        "id": "ss9WR_zbQELO"
      },
      "source": [
        "# Практическое задание 3\n",
        "\n",
        "# Named Entity Recognition"
      ]
    },
    {
      "cell_type": "markdown",
      "metadata": {
        "id": "sB3vM2GfQELQ"
      },
      "source": [
        "## Введение\n",
        "\n",
        "### Постановка задачи\n",
        "\n",
        "В этом задании вы будете решать задачу извлечения именованных сущностей (Named Entity Recognition) - одну из самых распространенных в NLP наряду с задачей текстовой классификации.\n",
        "\n",
        "Данная задача заключается в том, что нужно классифицировать каждое слово / токен на предмет того, является ли оно частью именованной сущности (сущность может состоять из нескольких слов / токенов) или нет.\n",
        "\n",
        "Например, мы хотим извлечь имена и названия организаций. Тогда для текста\n",
        "\n",
        "    Yan    Goodfellow  works  for  Google  Brain\n",
        "\n",
        "модель должна извлечь следующую последовательность:\n",
        "\n",
        "    B-PER  I-PER       O      O    B-ORG   I-ORG\n",
        "\n",
        "где префиксы *B-* и *I-* означают начало и конец именованной сущности, *O* означает слово без тега. Такая префиксная система (*BIO*-разметка) введена, чтобы различать последовательные именованные сущности одного типа.\n",
        "Существуют и другие типы разметок, например *BILUO*, но в рамках данного практического задания сфокусируемся имеено на *BIO*.\n",
        "\n",
        "Решать NER задачу мы будем на датасете CoNLL-2003 с использованием рекуррентных сетей и моделей на базе архитектуры Transformer.\n",
        "\n",
        "### Библиотеки\n",
        "\n",
        "Основные библиотеки:\n",
        " - [PyTorch](https://pytorch.org/)\n",
        " - [Transformers](https://github.com/huggingface/transformers)\n",
        " \n",
        "### Данные\n",
        "\n",
        "Данные лежат в архиве, который состоит из:\n",
        "\n",
        "- *train.tsv* - обучающая выборка. В каждой строке записаны: <слово / токен>, <тэг слова / токена>\n",
        "\n",
        "- *valid.tsv* - валидационная выборка, которую можно использовать для подбора гиперпарамеров и замеров качества. Имеет идентичную с train.tsv структуру.\n",
        "\n",
        "- *test.tsv* - тестовая выборка, по которой оценивается итоговое качество. Имеет идентичную с train.tsv структуру.\n",
        "\n",
        "Скачать данные можно здесь: [ссылка](https://github.com/dayyass/msu_task_3_ner)"
      ]
    },
    {
      "cell_type": "code",
      "execution_count": 1,
      "metadata": {
        "id": "S5BCB1EfQan1"
      },
      "outputs": [],
      "source": [
        "# !pip install numpy==1.21.6 scikit-learn==1.0.2 tensorboard==2.9.0 torch==1.12.1 tqdm==4.64.0 transformers==4.21.1"
      ]
    },
    {
      "cell_type": "code",
      "execution_count": 2,
      "metadata": {
        "id": "Thidpb9qQELS"
      },
      "outputs": [],
      "source": [
        "import random\n",
        "from collections import Counter, defaultdict, namedtuple\n",
        "from typing import Tuple, List, Dict, Any\n",
        "\n",
        "import torch\n",
        "import numpy as np\n",
        "\n",
        "from tqdm import tqdm, trange"
      ]
    },
    {
      "cell_type": "markdown",
      "metadata": {
        "id": "AiDlmbY2QELT"
      },
      "source": [
        "Зафиксируем seed для воспроизводимости результатов (желательно делать **всегда**!):"
      ]
    },
    {
      "cell_type": "code",
      "execution_count": 3,
      "metadata": {
        "id": "yt3ISg3aQELU"
      },
      "outputs": [],
      "source": [
        "def set_global_seed(seed: int) -> None:\n",
        "    \"\"\"\n",
        "    Set global seed for reproducibility.\n",
        "    \"\"\"\n",
        "\n",
        "    random.seed(seed)\n",
        "    np.random.seed(seed)\n",
        "    torch.manual_seed(seed)\n",
        "    torch.cuda.manual_seed_all(seed)\n",
        "    torch.backends.cudnn.benchmark = False\n",
        "    torch.backends.cudnn.deterministic = True\n",
        "\n",
        "\n",
        "set_global_seed(42)"
      ]
    },
    {
      "cell_type": "markdown",
      "metadata": {
        "id": "AhIg0ZBzQELV"
      },
      "source": [
        "Проинициализируем device (CPU / GPU) на котором будем работать (желательно **GPU**):"
      ]
    },
    {
      "cell_type": "code",
      "execution_count": 4,
      "metadata": {
        "id": "rboLOv95QELV",
        "colab": {
          "base_uri": "https://localhost:8080/",
          "height": 35
        },
        "outputId": "4577bd15-28fa-4ee0-a0f6-f2e5547e71ee"
      },
      "outputs": [
        {
          "output_type": "execute_result",
          "data": {
            "text/plain": [
              "'cuda'"
            ],
            "application/vnd.google.colaboratory.intrinsic+json": {
              "type": "string"
            }
          },
          "metadata": {},
          "execution_count": 4
        }
      ],
      "source": [
        "device = \"cuda\" if torch.cuda.is_available() else \"cpu\"\n",
        "device"
      ]
    },
    {
      "cell_type": "markdown",
      "metadata": {
        "id": "UW16ryFIQELW"
      },
      "source": [
        "Здесь и далее проинициализируем *tensorboard* для логгирования метрики в процессе обучения:"
      ]
    },
    {
      "cell_type": "code",
      "execution_count": null,
      "metadata": {
        "id": "6O7Y8hReTODp"
      },
      "outputs": [],
      "source": [
        "%load_ext tensorboard\n",
        "%tensorboard --logdir logs"
      ]
    },
    {
      "cell_type": "markdown",
      "metadata": {
        "id": "4k3Nhd3IQELY"
      },
      "source": [
        "## Часть 1. Подготовка данных (4 балла)"
      ]
    },
    {
      "cell_type": "markdown",
      "metadata": {
        "id": "4qYjOMuPQELY"
      },
      "source": [
        "Первым делом нам нужно считать данные. Давайте напишем функцию, которая на вход принимает путь до одного из conll-2003 файла и возвращает два списка:\n",
        "- список списков слов / токенов (и соответствующий ему)\n",
        "- список списков тегов\n",
        "\n",
        "P.S. Сделаем данную функцию более гибкой, подавая на вход еще булеву переменную, считываем ли мы данные в *lowercase* или нет.\n",
        "\n",
        "**Задание. Реализуйте функцию read_conll2003.** **<font color='red'>(1 балл)</font>**"
      ]
    },
    {
      "cell_type": "code",
      "execution_count": 6,
      "metadata": {
        "id": "wQdCfX2OQELZ"
      },
      "outputs": [],
      "source": [
        "def read_conll2003(\n",
        "    path: str,\n",
        "    lower: bool = True,\n",
        ") -> Tuple[List[List[str]], List[List[str]]]:\n",
        "    \"\"\"\n",
        "    Prepare data in CoNNL like format.\n",
        "    \"\"\"\n",
        "\n",
        "    token_seq = []\n",
        "    label_seq = []\n",
        "    \n",
        "    # YOUR CODE HERE\n",
        "    with open(path, 'r+') as file:\n",
        "        tokens=[]\n",
        "        labels=[]\n",
        "        for line in file:\n",
        "            if line.strip() == '':\n",
        "                token_seq.append(tokens)\n",
        "                label_seq.append(labels)\n",
        "                tokens=[]\n",
        "                labels=[]\n",
        "                continue\n",
        "            read = line.split()\n",
        "            if lower:\n",
        "                tokens.append(read[0].strip().lower())\n",
        "                labels.append(read[1].strip())\n",
        "            else:\n",
        "                tokens.append(read[0].strip())\n",
        "                labels.append(read[1].strip())\n",
        "    return token_seq, label_seq"
      ]
    },
    {
      "cell_type": "markdown",
      "metadata": {
        "id": "oYm8xEvFQELb"
      },
      "source": [
        "Считаем все три файла:\n",
        "- *train.tsv*\n",
        "- *valid.tsv*\n",
        "- *test.tsv*"
      ]
    },
    {
      "cell_type": "code",
      "execution_count": 7,
      "metadata": {
        "id": "-inr1BPgQELb"
      },
      "outputs": [],
      "source": [
        "train_token_seq, train_label_seq = read_conll2003(\"data/train.tsv\")\n",
        "valid_token_seq, valid_label_seq = read_conll2003(\"data/valid.tsv\")\n",
        "test_token_seq, test_label_seq = read_conll2003(\"data/test.tsv\")"
      ]
    },
    {
      "cell_type": "markdown",
      "metadata": {
        "id": "sOoNc1VUQELc"
      },
      "source": [
        "Посмотрим на то, что мы получили:"
      ]
    },
    {
      "cell_type": "code",
      "execution_count": 8,
      "metadata": {
        "colab": {
          "base_uri": "https://localhost:8080/"
        },
        "id": "HK8AcwWGQELd",
        "outputId": "9ecc5347-ff57-4d94-fa83-18fdecae0fa8"
      },
      "outputs": [
        {
          "output_type": "stream",
          "name": "stdout",
          "text": [
            "eu\tB-ORG\n",
            "rejects\tO\n",
            "german\tB-MISC\n",
            "call\tO\n",
            "to\tO\n",
            "boycott\tO\n",
            "british\tB-MISC\n",
            "lamb\tO\n",
            ".\tO\n"
          ]
        }
      ],
      "source": [
        "for token, label in zip(train_token_seq[0], train_label_seq[0]):\n",
        "    print(f\"{token}\\t{label}\")"
      ]
    },
    {
      "cell_type": "code",
      "execution_count": 9,
      "metadata": {
        "colab": {
          "base_uri": "https://localhost:8080/"
        },
        "id": "K8SqDeMJjF3Y",
        "outputId": "3e9ae769-51ca-46b2-ccf5-f64159a07186"
      },
      "outputs": [
        {
          "output_type": "stream",
          "name": "stdout",
          "text": [
            "cricket\tO\n",
            "-\tO\n",
            "leicestershire\tB-ORG\n",
            "take\tO\n",
            "over\tO\n",
            "at\tO\n",
            "top\tO\n",
            "after\tO\n",
            "innings\tO\n",
            "victory\tO\n",
            ".\tO\n"
          ]
        }
      ],
      "source": [
        "for token, label in zip(valid_token_seq[0], valid_label_seq[0]):\n",
        "    print(f\"{token}\\t{label}\")"
      ]
    },
    {
      "cell_type": "code",
      "execution_count": 10,
      "metadata": {
        "colab": {
          "base_uri": "https://localhost:8080/"
        },
        "id": "ddFE7p5kjF_p",
        "outputId": "83219a0d-ca53-4736-a2aa-b117d246a502"
      },
      "outputs": [
        {
          "output_type": "stream",
          "name": "stdout",
          "text": [
            "soccer\tO\n",
            "-\tO\n",
            "japan\tB-LOC\n",
            "get\tO\n",
            "lucky\tO\n",
            "win\tO\n",
            ",\tO\n",
            "china\tB-PER\n",
            "in\tO\n",
            "surprise\tO\n",
            "defeat\tO\n",
            ".\tO\n"
          ]
        }
      ],
      "source": [
        "for token, label in zip(test_token_seq[0], test_label_seq[0]):\n",
        "    print(f\"{token}\\t{label}\")"
      ]
    },
    {
      "cell_type": "code",
      "execution_count": 11,
      "metadata": {
        "colab": {
          "base_uri": "https://localhost:8080/"
        },
        "id": "BZ4Go3IXfDit",
        "outputId": "e25dd038-7738-4193-f413-c65d5ed6550d"
      },
      "outputs": [
        {
          "output_type": "stream",
          "name": "stdout",
          "text": [
            "Тесты пройдены!\n"
          ]
        }
      ],
      "source": [
        "assert len(train_token_seq) == len(train_label_seq), \"Длины тренировочных token_seq и label_seq не совпадают, ошибка в функции read_conll2003\"\n",
        "assert len(valid_token_seq) == len(valid_label_seq), \"Длины валидационных token_seq и label_seq не совпадают, ошибка в функции read_conll2003\"\n",
        "assert len(test_token_seq) == len(test_label_seq), \"Длины тестовых token_seq и label_seq не совпадают, ошибка в функции read_conll2003\"\n",
        "\n",
        "assert train_token_seq[0] == ['eu', 'rejects', 'german', 'call', 'to', 'boycott', 'british', 'lamb', '.'], \"Ошибка в тренировочном token_seq\"\n",
        "assert train_label_seq[0] == ['B-ORG', 'O', 'B-MISC', 'O', 'O', 'O', 'B-MISC', 'O', 'O'], \"Ошибка в тренировочном label_seq\"\n",
        "\n",
        "assert valid_token_seq[0] == ['cricket', '-', 'leicestershire', 'take', 'over', 'at', 'top', 'after', 'innings', 'victory', '.'], \"Ошибка в валидационном token_seq\"\n",
        "assert valid_label_seq[0] == ['O', 'O', 'B-ORG', 'O', 'O', 'O', 'O', 'O', 'O', 'O', 'O'], \"Ошибка в валидационном label_seq\"\n",
        "\n",
        "assert test_token_seq[0] == ['soccer', '-', 'japan', 'get', 'lucky', 'win', ',', 'china', 'in', 'surprise', 'defeat', '.'], \"Ошибка в тестовом token_seq\"\n",
        "assert test_label_seq[0] == ['O', 'O', 'B-LOC', 'O', 'O', 'O', 'O', 'B-PER', 'O', 'O', 'O', 'O'], \"Ошибка в тестовом label_seq\"\n",
        "\n",
        "print(\"Тесты пройдены!\")"
      ]
    },
    {
      "cell_type": "markdown",
      "metadata": {
        "id": "j96zKo6PQELd"
      },
      "source": [
        "Датасет CoNLL-2003 представлен в виде разметки **BIO**, где лейбл:\n",
        "- *B-{label}* - начало сущности *{label}*\n",
        "- *I-{label}* - продолжение сущности *{label}*\n",
        "- *O* - отсутсвие сущности\n",
        "\n",
        "Также существует другие разметки последовательностей, например **BILUO**. Подробнее с разметками можно ознакомится во вспомогательном ноутбуке."
      ]
    },
    {
      "cell_type": "markdown",
      "metadata": {
        "id": "8SVL4USbQELe"
      },
      "source": [
        "### Подготовка словарей\n",
        "\n",
        "Чтобы обучать нейронную сеть, мы будем использовать два отображения:\n",
        "- {**token**}→{**token_idx**}: соответствие между словом / токеном и строкой в *embedding* матрице (начинается с 0);\n",
        "- {**label**}→{**label_idx**}: соответствие между тегом и уникальным индексом (начинается с 0);\n",
        "\n",
        "Теперь нам необходимо реализовать две функции:\n",
        "- get_token2idx\n",
        "- get_label2idx\n",
        "\n",
        "которые будут возвращать соответствующие словари.\n",
        "\n",
        "P.S. token2idx словарь должен также содержать специальные токены:\n",
        "- `<PAD>` - спецтокен для паддинга, так как мы собираемся обучать модели батчами\n",
        "- `<UNK>` - спецтокен для обработки слов / токенов, которых нет в словаре (актуально для инференса)\n",
        "\n",
        "Давайте для удобства дадим им idx 0 и 1 соответственно.\n",
        "\n",
        "P.P.S. В get_token2idx можно также добавить параметр *min_count*, который будет включать только слова превышающие определенную частоту."
      ]
    },
    {
      "cell_type": "markdown",
      "metadata": {
        "id": "aOnc3UHpQELf"
      },
      "source": [
        "Сначала соберем:\n",
        "- token2cnt - словарь из уникального слова / токена в количество это слова / токена в тренировочной выборке (важно, что только в тренировочной!)\n",
        "- label_set - список из уникальных тегов\n",
        "\n",
        "P.S. Также можно использовать стемминг для того, чтобы преобразовывать разные словоформы одного слова в один токен, но мы опустим этот момент.\n",
        "\n",
        "**Задание. Реализуйте функции get_token2idx и get_label2idx.** **<font color='red'>(1 балл)</font>**"
      ]
    },
    {
      "cell_type": "code",
      "execution_count": 12,
      "metadata": {
        "id": "IthnXKsoo7A3"
      },
      "outputs": [],
      "source": [
        "token2cnt = Counter([token for sentence in train_token_seq for token in sentence])"
      ]
    },
    {
      "cell_type": "code",
      "execution_count": 13,
      "metadata": {
        "colab": {
          "base_uri": "https://localhost:8080/"
        },
        "id": "b_v8YUM7QELg",
        "outputId": "debf1b3f-774c-4d0a-eee4-ccdf295fb138"
      },
      "outputs": [
        {
          "output_type": "execute_result",
          "data": {
            "text/plain": [
              "[('the', 8390),\n",
              " ('.', 7374),\n",
              " (',', 7290),\n",
              " ('of', 3815),\n",
              " ('in', 3621),\n",
              " ('to', 3424),\n",
              " ('a', 3199),\n",
              " ('and', 2872),\n",
              " ('(', 2861),\n",
              " (')', 2861)]"
            ]
          },
          "metadata": {},
          "execution_count": 13
        }
      ],
      "source": [
        "token2cnt.most_common(10)"
      ]
    },
    {
      "cell_type": "code",
      "execution_count": 14,
      "metadata": {
        "colab": {
          "base_uri": "https://localhost:8080/"
        },
        "id": "MSm7B546nmDh",
        "outputId": "da1758e9-3267-4223-b4be-05da81c8bf5a"
      },
      "outputs": [
        {
          "output_type": "stream",
          "name": "stdout",
          "text": [
            "Количество уникальных слов в тренировочном датасете: 21010\n",
            "Количество слов встречающихся только один раз в тренировочном датасете: 10060\n"
          ]
        }
      ],
      "source": [
        "print(f\"Количество уникальных слов в тренировочном датасете: {len(token2cnt)}\")\n",
        "print(f\"Количество слов встречающихся только один раз в тренировочном датасете: {len([token for token, cnt in token2cnt.items() if cnt == 1])}\")"
      ]
    },
    {
      "cell_type": "markdown",
      "metadata": {
        "id": "sRtCHt1QruSU"
      },
      "source": [
        "Как мы видим, у нас есть много слов, которые встречаются только один раз в датасете. Очевидно, что выучиться по ним у нас не получиться, мы только переобучимся, поэтому давайте выкинем такие слова при формировании нашего словаря."
      ]
    },
    {
      "cell_type": "code",
      "execution_count": 15,
      "metadata": {
        "id": "aCaPftCyQELi"
      },
      "outputs": [],
      "source": [
        "# используйте параметр min_count для того, чтобы отсекать слова частотой cnt < min_count\n",
        "\n",
        "def get_token2idx(\n",
        "    token2cnt: Dict[str, int],\n",
        "    min_count: int,\n",
        ") -> Dict[str, int]:\n",
        "    \"\"\"\n",
        "    Get mapping from tokens to indices to use with Embedding layer.\n",
        "    \"\"\"\n",
        "\n",
        "    token2idx: Dict[str, int] = {}\n",
        "    \n",
        "    # YOUR CODE HERE\n",
        "    token2idx['<PAD>'] = 0\n",
        "    token2idx['<UNK>'] = 1\n",
        "    token2cnt = Counter([token for sentence in train_token_seq for token in sentence])\n",
        "    idx = 2\n",
        "    for i in tqdm(token2cnt):\n",
        "        if token2cnt[i] >= min_count:\n",
        "            token2idx[i] = idx\n",
        "            idx += 1\n",
        "    return token2idx"
      ]
    },
    {
      "cell_type": "code",
      "execution_count": 16,
      "metadata": {
        "colab": {
          "base_uri": "https://localhost:8080/"
        },
        "id": "uFK130y-sLH4",
        "outputId": "52d623e6-b0f5-41de-c87c-88963e1b8405"
      },
      "outputs": [
        {
          "output_type": "stream",
          "name": "stderr",
          "text": [
            "100%|██████████| 21010/21010 [00:00<00:00, 1488930.08it/s]\n"
          ]
        }
      ],
      "source": [
        "token2idx = get_token2idx(token2cnt, min_count=2)"
      ]
    },
    {
      "cell_type": "code",
      "execution_count": 17,
      "metadata": {
        "id": "g69HFZC7QELh"
      },
      "outputs": [],
      "source": [
        "# Функция для сортировки тегов, чтобы сначала был тег O, потом теги B- и только после теги I- (можно задать вручную)\n",
        "\n",
        "def sort_labels_func(x: str) -> int:\n",
        "    if x == \"O\":\n",
        "        return 0\n",
        "    elif x.startswith(\"B-\"):\n",
        "        return 1\n",
        "    else:\n",
        "        return 2\n",
        "\n",
        "label_set = sorted(\n",
        "    set(label for sentence in train_label_seq for label in sentence),\n",
        "    key=lambda x: (sort_labels_func(x), x),\n",
        ")"
      ]
    },
    {
      "cell_type": "code",
      "execution_count": 18,
      "metadata": {
        "colab": {
          "base_uri": "https://localhost:8080/"
        },
        "id": "VI_3m4qbQELi",
        "outputId": "f3421336-35cb-4653-c404-9097ebb4f136"
      },
      "outputs": [
        {
          "output_type": "execute_result",
          "data": {
            "text/plain": [
              "['O', 'B-LOC', 'B-MISC', 'B-ORG', 'B-PER', 'I-LOC', 'I-MISC', 'I-ORG', 'I-PER']"
            ]
          },
          "metadata": {},
          "execution_count": 18
        }
      ],
      "source": [
        "label_set"
      ]
    },
    {
      "cell_type": "code",
      "execution_count": 19,
      "metadata": {
        "id": "t6i51GPtQELj"
      },
      "outputs": [],
      "source": [
        "def get_label2idx(label_set: List[str]) -> Dict[str, int]:\n",
        "    \"\"\"\n",
        "    Get mapping from labels to indices.\n",
        "    \"\"\"\n",
        "\n",
        "    label2idx: Dict[str, int] = {}\n",
        "    \n",
        "    # YOUR CODE HERE\n",
        "    idx = 0\n",
        "    for i in tqdm(label_set):\n",
        "        label2idx[i] = idx\n",
        "        idx += 1\n",
        "    return label2idx"
      ]
    },
    {
      "cell_type": "code",
      "execution_count": 20,
      "metadata": {
        "colab": {
          "base_uri": "https://localhost:8080/"
        },
        "id": "XW6fK0HtQELk",
        "outputId": "31bb75f5-3bdd-4030-9904-b4ec58b997de"
      },
      "outputs": [
        {
          "output_type": "stream",
          "name": "stderr",
          "text": [
            "100%|██████████| 9/9 [00:00<00:00, 75047.19it/s]\n"
          ]
        }
      ],
      "source": [
        "label2idx = get_label2idx(label_set)"
      ]
    },
    {
      "cell_type": "markdown",
      "metadata": {
        "id": "U13l-2IOQELk"
      },
      "source": [
        "Посмотрим на то, что мы получили:"
      ]
    },
    {
      "cell_type": "code",
      "execution_count": 21,
      "metadata": {
        "colab": {
          "base_uri": "https://localhost:8080/"
        },
        "id": "O7U7bMrHQELl",
        "outputId": "fb450322-49ca-42bc-ed32-23a69b3983e2"
      },
      "outputs": [
        {
          "output_type": "stream",
          "name": "stdout",
          "text": [
            "<PAD>\t0\n",
            "<UNK>\t1\n",
            "eu\t2\n",
            "german\t3\n",
            "call\t4\n",
            "to\t5\n",
            "boycott\t6\n",
            "british\t7\n",
            "lamb\t8\n",
            ".\t9\n"
          ]
        }
      ],
      "source": [
        "for token, idx in list(token2idx.items())[:10]:\n",
        "    print(f\"{token}\\t{idx}\")"
      ]
    },
    {
      "cell_type": "code",
      "execution_count": 22,
      "metadata": {
        "colab": {
          "base_uri": "https://localhost:8080/"
        },
        "id": "Hp75V-o2QELl",
        "outputId": "0b5833db-4b78-47a6-a624-31c4b25e3e10"
      },
      "outputs": [
        {
          "output_type": "stream",
          "name": "stdout",
          "text": [
            "O\t0\n",
            "B-LOC\t1\n",
            "B-MISC\t2\n",
            "B-ORG\t3\n",
            "B-PER\t4\n",
            "I-LOC\t5\n",
            "I-MISC\t6\n",
            "I-ORG\t7\n",
            "I-PER\t8\n"
          ]
        }
      ],
      "source": [
        "for label, idx in label2idx.items():\n",
        "    print(f\"{label}\\t{idx}\")"
      ]
    },
    {
      "cell_type": "code",
      "execution_count": 23,
      "metadata": {
        "colab": {
          "base_uri": "https://localhost:8080/"
        },
        "id": "VYb4BdAUhNzk",
        "outputId": "41163386-4a34-4560-b27c-33e8ade858eb"
      },
      "outputs": [
        {
          "output_type": "stream",
          "name": "stderr",
          "text": [
            "100%|██████████| 21010/21010 [00:00<00:00, 1113879.22it/s]"
          ]
        },
        {
          "output_type": "stream",
          "name": "stdout",
          "text": [
            "Тесты пройдены!\n"
          ]
        },
        {
          "output_type": "stream",
          "name": "stderr",
          "text": [
            "\n"
          ]
        }
      ],
      "source": [
        "assert len(get_token2idx(token2cnt, min_count=1)) == 21012, \"Ошибка в длине словаря, скорее всего неверно реализован min_count\"\n",
        "assert len(token2idx) == 10952, \"Неправильная длина token2idx, скорее всего неверно реализован min_count\"\n",
        "assert len(label2idx) == 9, \"Неправильная длина label2idx\"\n",
        "\n",
        "assert list(token2idx.items())[:10] == [('<PAD>', 0), ('<UNK>', 1), ('eu', 2), ('german', 3), ('call', 4), ('to', 5), ('boycott', 6), ('british', 7), ('lamb', 8), ('.', 9)], \"Неправильно сформированный token2idx\"\n",
        "assert label2idx == {'O': 0, 'B-LOC': 1, 'B-MISC': 2, 'B-ORG': 3, 'B-PER': 4, 'I-LOC': 5, 'I-MISC': 6, 'I-ORG': 7, 'I-PER': 8}, \"Неправильно сформированный label2idx\"\n",
        "\n",
        "print(\"Тесты пройдены!\")"
      ]
    },
    {
      "cell_type": "markdown",
      "metadata": {
        "id": "ItPs1DmOQELm"
      },
      "source": [
        "### Подготовка датасета и загрузчика\n",
        "\n",
        "Обычно нейронные сети обучаются батчами. Это означает, что каждое обновление весов нейронной сети происходит на основе нескольких последовательностей. Технической деталью является необходимость дополнить все последовательности внутри батча до одной длины.\n",
        "\n",
        "Из предыдущего практического задания вы должны знать о `Dataset`'е (`torch.utils.data.Dataset`) - структура данных, которая хранит и может по индексу отдавать данные для обучения. Датасет должен наследоваться от стандартного PyTorch класса Dataset и переопределять методы `__len__` и `__getitem__`.\n",
        "\n",
        "Метод `__getitem__` должен возвращать индексированную последовательность и её теги.\n",
        "\n",
        "**Не забудьте** про `<UNK>` спецтокен для неизвестных слов!\n",
        "    \n",
        "Давайте напишем кастомный датасет под нашу задачу, который на вход (метод `__init__`) будет принимать:\n",
        "- token_seq - список списков слов / токенов\n",
        "- label_seq - список списков тегов\n",
        "- token2idx\n",
        "- label2idx\n",
        "\n",
        "и возвращать из метода `__getitem__` два int64 тензора (`torch.LongTensor`) из индексов слов / токенов в сэмпле и индексов соответвующих тегов:\n",
        "\n",
        "**Задание. Реализуйте класс датасета NERDataset.** **<font color='red'>(1 балл)</font>**"
      ]
    },
    {
      "cell_type": "code",
      "execution_count": 24,
      "metadata": {
        "id": "kdZvnUUpQELm"
      },
      "outputs": [],
      "source": [
        "class NERDataset(torch.utils.data.Dataset):\n",
        "    \"\"\"\n",
        "    PyTorch Dataset for NER.\n",
        "    \"\"\"\n",
        "\n",
        "    def __init__(\n",
        "        self,\n",
        "        token_seq: List[List[str]],\n",
        "        label_seq: List[List[str]],\n",
        "        token2idx: Dict[str, int],\n",
        "        label2idx: Dict[str, int],\n",
        "    ):\n",
        "        self.token2idx = token2idx\n",
        "        self.label2idx = label2idx\n",
        "\n",
        "        self.token_seq = [self.process_tokens(tokens, token2idx) for tokens in token_seq]\n",
        "        self.label_seq = [self.process_labels(labels, label2idx) for labels in label_seq]\n",
        "\n",
        "    def __len__(self):\n",
        "        return len(self.token_seq)\n",
        "\n",
        "    def __getitem__(\n",
        "        self,\n",
        "        idx: int,\n",
        "    ) -> Tuple[torch.LongTensor, torch.LongTensor]:\n",
        "        # YOUR CODE HERE\n",
        "        return self.token_seq[idx], self.label_seq[idx]\n",
        "    \n",
        "    @staticmethod\n",
        "    def process_tokens(\n",
        "        tokens: List[str],\n",
        "        token2idx: Dict[str, int],\n",
        "        unk: str = \"<UNK>\",\n",
        "    ) -> List[int]:\n",
        "        \"\"\"\n",
        "        Transform list of tokens into list of tokens' indices.\n",
        "        \"\"\"\n",
        "        # YOUR CODE HERE\n",
        "        processed_tokens = []\n",
        "        for token in tokens:\n",
        "            if token in token2idx:\n",
        "                processed_tokens.append(token2idx[token])\n",
        "            else:\n",
        "                processed_tokens.append(token2idx[unk])\n",
        "        return torch.Tensor(processed_tokens).type(torch.int64)\n",
        "\n",
        "    @staticmethod\n",
        "    def process_labels(\n",
        "        labels: List[str],\n",
        "        label2idx: Dict[str, int],\n",
        "    ) -> List[int]:\n",
        "        \"\"\"\n",
        "        Transform list of labels into list of labels' indices.\n",
        "        \"\"\"\n",
        "        # YOUR CODE HERE\n",
        "        processed_labels = [label2idx[label] for label in labels]\n",
        "        return torch.Tensor(processed_labels).type(torch.int64)"
      ]
    },
    {
      "cell_type": "markdown",
      "metadata": {
        "id": "yCvaPJERQELn"
      },
      "source": [
        "Создадим три датасета:\n",
        "- *train_dataset*\n",
        "- *valid_dataset*\n",
        "- *test_dataset*"
      ]
    },
    {
      "cell_type": "code",
      "execution_count": 25,
      "metadata": {
        "id": "bUMsSNkoQELn"
      },
      "outputs": [],
      "source": [
        "train_dataset = NERDataset(\n",
        "    token_seq=train_token_seq,\n",
        "    label_seq=train_label_seq,\n",
        "    token2idx=token2idx,\n",
        "    label2idx=label2idx,\n",
        ")\n",
        "valid_dataset = NERDataset(\n",
        "    token_seq=valid_token_seq,\n",
        "    label_seq=valid_label_seq,\n",
        "    token2idx=token2idx,\n",
        "    label2idx=label2idx,\n",
        ")\n",
        "test_dataset = NERDataset(\n",
        "    token_seq=test_token_seq,\n",
        "    label_seq=test_label_seq,\n",
        "    token2idx=token2idx,\n",
        "    label2idx=label2idx,\n",
        ")"
      ]
    },
    {
      "cell_type": "markdown",
      "metadata": {
        "id": "jQIq1pAWQELo"
      },
      "source": [
        "Посмотрим на то, что мы получили:"
      ]
    },
    {
      "cell_type": "code",
      "execution_count": 26,
      "metadata": {
        "colab": {
          "base_uri": "https://localhost:8080/"
        },
        "id": "Q_Scync0QELo",
        "outputId": "8f670928-b3f9-46b3-847a-490964ac7f59"
      },
      "outputs": [
        {
          "output_type": "execute_result",
          "data": {
            "text/plain": [
              "(tensor([2, 1, 3, 4, 5, 6, 7, 8, 9]), tensor([3, 0, 2, 0, 0, 0, 2, 0, 0]))"
            ]
          },
          "metadata": {},
          "execution_count": 26
        }
      ],
      "source": [
        "train_dataset[0]"
      ]
    },
    {
      "cell_type": "code",
      "execution_count": 27,
      "metadata": {
        "colab": {
          "base_uri": "https://localhost:8080/"
        },
        "id": "zyAazaLzjQ-K",
        "outputId": "639ac1df-5c62-41e1-b5a5-a30d1b060873"
      },
      "outputs": [
        {
          "output_type": "execute_result",
          "data": {
            "text/plain": [
              "(tensor([1737,  571, 1777,  197,  687,  145,  349,  111, 1819, 1558,    9]),\n",
              " tensor([0, 0, 3, 0, 0, 0, 0, 0, 0, 0, 0]))"
            ]
          },
          "metadata": {},
          "execution_count": 27
        }
      ],
      "source": [
        "valid_dataset[0]"
      ]
    },
    {
      "cell_type": "code",
      "execution_count": 28,
      "metadata": {
        "colab": {
          "base_uri": "https://localhost:8080/"
        },
        "id": "NHuuh3YmjRNt",
        "outputId": "929aa174-4dae-4a1f-eeb7-e550b17180d6"
      },
      "outputs": [
        {
          "output_type": "execute_result",
          "data": {
            "text/plain": [
              "(tensor([1516,  571, 1434, 1729, 4893, 2014,   67,  310,  215, 3157, 3139,    9]),\n",
              " tensor([0, 0, 1, 0, 0, 0, 0, 4, 0, 0, 0, 0]))"
            ]
          },
          "metadata": {},
          "execution_count": 28
        }
      ],
      "source": [
        "test_dataset[0]"
      ]
    },
    {
      "cell_type": "code",
      "execution_count": 29,
      "metadata": {
        "colab": {
          "base_uri": "https://localhost:8080/"
        },
        "id": "Gox6uyF2idwZ",
        "outputId": "3f037ab6-5e8c-47db-ee89-b50b2673e0ff"
      },
      "outputs": [
        {
          "output_type": "stream",
          "name": "stdout",
          "text": [
            "Тесты пройдены!\n"
          ]
        }
      ],
      "source": [
        "assert len(train_dataset) == 14986, \"Неправильная длина train_dataset\"\n",
        "assert len(valid_dataset) == 3465, \"Неправильная длина valid_dataset\"\n",
        "assert len(test_dataset) == 3683, \"Неправильная длина test_dataset\"\n",
        "\n",
        "assert torch.equal(train_dataset[0][0], torch.tensor([2,1,3,4,5,6,7,8,9])), \"Неправильно сформированный train_dataset\"\n",
        "assert torch.equal(train_dataset[0][1], torch.tensor([3,0,2,0,0,0,2,0,0])), \"Неправильно сформированный train_dataset\"\n",
        "\n",
        "assert torch.equal(valid_dataset[0][0], torch.tensor([1737,571,1777,197,687,145,349,111,1819,1558,9])), \"Неправильно сформированный valid_dataset\"\n",
        "assert torch.equal(valid_dataset[0][1], torch.tensor([0,0,3,0,0,0,0,0,0,0,0])), \"Неправильно сформированный valid_dataset\"\n",
        "\n",
        "assert torch.equal(test_dataset[0][0], torch.tensor([1516,571,1434,1729,4893,2014,67,310,215,3157,3139,9])), \"Неправильно сформированный test_dataset\"\n",
        "assert torch.equal(test_dataset[0][1], torch.tensor([0,0,1,0,0,0,0,4,0,0,0,0])), \"Неправильно сформированный test_dataset\"\n",
        "\n",
        "print(\"Тесты пройдены!\")"
      ]
    },
    {
      "cell_type": "markdown",
      "metadata": {
        "id": "mWjJuAk7QELp"
      },
      "source": [
        "Для того, чтобы дополнять последовательности паддингом, будем использовать параметр `collate_fn` класса `DataLoader`.\n",
        "\n",
        "Принимая последовательность пар тензоров для предложений и тегов, необходимо дополнить все последовательности до последовательности максимальной длины в батче.\n",
        "\n",
        "Используйте для дополнения спецтокен `<PAD>` для последовательностей слов / токенов и -1 для последовательностей тегов.\n",
        "\n",
        "**hint**: удобно использовать метод **torch.nn.utils.rnn**. Обратите особое внимание на параметр *batch_first*"
      ]
    },
    {
      "cell_type": "markdown",
      "metadata": {
        "id": "VZiJVM5qQELp"
      },
      "source": [
        "`Collator` можно реализовать двумя способами:\n",
        "- класс с методом `__call__`\n",
        "- функцию\n",
        "\n",
        "Мы пойдем первым путем.\n",
        "\n",
        "Инициализировать экземпляр класса `Collator` (метод `__init__`) с помощью двух параметров:\n",
        "- id `<PAD>` спецтокена для последовательностей слов / токенов\n",
        "- id `<PAD>` спецтокена для последовательностей тегов (значение -1)\n",
        "\n",
        "Метод `__call__` на вход принимает батч, а именно список кортежей того, что нам возвращается из датасета. В нашем случае это список кортежей двух int64 тензоров - `List[Tuple[torch.LongTensor, torch.LongTensor]]`.\n",
        "\n",
        "На выходе мы хотим получить два тензора:\n",
        "- западденные индексы слов / токенов\n",
        "- западденные индексы тегов\n",
        "    \n",
        "P.S. `<PAD>` значение нужно для того, чтобы при подсчете лосса легко отличать западдированные токены от других. Можно использовать параметр *ignore_index* при инициализации лосса.\n",
        "\n",
        "**Задание. Реализуйте класс коллатора NERCollator.** **<font color='red'>(1 балл)</font>**"
      ]
    },
    {
      "cell_type": "code",
      "execution_count": 30,
      "metadata": {
        "id": "LNHNwoLnQELp"
      },
      "outputs": [],
      "source": [
        "class NERCollator:\n",
        "    \"\"\"\n",
        "    Collator that handles variable-size sentences.\n",
        "    \"\"\"\n",
        "\n",
        "    def __init__(\n",
        "        self,\n",
        "        token_padding_value: int,\n",
        "        label_padding_value: int,\n",
        "    ):\n",
        "        self.token_padding_value = token_padding_value\n",
        "        self.label_padding_value = label_padding_value\n",
        "\n",
        "    def __call__(\n",
        "        self,\n",
        "        batch: List[Tuple[torch.LongTensor, torch.LongTensor]],\n",
        "    ) -> Tuple[torch.LongTensor, torch.LongTensor]:\n",
        "\n",
        "        tokens, labels = zip(*batch)\n",
        "\n",
        "        # YOUR CODE HERE\n",
        "        return \\\n",
        "        torch.nn.utils.rnn.pad_sequence(tokens, batch_first=True, padding_value=self.token_padding_value), \\\n",
        "        torch.nn.utils.rnn.pad_sequence(labels, batch_first=True, padding_value=self.label_padding_value)"
      ]
    },
    {
      "cell_type": "code",
      "execution_count": 31,
      "metadata": {
        "id": "nZUMwVQTQELq"
      },
      "outputs": [],
      "source": [
        "collator = NERCollator(\n",
        "    token_padding_value=token2idx[\"<PAD>\"],\n",
        "    label_padding_value=-1,\n",
        ")"
      ]
    },
    {
      "cell_type": "markdown",
      "metadata": {
        "id": "Jsgfij8WQELq"
      },
      "source": [
        "Теперь всё готово, чтобы задать `DataLoader`'ы:"
      ]
    },
    {
      "cell_type": "code",
      "execution_count": 32,
      "metadata": {
        "id": "gFljkiBOQELr"
      },
      "outputs": [],
      "source": [
        "train_dataloader = torch.utils.data.DataLoader(\n",
        "    train_dataset,\n",
        "    batch_size=2,\n",
        "    shuffle=True,\n",
        "    collate_fn=collator,\n",
        ")\n",
        "valid_dataloader = torch.utils.data.DataLoader(\n",
        "    valid_dataset,\n",
        "    batch_size=1,  # для корректных замеров метрик оставить batch_size=1\n",
        "    shuffle=False, # для корректных замеров метрик оставить shuffle=False\n",
        "    collate_fn=collator,\n",
        ")\n",
        "test_dataloader = torch.utils.data.DataLoader(\n",
        "    test_dataset,\n",
        "    batch_size=1,  # для корректных замеров метрик оставить batch_size=1\n",
        "    shuffle=False, # для корректных замеров метрик оставить shuffle=False\n",
        "    collate_fn=collator,\n",
        ")"
      ]
    },
    {
      "cell_type": "markdown",
      "metadata": {
        "id": "i34wGJ4uQELr"
      },
      "source": [
        "Посмотрим на то, что мы получили:"
      ]
    },
    {
      "cell_type": "code",
      "execution_count": 33,
      "metadata": {
        "id": "QLlr_DztQELr"
      },
      "outputs": [],
      "source": [
        "tokens, labels = next(iter(train_dataloader))\n",
        "\n",
        "tokens = tokens.to(device)\n",
        "labels = labels.to(device)"
      ]
    },
    {
      "cell_type": "code",
      "execution_count": 34,
      "metadata": {
        "colab": {
          "base_uri": "https://localhost:8080/"
        },
        "id": "FdMMEDdbQELs",
        "outputId": "4b6192be-79bb-4d97-ab6d-d7c27f88c7dd"
      },
      "outputs": [
        {
          "output_type": "execute_result",
          "data": {
            "text/plain": [
              "tensor([[7796, 1162, 2553, 7237, 1342,    0,    0,    0,    0,    0],\n",
              "        [ 125, 1167,    1,   67, 1349,  489, 1215, 1364, 1365, 1366]],\n",
              "       device='cuda:0')"
            ]
          },
          "metadata": {},
          "execution_count": 34
        }
      ],
      "source": [
        "tokens"
      ]
    },
    {
      "cell_type": "code",
      "execution_count": 35,
      "metadata": {
        "colab": {
          "base_uri": "https://localhost:8080/"
        },
        "id": "w--fhADKQELs",
        "outputId": "7f9a9052-5c73-4dc3-fb9b-9bc9c7eff5d6"
      },
      "outputs": [
        {
          "output_type": "execute_result",
          "data": {
            "text/plain": [
              "tensor([[ 3,  0,  3,  7,  0, -1, -1, -1, -1, -1],\n",
              "        [ 0,  4,  8,  0,  1,  0,  0,  0,  0,  0]], device='cuda:0')"
            ]
          },
          "metadata": {},
          "execution_count": 35
        }
      ],
      "source": [
        "labels"
      ]
    },
    {
      "cell_type": "code",
      "execution_count": 36,
      "metadata": {
        "colab": {
          "base_uri": "https://localhost:8080/"
        },
        "id": "yFeX0AYKlhGk",
        "outputId": "6016043b-42fe-4a2e-f0fc-82e793ae85a8"
      },
      "outputs": [
        {
          "output_type": "stream",
          "name": "stdout",
          "text": [
            "Тесты пройдены!\n"
          ]
        }
      ],
      "source": [
        "train_tokens, train_labels = next(iter(\n",
        "    torch.utils.data.DataLoader(\n",
        "        train_dataset,\n",
        "        batch_size=2,\n",
        "        shuffle=False,\n",
        "        collate_fn=collator,\n",
        "    )\n",
        "))\n",
        "assert torch.equal(train_tokens, torch.tensor([[ 2,  1,  3,  4,  5,  6,  7,  8,  9], [10, 11,  0,  0,  0,  0,  0,  0,  0]])), \"Похоже на ошибку в коллаторе\"\n",
        "assert torch.equal(train_labels, torch.tensor([[ 3,  0,  2,  0,  0,  0,  2,  0,  0], [ 4,  8, -1, -1, -1, -1, -1, -1, -1]])), \"Похоже на ошибку в коллаторе\"\n",
        "\n",
        "valid_tokens, valid_labels = next(iter(\n",
        "    torch.utils.data.DataLoader(\n",
        "        valid_dataset,\n",
        "        batch_size=2,\n",
        "        shuffle=False,\n",
        "        collate_fn=collator,\n",
        "    )\n",
        "))\n",
        "assert torch.equal(valid_tokens, torch.tensor([[ 1737,   571,  1777,   197,   687,   145,   349,   111,  1819,  1558, 9], [  248, 10679,     0,     0,     0,     0,     0,     0,     0,     0,    0]])), \"Похоже на ошибку в коллаторе\"\n",
        "assert torch.equal(valid_labels, torch.tensor([[ 0,  0,  3,  0,  0,  0,  0,  0,  0,  0,  0], [ 1,  0, -1, -1, -1, -1, -1, -1, -1, -1, -1]])), \"Похоже на ошибку в коллаторе\"\n",
        "\n",
        "test_tokens, test_labels = next(iter(\n",
        "    torch.utils.data.DataLoader(\n",
        "        test_dataset,\n",
        "        batch_size=2,\n",
        "        shuffle=False,\n",
        "        collate_fn=collator,\n",
        "    )\n",
        "))\n",
        "assert torch.equal(test_tokens, torch.tensor([[1516,  571, 1434, 1729, 4893, 2014,   67,  310,  215, 3157, 3139,    9], [   1,    1,    0,    0,    0,    0,    0,    0,    0,    0,    0,    0]])), \"Похоже на ошибку в коллаторе\"\n",
        "assert torch.equal(test_labels, torch.tensor([[ 0,  0,  1,  0,  0,  0,  0,  4,  0,  0,  0,  0], [ 4,  8, -1, -1, -1, -1, -1, -1, -1, -1, -1, -1]])), \"Похоже на ошибку в коллаторе\"\n",
        "\n",
        "print(\"Тесты пройдены!\")"
      ]
    },
    {
      "cell_type": "markdown",
      "metadata": {
        "id": "1Ul5gLriQELs"
      },
      "source": [
        "## Часть 2. BiLSTM-теггер (6 баллов)\n",
        "\n",
        "Определите архитектуру сети, используя библиотеку PyTorch. \n",
        "\n",
        "Ваша архитектура в этом пункте должна соответствовать стандартному теггеру:\n",
        "* Embedding слой на входе\n",
        "* LSTM (однонаправленный или двунаправленный)слой для обработки последовательности\n",
        "* Dropout (заданный отдельно или встроенный в LSTM) для уменьшения переобучения\n",
        "* Linear слой на выходе\n",
        "\n",
        "Для обучения сети используйте поэлементную кросс-энтропийную функцию потерь.\n",
        "\n",
        "**Обратите внимание**, что `<PAD>` токены не должны учавствовать в подсчёте функции потерь. В качестве оптимизатора рекомендуется использовать Adam. Для получения значений предсказаний по выходам модели используйте функцию `argmax`.\n",
        "\n",
        "**Задание. Реализуйте класс модели BiLSTM.** **<font color='red'>(2 балл)</font>**"
      ]
    },
    {
      "cell_type": "code",
      "execution_count": 37,
      "metadata": {
        "id": "uMiLQljZQELt"
      },
      "outputs": [],
      "source": [
        "class BiLSTM(torch.nn.Module):\n",
        "    \"\"\"\n",
        "    Bidirectional LSTM architecture.\n",
        "    \"\"\"\n",
        "\n",
        "    def __init__(\n",
        "        self,\n",
        "        num_embeddings: int,\n",
        "        embedding_dim: int,\n",
        "        hidden_size: int,\n",
        "        num_layers: int,\n",
        "        dropout: float,\n",
        "        bidirectional: bool,\n",
        "        n_classes: int,\n",
        "    ):\n",
        "        super().__init__()\n",
        "        \n",
        "        # YOUR CODE HERE\n",
        "        self.embedding = torch.nn.Embedding(num_embeddings, embedding_dim)\n",
        "        self.rnn = torch.nn.LSTM(embedding_dim, hidden_size, num_layers=num_layers, batch_first=True, bidirectional=True, dropout=dropout)\n",
        "        self.head = torch.nn.Linear(in_features=hidden_size*2, out_features=n_classes, bias=True)\n",
        "\n",
        "    def forward(self, tokens: torch.LongTensor) -> torch.Tensor:\n",
        "        embed = self.embedding(tokens)\n",
        "\n",
        "        # используем специальную функцию pack_padded_sequence для того, чтобы получить структуру PackedSequence\n",
        "        # которая не учитывать паддинг при проходе rnn\n",
        "        length = (tokens != 0).sum(dim=1).detach().cpu()\n",
        "        packed_embed = torch.nn.utils.rnn.pack_padded_sequence(\n",
        "            embed, length, batch_first=True, enforce_sorted=False\n",
        "          )\n",
        "\n",
        "        # используем специальную функцию pad_packed_sequence для того, чтобы получить тензор из PackedSequence\n",
        "        packed_rnn_output, _ = self.rnn(packed_embed)\n",
        "        rnn_output, _ = torch.nn.utils.rnn.pad_packed_sequence(\n",
        "            packed_rnn_output, batch_first=True)\n",
        "        \n",
        "        \n",
        "        logits = self.head(rnn_output)\n",
        "        return logits.transpose(1, 2)"
      ]
    },
    {
      "cell_type": "code",
      "execution_count": 38,
      "metadata": {
        "id": "zps8HL2VQELu"
      },
      "outputs": [],
      "source": [
        "model = BiLSTM(\n",
        "    num_embeddings=len(token2idx),\n",
        "    embedding_dim=100,\n",
        "    hidden_size=100,\n",
        "    num_layers=1,\n",
        "    dropout=0.0,\n",
        "    bidirectional=True,\n",
        "    n_classes=len(label2idx),\n",
        ").to(device)"
      ]
    },
    {
      "cell_type": "code",
      "execution_count": 39,
      "metadata": {
        "colab": {
          "base_uri": "https://localhost:8080/"
        },
        "id": "nmg2_C_oQELu",
        "outputId": "fb75e8cf-aa09-4421-b7f5-87ad84520adb"
      },
      "outputs": [
        {
          "output_type": "execute_result",
          "data": {
            "text/plain": [
              "BiLSTM(\n",
              "  (embedding): Embedding(10952, 100)\n",
              "  (rnn): LSTM(100, 100, batch_first=True, bidirectional=True)\n",
              "  (head): Linear(in_features=200, out_features=9, bias=True)\n",
              ")"
            ]
          },
          "metadata": {},
          "execution_count": 39
        }
      ],
      "source": [
        "model"
      ]
    },
    {
      "cell_type": "code",
      "execution_count": 40,
      "metadata": {
        "id": "sDvWB5J2QELv"
      },
      "outputs": [],
      "source": [
        "optimizer = torch.optim.Adam(model.parameters(), lr=1e-4)\n",
        "criterion = torch.nn.CrossEntropyLoss(ignore_index=-1)"
      ]
    },
    {
      "cell_type": "code",
      "execution_count": 41,
      "metadata": {
        "id": "Jn5Pu1UKQELv"
      },
      "outputs": [],
      "source": [
        "outputs = model(tokens)"
      ]
    },
    {
      "cell_type": "code",
      "execution_count": 42,
      "metadata": {
        "colab": {
          "base_uri": "https://localhost:8080/"
        },
        "id": "Iq7r46ls5AYo",
        "outputId": "bd46dbf3-9073-4397-cb99-69fb9577f018"
      },
      "outputs": [
        {
          "output_type": "execute_result",
          "data": {
            "text/plain": [
              "torch.Size([2, 9, 10])"
            ]
          },
          "metadata": {},
          "execution_count": 42
        }
      ],
      "source": [
        "outputs.shape"
      ]
    },
    {
      "cell_type": "code",
      "execution_count": 43,
      "metadata": {
        "colab": {
          "base_uri": "https://localhost:8080/"
        },
        "id": "n02Bsh8eQELw",
        "outputId": "df48c93d-dcc2-4499-c8b4-428ae166bd40"
      },
      "outputs": [
        {
          "output_type": "stream",
          "name": "stdout",
          "text": [
            "Тесты пройдены!\n"
          ]
        }
      ],
      "source": [
        "assert outputs.shape == torch.Size([2, 9, 10])\n",
        "assert 2 < criterion(outputs, labels) < 3\n",
        "\n",
        "print(\"Тесты пройдены!\")"
      ]
    },
    {
      "cell_type": "markdown",
      "metadata": {
        "id": "kjhkK9QFQELu"
      },
      "source": [
        "### Эксперименты\n",
        "\n",
        "Проведите эксперименты на данных. Настраивайте параметры по валидационной выборке, не используя тестовую. Ваше цель — настроить сеть так, чтобы качество модели по F1-macro мере на валидационной и тестовой выборках было не меньше 0.76. \n",
        "\n",
        "Сделайте выводы о качестве модели, переобучении, чувствительности архитектуры к выбору гиперпараметров. Оформите результаты экспериментов в виде мини-отчета (в этом же ipython notebook)."
      ]
    },
    {
      "cell_type": "code",
      "execution_count": 44,
      "metadata": {
        "id": "f4hdrFZ9iRPi"
      },
      "outputs": [],
      "source": [
        "# создадим SummaryWriter для эксперимента с BiLSTMModel\n",
        "\n",
        "from torch.utils.tensorboard import SummaryWriter\n",
        "\n",
        "writer = SummaryWriter(log_dir=f\"logs/BiLSTMModel\")"
      ]
    },
    {
      "cell_type": "markdown",
      "metadata": {
        "id": "ruMTBSkQQELx"
      },
      "source": [
        "**Задание. Реализуйте функцию подсчета метрик compute_metrics.** **<font color='red'>(1 балл)</font>**"
      ]
    },
    {
      "cell_type": "code",
      "execution_count": 61,
      "metadata": {
        "id": "xkpo3JgWQELx"
      },
      "outputs": [],
      "source": [
        "from sklearn.metrics import accuracy_score, precision_score, recall_score, f1_score\n",
        "\n",
        "\n",
        "def compute_metrics(\n",
        "    outputs: torch.Tensor,\n",
        "    labels: torch.LongTensor,\n",
        ") -> Dict[str, float]:\n",
        "    \"\"\"\n",
        "    Compute NER metrics.\n",
        "    \"\"\"\n",
        "\n",
        "    metrics = {}\n",
        "    outputs = outputs.cpu()\n",
        "    labels = labels.cpu()\n",
        "    # YOUR CODE HERE\n",
        "    # Не забудюте отфильтровать <PAD> токен\n",
        "    y_true = labels.flatten()[labels.flatten() != -1]\n",
        "    outputs = torch.argmax(outputs, dim = 1)\n",
        "    y_pred = outputs.flatten()[labels.flatten() != -1]\n",
        "    \n",
        "    # accuracy\n",
        "    accuracy = accuracy_score(\n",
        "        y_true=y_true,\n",
        "        y_pred=y_pred,\n",
        "    )\n",
        "\n",
        "    # precision\n",
        "    precision_micro = precision_score(\n",
        "        y_true=y_true,\n",
        "        y_pred=y_pred,\n",
        "        average=\"micro\",\n",
        "        zero_division=0,\n",
        "    )\n",
        "    precision_macro = precision_score(\n",
        "        y_true=y_true,\n",
        "        y_pred=y_pred,\n",
        "        average=\"macro\",\n",
        "        zero_division=0,\n",
        "    )\n",
        "    precision_weighted = precision_score(\n",
        "        y_true=y_true,\n",
        "        y_pred=y_pred,\n",
        "        average=\"weighted\",\n",
        "        zero_division=0,\n",
        "    )\n",
        "\n",
        "    # recall\n",
        "    recall_micro = recall_score(\n",
        "        y_true=y_true,\n",
        "        y_pred=y_pred,\n",
        "        average=\"micro\",\n",
        "        zero_division=0,\n",
        "        \n",
        "    )\n",
        "    recall_macro = recall_score(\n",
        "        y_true=y_true,\n",
        "        y_pred=y_pred,\n",
        "        average=\"macro\",\n",
        "        zero_division=0,\n",
        "    )\n",
        "    recall_weighted = recall_score(\n",
        "        y_true=y_true,\n",
        "        y_pred=y_pred,\n",
        "        average=\"weighted\",\n",
        "        zero_division=0,\n",
        "    )\n",
        "\n",
        "    # f1\n",
        "    f1_micro = f1_score(\n",
        "        y_true=y_true,\n",
        "        y_pred=y_pred,\n",
        "        average=\"micro\",\n",
        "        zero_division=0,\n",
        "    )\n",
        "    f1_macro = f1_score(\n",
        "        y_true=y_true,\n",
        "        y_pred=y_pred,\n",
        "        average=\"macro\",\n",
        "        zero_division=0,\n",
        "    )\n",
        "    f1_weighted = f1_score(\n",
        "        y_true=y_true,\n",
        "        y_pred=y_pred,\n",
        "        average=\"weighted\",\n",
        "        zero_division=0,\n",
        "    )\n",
        "\n",
        "    metrics[\"accuracy\"] = accuracy\n",
        "\n",
        "    metrics[\"precision_micro\"]    = precision_micro\n",
        "    metrics[\"precision_macro\"]    = precision_macro\n",
        "    metrics[\"precision_weighted\"] = precision_weighted\n",
        "\n",
        "    metrics[\"recall_micro\"]    = recall_micro\n",
        "    metrics[\"recall_macro\"]    = recall_macro\n",
        "    metrics[\"recall_weighted\"] = recall_weighted\n",
        "\n",
        "    metrics[\"f1_micro\"]    = f1_micro\n",
        "    metrics[\"f1_macro\"]    = f1_macro\n",
        "    metrics[\"f1_weighted\"] = f1_weighted\n",
        "\n",
        "    return metrics"
      ]
    },
    {
      "cell_type": "markdown",
      "metadata": {
        "id": "Dzj89UygQEL0"
      },
      "source": [
        "**Задание. Реализуйте функции обучения и тестирования train_epoch и evaluate_epoch.** **<font color='red'>(2 балла)</font>**"
      ]
    },
    {
      "cell_type": "code",
      "execution_count": 53,
      "metadata": {
        "id": "sG3vQbc_QEL0"
      },
      "outputs": [],
      "source": [
        "def train_epoch(\n",
        "    model: torch.nn.Module,\n",
        "    dataloader: torch.utils.data.DataLoader,\n",
        "    optimizer: torch.optim.Optimizer,\n",
        "    criterion: torch.nn.Module,\n",
        "    writer: SummaryWriter,\n",
        "    device: torch.device,\n",
        "    epoch: int,\n",
        ") -> None:\n",
        "    \"\"\"\n",
        "    One training cycle (loop).\n",
        "    \"\"\"\n",
        "\n",
        "    model.train()\n",
        "\n",
        "    epoch_loss = []\n",
        "    batch_metrics_list = defaultdict(list)\n",
        "\n",
        "    for i, (tokens, labels) in tqdm(\n",
        "        enumerate(dataloader),\n",
        "        total=len(dataloader),\n",
        "        desc=\"loop over train batches\",\n",
        "    ):\n",
        "\n",
        "        tokens, labels = tokens.to(device), labels.to(device)\n",
        "\n",
        "        # YOUR CODE HERE\n",
        "        # Подсчет лосса и шаг оптимизатора\n",
        "        optimizer.zero_grad()\n",
        "        prediction = model(tokens)\n",
        "        loss = criterion(prediction, labels)\n",
        "        loss.backward()\n",
        "        optimizer.step()\n",
        "\n",
        "        epoch_loss.append(loss.item())\n",
        "        writer.add_scalar(\n",
        "            \"batch loss / train\", loss.item(), epoch * len(dataloader) + i\n",
        "        )\n",
        "\n",
        "        with torch.no_grad():\n",
        "            model.eval()\n",
        "            outputs_inference = model(tokens)\n",
        "            model.train()\n",
        "\n",
        "        batch_metrics = compute_metrics(\n",
        "            outputs=outputs_inference,\n",
        "            labels=labels,\n",
        "        )\n",
        "\n",
        "        for metric_name, metric_value in batch_metrics.items():\n",
        "            batch_metrics_list[metric_name].append(metric_value)\n",
        "            writer.add_scalar(\n",
        "                f\"batch {metric_name} / train\",\n",
        "                metric_value,\n",
        "                epoch * len(dataloader) + i,\n",
        "            )\n",
        "\n",
        "    avg_loss = np.mean(epoch_loss)\n",
        "    print(f\"Train loss: {avg_loss}\\n\")\n",
        "    writer.add_scalar(\"loss / train\", avg_loss, epoch)\n",
        "\n",
        "    for metric_name, metric_value_list in batch_metrics_list.items():\n",
        "        metric_value = np.mean(metric_value_list)\n",
        "        print(f\"Train {metric_name}: {metric_value}\\n\")\n",
        "        writer.add_scalar(f\"{metric_name} / train\", metric_value, epoch)"
      ]
    },
    {
      "cell_type": "code",
      "execution_count": 47,
      "metadata": {
        "id": "p4ztFogtQEL0"
      },
      "outputs": [],
      "source": [
        "def evaluate_epoch(\n",
        "    model: torch.nn.Module,\n",
        "    dataloader: torch.utils.data.DataLoader,\n",
        "    criterion: torch.nn.Module,\n",
        "    writer: SummaryWriter,\n",
        "    device: torch.device,\n",
        "    epoch: int,\n",
        ") -> None:\n",
        "    \"\"\"\n",
        "    One evaluation cycle (loop).\n",
        "    \"\"\"\n",
        "\n",
        "    model.eval()\n",
        "\n",
        "    epoch_loss = []\n",
        "    batch_metrics_list = defaultdict(list)\n",
        "\n",
        "    with torch.no_grad():\n",
        "\n",
        "        for i, (tokens, labels) in tqdm(\n",
        "            enumerate(dataloader),\n",
        "            total=len(dataloader),\n",
        "            desc=\"loop over test batches\",\n",
        "        ):\n",
        "\n",
        "            tokens, labels = tokens.to(device), labels.to(device)\n",
        "\n",
        "            # YOUR CODE HERE\n",
        "            # Подсчет лосса\n",
        "            outputs = model(tokens)\n",
        "            loss = criterion(outputs, labels)\n",
        "            \n",
        "            epoch_loss.append(loss.item())\n",
        "            writer.add_scalar(\n",
        "                \"batch loss / test\", loss.item(), epoch * len(dataloader) + i\n",
        "            )\n",
        "\n",
        "            batch_metrics = compute_metrics(\n",
        "                outputs=outputs,\n",
        "                labels=labels,\n",
        "            )\n",
        "\n",
        "            for metric_name, metric_value in batch_metrics.items():\n",
        "                batch_metrics_list[metric_name].append(metric_value)\n",
        "                writer.add_scalar(\n",
        "                    f\"batch {metric_name} / test\",\n",
        "                    metric_value,\n",
        "                    epoch * len(dataloader) + i,\n",
        "                )\n",
        "\n",
        "        avg_loss = np.mean(epoch_loss)\n",
        "        print(f\"Test loss:  {avg_loss}\\n\")\n",
        "        writer.add_scalar(\"loss / test\", avg_loss, epoch)\n",
        "\n",
        "        for metric_name, metric_value_list in batch_metrics_list.items():\n",
        "            metric_value = np.mean(metric_value_list)\n",
        "            print(f\"Test {metric_name}: {metric_value}\\n\")\n",
        "            writer.add_scalar(f\"{metric_name} / test\", np.mean(metric_value), epoch)"
      ]
    },
    {
      "cell_type": "code",
      "execution_count": 48,
      "metadata": {
        "id": "z7Z5MTNzQEL1"
      },
      "outputs": [],
      "source": [
        "def train(\n",
        "    n_epochs: int,\n",
        "    model: torch.nn.Module,\n",
        "    train_dataloader: torch.utils.data.DataLoader,\n",
        "    test_dataloader: torch.utils.data.DataLoader,\n",
        "    optimizer: torch.optim.Optimizer,\n",
        "    criterion: torch.nn.Module,\n",
        "    writer: SummaryWriter,\n",
        "    device: torch.device,\n",
        ") -> None:\n",
        "    \"\"\"\n",
        "    Training loop.\n",
        "    \"\"\"\n",
        "\n",
        "    for epoch in range(n_epochs):\n",
        "\n",
        "        print(f\"Epoch [{epoch+1} / {n_epochs}]\\n\")\n",
        "\n",
        "        train_epoch(\n",
        "            model=model,\n",
        "            dataloader=train_dataloader,\n",
        "            optimizer=optimizer,\n",
        "            criterion=criterion,\n",
        "            writer=writer,\n",
        "            device=device,\n",
        "            epoch=epoch,\n",
        "        )\n",
        "        evaluate_epoch(\n",
        "            model=model,\n",
        "            dataloader=test_dataloader,\n",
        "            criterion=criterion,\n",
        "            writer=writer,\n",
        "            device=device,\n",
        "            epoch=epoch,\n",
        "        )"
      ]
    },
    {
      "cell_type": "markdown",
      "metadata": {
        "id": "xTxfU0BfQEL1"
      },
      "source": [
        "**Задание. Проведите эксперименты.** **<font color='red'>(2 балла)</font>**\n"
      ]
    },
    {
      "cell_type": "code",
      "execution_count": 62,
      "metadata": {
        "id": "uwbRCEae5AYr"
      },
      "outputs": [],
      "source": [
        "model = BiLSTM(\n",
        "    num_embeddings=len(token2idx),\n",
        "    embedding_dim=100,\n",
        "    hidden_size=100,\n",
        "    num_layers=1,\n",
        "    dropout=0.0,\n",
        "    bidirectional=True,\n",
        "    n_classes=len(label2idx),\n",
        ").to(device)"
      ]
    },
    {
      "cell_type": "code",
      "execution_count": 63,
      "metadata": {
        "id": "xuKz0z6S5AYr"
      },
      "outputs": [],
      "source": [
        "optimizer = torch.optim.Adam(model.parameters(), lr=1e-4)\n",
        "criterion = torch.nn.CrossEntropyLoss(ignore_index=-1)"
      ]
    },
    {
      "cell_type": "code",
      "execution_count": null,
      "metadata": {
        "id": "yz6mjGZUQEL2"
      },
      "outputs": [],
      "source": [
        "# YOUR CODE HERE\n",
        "train(n_epochs=100,\n",
        "     model = model,\n",
        "     train_dataloader = train_dataloader,\n",
        "     test_dataloader = test_dataloader,\n",
        "     optimizer = optimizer,\n",
        "     criterion = criterion,\n",
        "     writer = writer,\n",
        "     device = device)"
      ]
    },
    {
      "cell_type": "code",
      "source": [
        "print('Over test')\n",
        "evaluate_epoch(\n",
        "            model=model,\n",
        "            dataloader=test_dataloader,\n",
        "            criterion=criterion,\n",
        "            writer=writer,\n",
        "            device=device,\n",
        "            epoch=0,\n",
        "        )"
      ],
      "metadata": {
        "colab": {
          "base_uri": "https://localhost:8080/"
        },
        "id": "iigvTyqs6J1a",
        "outputId": "b5936177-1c04-47bb-d2a0-166dc90445f2"
      },
      "execution_count": 65,
      "outputs": [
        {
          "output_type": "stream",
          "name": "stdout",
          "text": [
            "Over test\n"
          ]
        },
        {
          "output_type": "stream",
          "name": "stderr",
          "text": [
            "loop over test batches: 100%|██████████| 3683/3683 [00:35<00:00, 104.43it/s]"
          ]
        },
        {
          "output_type": "stream",
          "name": "stdout",
          "text": [
            "Test loss:  0.3184941768407415\n",
            "\n",
            "Test accuracy: 0.9134978109520319\n",
            "\n",
            "Test precision_micro: 0.9134978109520319\n",
            "\n",
            "Test precision_macro: 0.789213951893287\n",
            "\n",
            "Test precision_weighted: 0.9152583250107683\n",
            "\n",
            "Test recall_micro: 0.9134978109520319\n",
            "\n",
            "Test recall_macro: 0.7865330003231695\n",
            "\n",
            "Test recall_weighted: 0.9134978109520319\n",
            "\n",
            "Test f1_micro: 0.9134978109520319\n",
            "\n",
            "Test f1_macro: 0.7823733469665013\n",
            "\n",
            "Test f1_weighted: 0.9094982770152064\n",
            "\n"
          ]
        },
        {
          "output_type": "stream",
          "name": "stderr",
          "text": [
            "\n"
          ]
        }
      ]
    },
    {
      "cell_type": "code",
      "source": [
        "print('Over val')\n",
        "evaluate_epoch(\n",
        "            model=model,\n",
        "            dataloader=valid_dataloader,\n",
        "            criterion=criterion,\n",
        "            writer=writer,\n",
        "            device=device,\n",
        "            epoch=0,\n",
        "        )"
      ],
      "metadata": {
        "colab": {
          "base_uri": "https://localhost:8080/"
        },
        "id": "OHEn1QEa6tSH",
        "outputId": "47f004d2-6e64-4c91-9543-3e6d1af9826d"
      },
      "execution_count": 66,
      "outputs": [
        {
          "output_type": "stream",
          "name": "stdout",
          "text": [
            "Over val\n"
          ]
        },
        {
          "output_type": "stream",
          "name": "stderr",
          "text": [
            "loop over test batches: 100%|██████████| 3465/3465 [00:29<00:00, 117.69it/s]"
          ]
        },
        {
          "output_type": "stream",
          "name": "stdout",
          "text": [
            "Test loss:  0.20577023913996853\n",
            "\n",
            "Test accuracy: 0.9433383901312181\n",
            "\n",
            "Test precision_micro: 0.9433383901312181\n",
            "\n",
            "Test precision_macro: 0.8347240473185131\n",
            "\n",
            "Test precision_weighted: 0.9409975077711226\n",
            "\n",
            "Test recall_micro: 0.9433383901312181\n",
            "\n",
            "Test recall_macro: 0.8300969258203031\n",
            "\n",
            "Test recall_weighted: 0.9433383901312181\n",
            "\n",
            "Test f1_micro: 0.9433383901312181\n",
            "\n",
            "Test f1_macro: 0.8272521898618016\n",
            "\n",
            "Test f1_weighted: 0.9386606507327652\n",
            "\n"
          ]
        },
        {
          "output_type": "stream",
          "name": "stderr",
          "text": [
            "\n"
          ]
        }
      ]
    },
    {
      "cell_type": "markdown",
      "source": [
        "Через 12 эпох стало понятно, что сильное переобучение, так как разница между трейном и тестом очень большая. Ну и 10 эпох будет достаточно. Тем не менее, своего мы добились и f1 macro больше чем нужно."
      ],
      "metadata": {
        "id": "b97MCnFe_zfa"
      }
    },
    {
      "cell_type": "markdown",
      "source": [
        "\"За кулисами\", провел эксперимент с количеством эпох=5, dropout=3, layers=3, но результаты не стали лучше. Смею предположить, что выбор параметров не сильно влияет на обучение этой модели. Однако, мы добились ф1 > 0,76!"
      ],
      "metadata": {
        "id": "qSa0oaQnEspj"
      }
    },
    {
      "cell_type": "markdown",
      "metadata": {
        "id": "H8R6nopyQEL-"
      },
      "source": [
        "## Часть 3. Transformers-теггер (6 баллов)\n",
        "\n",
        "В данной части задания нужно сделать все то же самое, но с использованием модели на базе архитектуры Transformer, а именно предлагается дообучать предобученную модель **BERT**.\n",
        "\n",
        "Для данной модели подразумевается специальная подготовка данных, с чего мы и начнем:"
      ]
    },
    {
      "cell_type": "markdown",
      "metadata": {
        "id": "SrbX5gFDQEL-"
      },
      "source": [
        "Модель **BERT** использует специальный токенизатор WordPiece для разбиения предложений на токены. Готовая предобученная версия такого токенизатора существует в библиотеке **transformers**. Есть два класса: `BertTokenizer` и `BertTokenizerFast`. Использовать можно любой, но второй вариант работает существенно быстрее.\n",
        "\n",
        "Токенизаторы можно обучать с нуля на своем корпусе данных, а можно подгружать уже готовые. Готовые токенизаторы, как правило, соответствуют предобученной конфигурации модели, которая использует словарь из этого токенизатора. \n",
        "\n",
        "Мы будем использовать базовую конфигурацию предобученного **BERT** для модели и токенизатора.\n",
        "\n",
        "P.S. Часто приходится проводить эксперименты с моделями разной архитектуры, например **BERT** и **GPT**, поэтому удобно использовать класс `AutoTokenizer`, который по названию модели сам определит, какой класс нужен для инициализации токенизатора."
      ]
    },
    {
      "cell_type": "code",
      "execution_count": null,
      "metadata": {
        "id": "4-UTiI4gQEL-"
      },
      "outputs": [],
      "source": [
        "from transformers import AutoTokenizer"
      ]
    },
    {
      "cell_type": "code",
      "execution_count": null,
      "metadata": {
        "id": "kSbBhvnDQEMA"
      },
      "outputs": [],
      "source": [
        "model_name = \"distilbert-base-cased\""
      ]
    },
    {
      "cell_type": "markdown",
      "metadata": {
        "id": "kxWNX5i6QEMA"
      },
      "source": [
        "Подгружение предобученных моделей и токенизаторов в **huggingface** происходит с помощью конструктора **from_pretrained**.\n",
        "\n",
        "В данном конструкторе можно указать либо путь к предобученному токенизатору, либо название предобученной конфигурации, как в нашем случае: тогда **transformers** сам подгрузит нужные параметры:"
      ]
    },
    {
      "cell_type": "code",
      "execution_count": null,
      "metadata": {
        "id": "3tg_bCeaQEMA"
      },
      "outputs": [],
      "source": [
        "tokenizer = AutoTokenizer.from_pretrained(model_name)"
      ]
    },
    {
      "cell_type": "markdown",
      "metadata": {
        "id": "4MIrbmNoQEMA"
      },
      "source": [
        "### Подготовка словарей\n",
        "\n",
        "В сравнении с рекуррентными моделями, на больше не нужно заниматься сборкой словаря, так как это уже сделано заранее благодаря токенизаторам и алгоритмам, стоящими за ними.\n",
        "\n",
        "Но нам как и прежде потребуется:\n",
        "- {**label**}→{**label_idx**}: соответствие между тегом и уникальным индексом (начинается с 0);\n",
        "\n",
        "Но данное отображение у нас уже реализовано в одной из предыдущих частей задания."
      ]
    },
    {
      "cell_type": "markdown",
      "metadata": {
        "id": "CvYF-4uaQEMB"
      },
      "source": [
        "### Подготовка датасета и загрузчика\n",
        "\n",
        "Мы также хотим обучать модель батчами, поэтому нам как и прежде понадобятся `Dataset`, `Collator` и `DataLoader`.\n",
        "\n",
        "Но мы не можем переиспользовать те, что в предыдущих частях задания, так как обработка данных должна производится немного иначе с использованием токенизатора.\n",
        "\n",
        "Давайте напишем новый кастомный датасет, который на вход (метод `__init__`) будет принимать:\n",
        "- token_seq - список списков слов / токенов\n",
        "- label_seq - список списков тегов\n",
        "\n",
        "и возвращать из метода `__getitem__` два списка:\n",
        "- список текстовых значений (`List[str]`) из индексов токенов в сэмпле\n",
        "- список целочисленных значений (`List[int]`) из индексов соответвующих тегов\n",
        "\n",
        "P.S. В отличие от предыдущего кастомного датасет, здесь мы возвращаем два `List`'а вместо `torch.LongTensor`, так как логику формирования западдированного батча мы перенесем в `Collator` из-за специфики работы токенизатора - он сам возвращает уже западдированный тензор с индексами токенов, а для индексов тегов нам нужно будет сделать это самостоятельно по аналогии с предыдущим датасетом.\n",
        "\n",
        "**Задание. Реализуйте класс датасета TransformersDataset.** **<font color='red'>(1 балл)</font>**"
      ]
    },
    {
      "cell_type": "code",
      "execution_count": null,
      "metadata": {
        "id": "7EoNLDOOQEMB"
      },
      "outputs": [],
      "source": [
        "class TransformersDataset(torch.utils.data.Dataset):\n",
        "    \"\"\"\n",
        "    Transformers Dataset for NER.\n",
        "    \"\"\"\n",
        "\n",
        "    def __init__(\n",
        "        self,\n",
        "        token_seq: List[List[str]],\n",
        "        label_seq: List[List[str]],\n",
        "    ):\n",
        "        self.token_seq = token_seq\n",
        "        self.label_seq = [self.process_labels(labels, label2idx) for labels in label_seq]\n",
        "\n",
        "    def __len__(self):\n",
        "        return len(self.token_seq)\n",
        "\n",
        "    def __getitem__(\n",
        "        self,\n",
        "        idx: int,\n",
        "    ) -> Tuple[List[str], List[int]]:\n",
        "        # YOUR CODE HERE\n",
        "    \n",
        "    @staticmethod\n",
        "    def process_labels(\n",
        "        labels: List[str],\n",
        "        label2idx: Dict[str, int],\n",
        "    ) -> List[int]:\n",
        "        \"\"\"\n",
        "        Transform list of labels into list of labels' indices.\n",
        "        \"\"\"\n",
        "        # YOUR CODE HERE"
      ]
    },
    {
      "cell_type": "markdown",
      "metadata": {
        "id": "p1oNc-31QEMB"
      },
      "source": [
        "Создадим три датасета:\n",
        "- *train_dataset*\n",
        "- *valid_dataset*\n",
        "- *test_dataset*"
      ]
    },
    {
      "cell_type": "code",
      "execution_count": null,
      "metadata": {
        "id": "vqg56Jf8QEMC"
      },
      "outputs": [],
      "source": [
        "train_dataset = TransformersDataset(\n",
        "    token_seq=train_token_seq,\n",
        "    label_seq=train_label_seq,\n",
        ")\n",
        "valid_dataset = TransformersDataset(\n",
        "    token_seq=valid_token_seq,\n",
        "    label_seq=valid_label_seq,\n",
        ")\n",
        "test_dataset = TransformersDataset(\n",
        "    token_seq=test_token_seq,\n",
        "    label_seq=test_label_seq,\n",
        ")"
      ]
    },
    {
      "cell_type": "markdown",
      "metadata": {
        "id": "WdIS6XrvQEMC"
      },
      "source": [
        "Посмотрим на то, что мы получили:"
      ]
    },
    {
      "cell_type": "code",
      "execution_count": null,
      "metadata": {
        "colab": {
          "base_uri": "https://localhost:8080/"
        },
        "id": "IT00Pjy6QEMC",
        "outputId": "6bb42a27-08f0-49f5-96f5-52573a1a75af"
      },
      "outputs": [
        {
          "data": {
            "text/plain": [
              "(['eu', 'rejects', 'german', 'call', 'to', 'boycott', 'british', 'lamb', '.'],\n",
              " [3, 0, 2, 0, 0, 0, 2, 0, 0])"
            ]
          },
          "execution_count": 70,
          "metadata": {},
          "output_type": "execute_result"
        }
      ],
      "source": [
        "train_dataset[0]"
      ]
    },
    {
      "cell_type": "code",
      "execution_count": null,
      "metadata": {
        "colab": {
          "base_uri": "https://localhost:8080/"
        },
        "id": "uYal2icQmuD-",
        "outputId": "572bab3f-d53d-46d2-dd6f-367042966062"
      },
      "outputs": [
        {
          "data": {
            "text/plain": [
              "(['cricket',\n",
              "  '-',\n",
              "  'leicestershire',\n",
              "  'take',\n",
              "  'over',\n",
              "  'at',\n",
              "  'top',\n",
              "  'after',\n",
              "  'innings',\n",
              "  'victory',\n",
              "  '.'],\n",
              " [0, 0, 3, 0, 0, 0, 0, 0, 0, 0, 0])"
            ]
          },
          "execution_count": 71,
          "metadata": {},
          "output_type": "execute_result"
        }
      ],
      "source": [
        "valid_dataset[0]"
      ]
    },
    {
      "cell_type": "code",
      "execution_count": null,
      "metadata": {
        "colab": {
          "base_uri": "https://localhost:8080/"
        },
        "id": "FCXd3FWVmuKe",
        "outputId": "e35bfbaf-340f-4fba-cc39-fa84ce632cda"
      },
      "outputs": [
        {
          "data": {
            "text/plain": [
              "(['soccer',\n",
              "  '-',\n",
              "  'japan',\n",
              "  'get',\n",
              "  'lucky',\n",
              "  'win',\n",
              "  ',',\n",
              "  'china',\n",
              "  'in',\n",
              "  'surprise',\n",
              "  'defeat',\n",
              "  '.'],\n",
              " [0, 0, 1, 0, 0, 0, 0, 4, 0, 0, 0, 0])"
            ]
          },
          "execution_count": 72,
          "metadata": {},
          "output_type": "execute_result"
        }
      ],
      "source": [
        "test_dataset[0]"
      ]
    },
    {
      "cell_type": "code",
      "execution_count": null,
      "metadata": {
        "colab": {
          "base_uri": "https://localhost:8080/"
        },
        "id": "B4R605vAnYT9",
        "outputId": "1b6542ed-4520-4093-dddf-f9404e059917"
      },
      "outputs": [
        {
          "name": "stdout",
          "output_type": "stream",
          "text": [
            "Тесты пройдены!\n"
          ]
        }
      ],
      "source": [
        "assert len(train_dataset) == 14986, \"Неправильная длина train_dataset\"\n",
        "assert len(valid_dataset) == 3465, \"Неправильная длина valid_dataset\"\n",
        "assert len(test_dataset) == 3683, \"Неправильная длина test_dataset\"\n",
        "\n",
        "assert train_dataset[0][0] == ['eu', 'rejects', 'german', 'call', 'to', 'boycott', 'british', 'lamb', '.'], \"Неправильно сформированный train_dataset\"\n",
        "assert train_dataset[0][1] == [3,0,2,0,0,0,2,0,0], \"Неправильно сформированный train_dataset\"\n",
        "\n",
        "assert valid_dataset[0][0] == ['cricket', '-', 'leicestershire', 'take', 'over', 'at', 'top', 'after', 'innings', 'victory', '.'], \"Неправильно сформированный valid_dataset\"\n",
        "assert valid_dataset[0][1] == [0,0,3,0,0,0,0,0,0,0,0], \"Неправильно сформированный valid_dataset\"\n",
        "\n",
        "assert test_dataset[0][0] == ['soccer', '-', 'japan', 'get', 'lucky', 'win', ',', 'china', 'in', 'surprise', 'defeat', '.'], \"Неправильно сформированный test_dataset\"\n",
        "assert test_dataset[0][1] == [0,0,1,0,0,0,0,4,0,0,0,0], \"Неправильно сформированный test_dataset\"\n",
        "\n",
        "print(\"Тесты пройдены!\")"
      ]
    },
    {
      "cell_type": "markdown",
      "metadata": {
        "id": "0zP_6iQnQEMC"
      },
      "source": [
        "Реализуем новый `Collator`.\n",
        "\n",
        "Инициализировать коллатор будет 3 аргументами:\n",
        "- токенизатор\n",
        "- параметры токенизатора в виде словаря (затем используем как `**kwargs`)\n",
        "- id спецтокена для последовательностей тегов (значение -1)\n",
        "\n",
        "Метод `__call__` на вход принимает батч, а именно список кортежей того, что нам возвращается из датасета. В нашем случае это список кортежей двух int64 тензоров - `List[Tuple[torch.LongTensor, torch.LongTensor]]`.\n",
        "\n",
        "На выходе мы хотим получить два тензора:\n",
        "- западденные индексы слов / токенов\n",
        "- западденные индексы тегов\n",
        "\n",
        "**Задание. Реализуйте класс коллатора TransformersCollator.** **<font color='red'>(2 балла)</font>**"
      ]
    },
    {
      "cell_type": "code",
      "execution_count": null,
      "metadata": {
        "id": "BonAp65jQEMD"
      },
      "outputs": [],
      "source": [
        "from transformers import PreTrainedTokenizer\n",
        "from transformers.tokenization_utils_base import BatchEncoding\n",
        "\n",
        "\n",
        "class TransformersCollator:\n",
        "    \"\"\"\n",
        "    Transformers Collator that handles variable-size sentences.\n",
        "    \"\"\"\n",
        "\n",
        "    def __init__(\n",
        "        self,\n",
        "        tokenizer: PreTrainedTokenizer,\n",
        "        tokenizer_kwargs: Dict[str, Any],\n",
        "        label_padding_value: int,\n",
        "    ):\n",
        "        self.tokenizer = tokenizer\n",
        "        self.tokenizer_kwargs = tokenizer_kwargs\n",
        "        \n",
        "        self.label_padding_value = label_padding_value\n",
        "\n",
        "    def __call__(\n",
        "        self,\n",
        "        batch: List[Tuple[List[str], List[int]]],\n",
        "    ) -> Tuple[torch.LongTensor, torch.LongTensor]:\n",
        "        tokens, labels = zip(*batch)\n",
        "\n",
        "        # YOUR CODE HERE\n",
        "\n",
        "        tokens.pop(\"offset_mapping\")\n",
        "\n",
        "        return tokens, labels\n",
        "    \n",
        "    @staticmethod\n",
        "    def encode_labels(\n",
        "        tokens: BatchEncoding,\n",
        "        labels: List[List[int]],\n",
        "        label_padding_value: int,\n",
        "    ) -> torch.LongTensor:\n",
        "\n",
        "        encoded_labels = []\n",
        "\n",
        "        for doc_labels, doc_offset in zip(labels, tokens.offset_mapping):\n",
        "\n",
        "            doc_enc_labels = np.ones(len(doc_offset), dtype=int) * label_padding_value\n",
        "            arr_offset = np.array(doc_offset)\n",
        "\n",
        "            doc_enc_labels[(arr_offset[:,0] == 0) & (arr_offset[:,1] != 0)] = doc_labels\n",
        "            encoded_labels.append(doc_enc_labels.tolist())\n",
        "\n",
        "        return torch.LongTensor(encoded_labels)"
      ]
    },
    {
      "cell_type": "code",
      "execution_count": null,
      "metadata": {
        "id": "iC8JkUPnQEMD"
      },
      "outputs": [],
      "source": [
        "tokenizer_kwargs = {\n",
        "    \"is_split_into_words\":    True,\n",
        "    \"return_offsets_mapping\": True,\n",
        "    \"padding\":                True,\n",
        "    \"truncation\":             True,\n",
        "    \"max_length\":             512,\n",
        "    \"return_tensors\":         \"pt\",\n",
        "}"
      ]
    },
    {
      "cell_type": "code",
      "execution_count": null,
      "metadata": {
        "id": "5sCDaxR6QEMD"
      },
      "outputs": [],
      "source": [
        "collator = TransformersCollator(\n",
        "    tokenizer=tokenizer,\n",
        "    tokenizer_kwargs=tokenizer_kwargs,\n",
        "    label_padding_value=-1,\n",
        ")"
      ]
    },
    {
      "cell_type": "markdown",
      "metadata": {
        "id": "eirev0N_QEMD"
      },
      "source": [
        "Теперь всё готово, чтобы задать `DataLoader`'ы:"
      ]
    },
    {
      "cell_type": "code",
      "execution_count": null,
      "metadata": {
        "id": "9JDrLC6pQEME"
      },
      "outputs": [],
      "source": [
        "train_dataloader = torch.utils.data.DataLoader(\n",
        "    train_dataset,\n",
        "    batch_size=2,\n",
        "    shuffle=True,\n",
        "    collate_fn=collator,\n",
        ")\n",
        "valid_dataloader = torch.utils.data.DataLoader(\n",
        "    valid_dataset,\n",
        "    batch_size=1,  # для корректных замеров метрик оставить batch_size=1\n",
        "    shuffle=False, # для корректных замеров метрик оставить shuffle=False\n",
        "    collate_fn=collator,\n",
        ")\n",
        "test_dataloader = torch.utils.data.DataLoader(\n",
        "    test_dataset,\n",
        "    batch_size=1,  # для корректных замеров метрик оставить batch_size=1\n",
        "    shuffle=False, # для корректных замеров метрик оставить shuffle=False\n",
        "    collate_fn=collator,\n",
        ")"
      ]
    },
    {
      "cell_type": "markdown",
      "metadata": {
        "id": "v3zGjEDHQEME"
      },
      "source": [
        "Посмотрим на то, что мы получили:"
      ]
    },
    {
      "cell_type": "code",
      "execution_count": null,
      "metadata": {
        "id": "KSWcYEAWQEME"
      },
      "outputs": [],
      "source": [
        "tokens, labels = next(iter(train_dataloader))\n",
        "\n",
        "tokens = tokens.to(device)\n",
        "labels = labels.to(device)"
      ]
    },
    {
      "cell_type": "code",
      "execution_count": null,
      "metadata": {
        "colab": {
          "base_uri": "https://localhost:8080/"
        },
        "id": "NTcdU1BlQEME",
        "outputId": "94ac83e6-a90e-4247-a8c9-46fb487d6d91"
      },
      "outputs": [
        {
          "data": {
            "text/plain": [
              "{'input_ids': tensor([[  101,   184,  1116,  2858,  4043,  1181,  5561,  1179,  5561,   102,\n",
              "             0,     0,     0,     0,     0,     0,     0,     0,     0,     0,\n",
              "             0,     0,     0,     0,     0,     0,     0,     0,     0,     0],\n",
              "        [  101,  1103,  3499,  1868,  1149,  1104,  4251,  1105,  1225,  1136,\n",
              "          1138,   170,  2070,  1106,  1840,  1111,  1494,   117,  9466, 15465,\n",
              "           181,  1204,   119,  1122, 20717, 10194,  1810,  1163,   119,   102]],\n",
              "       device='cuda:0'), 'attention_mask': tensor([[1, 1, 1, 1, 1, 1, 1, 1, 1, 1, 0, 0, 0, 0, 0, 0, 0, 0, 0, 0, 0, 0, 0, 0,\n",
              "         0, 0, 0, 0, 0, 0],\n",
              "        [1, 1, 1, 1, 1, 1, 1, 1, 1, 1, 1, 1, 1, 1, 1, 1, 1, 1, 1, 1, 1, 1, 1, 1,\n",
              "         1, 1, 1, 1, 1, 1]], device='cuda:0')}"
            ]
          },
          "execution_count": 81,
          "metadata": {},
          "output_type": "execute_result"
        }
      ],
      "source": [
        "tokens"
      ]
    },
    {
      "cell_type": "code",
      "execution_count": null,
      "metadata": {
        "colab": {
          "base_uri": "https://localhost:8080/"
        },
        "id": "p7ZTh97-QEME",
        "outputId": "7eb951ed-2bf6-475a-f799-07551fc3b5c0"
      },
      "outputs": [
        {
          "data": {
            "text/plain": [
              "tensor([[-1,  3, -1, -1, -1, -1, -1, -1, -1, -1, -1, -1, -1, -1, -1, -1, -1, -1,\n",
              "         -1, -1, -1, -1, -1, -1, -1, -1, -1, -1, -1, -1],\n",
              "        [-1,  0,  0,  0,  0,  0,  0,  0,  0,  0,  0,  0,  0,  0,  0,  0,  0,  0,\n",
              "          3,  0,  0, -1, -1,  4, -1,  8, -1,  0,  0, -1]], device='cuda:0')"
            ]
          },
          "execution_count": 82,
          "metadata": {},
          "output_type": "execute_result"
        }
      ],
      "source": [
        "labels"
      ]
    },
    {
      "cell_type": "code",
      "execution_count": null,
      "metadata": {
        "colab": {
          "base_uri": "https://localhost:8080/"
        },
        "id": "pMprtk9bodM9",
        "outputId": "d93f5b97-fbad-4538-f37f-068c7bbac104"
      },
      "outputs": [
        {
          "name": "stdout",
          "output_type": "stream",
          "text": [
            "Тесты пройдены!\n"
          ]
        }
      ],
      "source": [
        "train_tokens, train_labels = next(iter(\n",
        "    torch.utils.data.DataLoader(\n",
        "        train_dataset,\n",
        "        batch_size=2,\n",
        "        shuffle=False,\n",
        "        collate_fn=collator,\n",
        "    )\n",
        "))\n",
        "assert torch.equal(train_tokens['input_ids'], torch.tensor([[  101,   174,  1358, 22961,   176, 14170,  1840,  1106, 21423,  9304, 10721,  1324,  2495, 12913,   119,   102], [  101, 11109,  1200,  1602,  6715,   102,     0,     0,     0,     0,    0,     0,     0,     0,     0,     0]])), \"Похоже на ошибку в коллаторе\"\n",
        "assert torch.equal(train_tokens['attention_mask'], torch.tensor([[1, 1, 1, 1, 1, 1, 1, 1, 1, 1, 1, 1, 1, 1, 1, 1], [1, 1, 1, 1, 1, 1, 0, 0, 0, 0, 0, 0, 0, 0, 0, 0]])), \"Похоже на ошибку в коллаторе\"\n",
        "assert torch.equal(train_labels, torch.tensor([[-1,  3, -1,  0,  2, -1,  0,  0,  0,  2, -1, -1,  0, -1,  0, -1], [-1,  4, -1,  8, -1, -1, -1, -1, -1, -1, -1, -1, -1, -1, -1, -1]])), \"Похоже на ошибку в коллаторе\"\n",
        "\n",
        "valid_tokens, valid_labels = next(iter(\n",
        "    torch.utils.data.DataLoader(\n",
        "        valid_dataset,\n",
        "        batch_size=2,\n",
        "        shuffle=False,\n",
        "        collate_fn=collator,\n",
        "    )\n",
        "))\n",
        "assert torch.equal(valid_tokens['input_ids'], torch.tensor([[  101,  5428,   118,  5837, 18117,  5759, 15189,  1321,  1166,  1120,  1499,  1170,  6687,  2681,   119,   102], [  101, 25338, 17996,  1820,   118,  4775,   118,  1476,   102,     0,     0,     0,     0,     0,     0,     0]])), \"Похоже на ошибку в коллаторе\"\n",
        "assert torch.equal(valid_tokens['attention_mask'], torch.tensor([[1, 1, 1, 1, 1, 1, 1, 1, 1, 1, 1, 1, 1, 1, 1, 1], [1, 1, 1, 1, 1, 1, 1, 1, 1, 0, 0, 0, 0, 0, 0, 0]])), \"Похоже на ошибку в коллаторе\"\n",
        "assert torch.equal(valid_labels, torch.tensor([[-1,  0,  0,  3, -1, -1, -1,  0,  0,  0,  0,  0,  0,  0,  0, -1], [-1,  1, -1,  0, -1, -1, -1, -1, -1, -1, -1, -1, -1, -1, -1, -1]])), \"Похоже на ошибку в коллаторе\"\n",
        "\n",
        "test_tokens, test_labels = next(iter(\n",
        "    torch.utils.data.DataLoader(\n",
        "        test_dataset,\n",
        "        batch_size=2,\n",
        "        shuffle=False,\n",
        "        collate_fn=collator,\n",
        "    )\n",
        "))\n",
        "assert torch.equal(test_tokens['input_ids'], torch.tensor([[  101,  5862,   118,   179, 26519,  1179,  1243,  6918,  1782,   117,  5144,  1161,  1107,  3774,  3326,   119,   102], [  101,  9468,  3309,  1306, 19122,  2293,   102,     0,     0,     0,     0,     0,     0,     0,     0,     0,     0]])), \"Похоже на ошибку в коллаторе\"\n",
        "assert torch.equal(test_tokens['attention_mask'], torch.tensor([[1, 1, 1, 1, 1, 1, 1, 1, 1, 1, 1, 1, 1, 1, 1, 1, 1], [1, 1, 1, 1, 1, 1, 1, 0, 0, 0, 0, 0, 0, 0, 0, 0, 0]])), \"Похоже на ошибку в коллаторе\"\n",
        "assert torch.equal(test_labels, torch.tensor([[-1,  0,  0,  1, -1, -1,  0,  0,  0,  0,  4, -1,  0,  0,  0,  0, -1], [-1,  4, -1, -1,  8, -1, -1, -1, -1, -1, -1, -1, -1, -1, -1, -1, -1]])), \"Похоже на ошибку в коллаторе\"\n",
        "\n",
        "print(\"Тесты пройдены!\")"
      ]
    },
    {
      "cell_type": "markdown",
      "metadata": {
        "id": "_m-taH0SQEMF"
      },
      "source": [
        "В библиотеке **transformers** есть классы для модели BERT, уже настроенные под решение конкретных задач, с соответствующими головами классификации. Для задачи NER будем использовать класс `BertForTokenClassification`.\n",
        "\n",
        "По аналогии с токенизаторами, мы можем использовать класс `AutoModelForTokenClassification`, который по названию модели сам определит, какой класс нужен для инициализации модели."
      ]
    },
    {
      "cell_type": "code",
      "execution_count": null,
      "metadata": {
        "id": "x6tq_i7JQEMF"
      },
      "outputs": [],
      "source": [
        "from transformers import AutoModelForTokenClassification"
      ]
    },
    {
      "cell_type": "code",
      "execution_count": null,
      "metadata": {
        "id": "Vma9yj0zQEMF"
      },
      "outputs": [],
      "source": [
        "model = AutoModelForTokenClassification.from_pretrained(\n",
        "    model_name,\n",
        "    num_labels=len(label2idx),\n",
        ").to(device)"
      ]
    },
    {
      "cell_type": "code",
      "execution_count": null,
      "metadata": {
        "id": "Imv-6gAQQEMG"
      },
      "outputs": [],
      "source": [
        "optimizer = torch.optim.Adam(model.parameters(), lr=1e-5)"
      ]
    },
    {
      "cell_type": "code",
      "execution_count": null,
      "metadata": {
        "id": "LAdHfn4oQEMG"
      },
      "outputs": [],
      "source": [
        "outputs = model(**tokens)"
      ]
    },
    {
      "cell_type": "code",
      "execution_count": null,
      "metadata": {
        "colab": {
          "base_uri": "https://localhost:8080/"
        },
        "id": "P-kTke_8QEMG",
        "outputId": "d3ccee80-a0c4-429a-8d62-787faf8543d2"
      },
      "outputs": [
        {
          "name": "stdout",
          "output_type": "stream",
          "text": [
            "Тесты пройдены!\n"
          ]
        }
      ],
      "source": [
        "assert 2 < criterion(outputs[\"logits\"].transpose(1, 2), labels) < 3\n",
        "\n",
        "print(\"Тесты пройдены!\")"
      ]
    },
    {
      "cell_type": "code",
      "execution_count": null,
      "metadata": {
        "id": "5Ana4qGKeHrN"
      },
      "outputs": [],
      "source": [
        "# создадим SummaryWriter для эксперимента с BiLSTMModel\n",
        "\n",
        "from torch.utils.tensorboard import SummaryWriter\n",
        "\n",
        "writer = SummaryWriter(log_dir=f\"logs/Transformer\")"
      ]
    },
    {
      "cell_type": "markdown",
      "metadata": {
        "id": "8sNuFPRdQEMH"
      },
      "source": [
        "### Эксперименты\n",
        "\n",
        "Проведите эксперименты на данных. Настраивайте параметры по валидационной выборке, не используя тестовую. Ваше цель — настроить сеть так, чтобы качество модели по F1-macro мере на валидационной и тестовой выборках было не меньше 0.9. \n",
        "\n",
        "Сделайте выводы о качестве модели, переобучении, чувствительности архитектуры к выбору гиперпараметров. Оформите результаты экспериментов в виде мини-отчета (в этом же ipython notebook)."
      ]
    },
    {
      "cell_type": "markdown",
      "metadata": {
        "id": "7IfkN20lrN0J"
      },
      "source": [
        "Вы можете использовать ту же самую функцию train, что и до этого за тем исключением, что вместо инференса `model(tokens)` нужно делать `model(**tokens)`, а вместо `outputs` использовать `outputs[\"logits\"].transpose(1, 2)`"
      ]
    },
    {
      "cell_type": "markdown",
      "metadata": {
        "id": "8iyZUFddzYE5"
      },
      "source": [
        "**Задание. Проведите эксперименты.** **<font color='red'>(2 балла)</font>**\n"
      ]
    },
    {
      "cell_type": "code",
      "execution_count": null,
      "metadata": {
        "id": "Iv92wK5P7pjl"
      },
      "outputs": [],
      "source": [
        "# YOUR CODE HERE"
      ]
    },
    {
      "cell_type": "markdown",
      "metadata": {
        "id": "5XlI3cb1QEL2"
      },
      "source": [
        "## Часть 4 - Бонус. BiLSTMAttention-теггер (2 баллa)\n",
        "\n",
        "Необходимо провести те же самые эксперименты как и в части 2, но уже с использованием усовершенствованной архитектуры теггера BiLSTM с Attention механизмом.\n",
        "\n",
        "**Обратите внимание**, что реализовывать Attention самому не нужно, можно использовать `torch.nn.MultiheadAttention`.\n",
        "\n",
        "Также сделайте выводы о качестве модели, переобучении, чувствительности архитектуры к выбору гиперпараметров и проведите небольшой сравнительный анализ с предыдущей архитектурой. Оформите результаты экспериментов в виде мини-отчета (в этом же ipython notebook).\n",
        "\n",
        "**Задание. Реализуйте класс модели BiLSTMAttn.** **<font color='red'>(1 балл)</font>**"
      ]
    },
    {
      "cell_type": "code",
      "execution_count": null,
      "metadata": {
        "id": "_MyLQp047yID"
      },
      "outputs": [],
      "source": [
        "# YOUR CODE HERE"
      ]
    },
    {
      "cell_type": "markdown",
      "metadata": {
        "id": "ezh9kLTkQEL9"
      },
      "source": [
        "**Задание. Проведите эксперименты и побейте метрику из части 2.** **<font color='red'>(1 балл)</font>**\n",
        "\n",
        "P.S. Eсли качества увеличить не получилось, это нужно обосновать"
      ]
    },
    {
      "cell_type": "code",
      "execution_count": null,
      "metadata": {
        "id": "sE1C1tzEQEL-"
      },
      "outputs": [],
      "source": [
        "# YOUR CODE HERE"
      ]
    }
  ],
  "metadata": {
    "accelerator": "GPU",
    "colab": {
      "collapsed_sections": [
        "4MIrbmNoQEMA"
      ],
      "provenance": []
    },
    "gpuClass": "standard",
    "kernelspec": {
      "display_name": "Python 3 (ipykernel)",
      "language": "python",
      "name": "python3"
    },
    "language_info": {
      "codemirror_mode": {
        "name": "ipython",
        "version": 3
      },
      "file_extension": ".py",
      "mimetype": "text/x-python",
      "name": "python",
      "nbconvert_exporter": "python",
      "pygments_lexer": "ipython3",
      "version": "3.10.8"
    },
    "vscode": {
      "interpreter": {
        "hash": "8d4ce941904148077feb793883e611d25d231ca995d9164b22ee99fd0facd8d1"
      }
    }
  },
  "nbformat": 4,
  "nbformat_minor": 0
}