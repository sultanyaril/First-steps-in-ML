{
  "nbformat": 4,
  "nbformat_minor": 0,
  "metadata": {
    "kernelspec": {
      "display_name": "Python 3",
      "language": "python",
      "name": "python3"
    },
    "language_info": {
      "codemirror_mode": {
        "name": "ipython",
        "version": 3
      },
      "file_extension": ".py",
      "mimetype": "text/x-python",
      "name": "python",
      "nbconvert_exporter": "python",
      "pygments_lexer": "ipython3",
      "version": "3.6.9"
    },
    "colab": {
      "name": "KNN.ipynb",
      "provenance": [],
      "collapsed_sections": []
    }
  },
  "cells": [
    {
      "cell_type": "markdown",
      "metadata": {
        "id": "Xp0U4_GNY-lG"
      },
      "source": [
        "# Курс по машинному обучению,   ВМК МГУ\n",
        "# KNN: Классификация и регрессия"
      ]
    },
    {
      "cell_type": "markdown",
      "metadata": {
        "id": "TdqumUiyY-lQ"
      },
      "source": [
        "### Важно! О формате сдачи\n",
        "\n",
        "* **Задания из ноутбука, за исключением двух заданий на реализацию кода, оцениваются по системе <font color='red'>кросс-рецензирования</font>.**\n",
        "* **При решении ноутбука используйте данный шаблон. Не нужно удалять текстовые ячейки c разметкой частей ноутбука и формулировками заданий. Добавлять свои ячейки, при необходимости, конечно можно**\n",
        "* **Везде, где в формулровке задания есть какой-либо вопрос (или просьба вывода), необходимо прописать ответ в ячейку (код или markdown).**\n",
        "* **Наличие кода решения обязательно. Письменные ответы на вопросы без сопутствующего кода оцениваются в 0 баллов.**"
      ]
    },
    {
      "cell_type": "markdown",
      "metadata": {
        "id": "05G3sD3mY-lS"
      },
      "source": [
        "### Важно!\n",
        "\n",
        "**Перед тем, как сдать ноутбук на кросс-рецензирование, мы рекомендуем перезапустить ядро и выполнить весь ноутбук (cell -> run all)**"
      ]
    },
    {
      "cell_type": "markdown",
      "metadata": {
        "id": "UqasYRe5Y-lU"
      },
      "source": [
        "# Часть 0. Знакомство с библиотекой scikit-learn"
      ]
    },
    {
      "cell_type": "markdown",
      "metadata": {
        "id": "E1YiBDHjY-lU"
      },
      "source": [
        "Scikit-learn - это библиотека машинного обучения с открытым исходным кодом, которая предоставляет различные инструменты для предобработки данных и обучения моделей.\n",
        "\n",
        "Каждый модуль предобработки данных имеет два метода: fit и transform. Как правило, метод fit принимает на вход **обучающую** выборку $X$ и считает по ней необходимые для заданного типа преобразования статистики. Метод transform преобразует входные **(train и test)** данные, используя статистики, посчитанные при вызове метода fit и возвращает преобразованные данные.\n",
        "\n",
        "Каждая модель машинного обучения имеет два метода: fit - метод ответственный за обучения модели и predict - метод ответственный за предсказание целевой переменной. Многие модели имеют метод predcit_proba, который возвращает вероятность принадлежности объекта к каждому из классов. Как правило, метод fit принимает на вход два аргумента: $X$ - **обучающая** выборка, $y$ - значения целевых переменных на объектах обучающей выборки. Метод predict принимает на вход набор данных и выдает предсказанные значения целевых переменных на этом наборе данных.\n",
        "\n",
        "Более подробно про библиотеку можно прочитать в документации по [ссылке](https://scikit-learn.org/stable/index.html)"
      ]
    },
    {
      "cell_type": "markdown",
      "metadata": {
        "id": "H1XvYI0WY-lW"
      },
      "source": [
        "# Часть 1. Нормализация признакового пространства"
      ]
    },
    {
      "cell_type": "markdown",
      "metadata": {
        "id": "UgilxjGpY-lW"
      },
      "source": [
        "В задачах машинного обучения важную роль играет нормализация данных. Для числовых признаков, как правило, используют два типа нормализации:\n",
        "\n",
        "* Нормализация к распределению с нулевым матожиданием и единичной дисперсией $x := \\frac{x - E(x)}{\\sigma (x)}$, где матожидание $E(x)$ и стандартное отклонение $\\sigma (x)$ считаются по каждому признаку (столбцу) отдельно\n",
        "* Нормализация в отрезок [0, 1] $x := \\frac{x - \\min(x)}{\\max(x) - \\min(x)}$, где минимум и максимум берется по каждому признаку (столбцу) отдельно"
      ]
    },
    {
      "cell_type": "markdown",
      "metadata": {
        "id": "a39M4UM7Y-lY"
      },
      "source": [
        "Рассмотрим пример. Ниже приведены: таблца до нормализации признаков, таблица после нормализации к нулевому матожиданию и единичной дисперсии, таблица после нормализации в отрезок [0, 1]\n",
        "\n",
        "До нормализации \n",
        "\n",
        "| Признак 1   | Признак 2   |\n",
        "| ----------- | ----------- |\n",
        "| 1           | 2           |\n",
        "| 2           | -1          |\n",
        "| 3           | 0           |\n",
        "\n",
        "Нормализация к нулевому матожиданию и единичной дисперсии\n",
        "\n",
        "| Признак 1   | Признак 2   |\n",
        "| ----------- | ----------- |\n",
        "| -1.225      | 1.336       |\n",
        "| 0           | -1.069      |\n",
        "| 1.225       | -0.267      |\n",
        "\n",
        "Нормализация в отрезок [0, 1]\n",
        "\n",
        "| Признак 1   | Признак 2   |\n",
        "| ----------- | ----------- |\n",
        "| 0           | 1           |\n",
        "| 0.5         | 0           |\n",
        "| 1           | 0.333       |"
      ]
    },
    {
      "cell_type": "markdown",
      "metadata": {
        "id": "lImoYvghY-lc"
      },
      "source": [
        "**Задание 1.1** (тесты, 5 баллов) В модуле scalers.py реализуйте два вида нормализации признакового пространства. StandardScaler - нормализация к распределению с нулевым матожиданием и единичной дисперсией, MinMaxScaler - нормализация в отрезок [0, 1].\n",
        "\n",
        "Нормализаторы имеют два метода - метод fit и метод transform. Метод fit получает на вход **обучающую** выборку и считает по ней все необходимые для заданного преобразования статистики. Метод transform преобразует данные, используя статистистики, посчитанные при вызове метода fit."
      ]
    },
    {
      "cell_type": "markdown",
      "metadata": {
        "id": "2uK8BoypY-ld"
      },
      "source": [
        "Положите файл scalers.py в одну директорию с jupyter ноутбуком"
      ]
    },
    {
      "cell_type": "code",
      "metadata": {
        "id": "PJhT4_GMY-le"
      },
      "source": [
        "from scalers import StandardScaler, MinMaxScaler"
      ],
      "execution_count": null,
      "outputs": []
    },
    {
      "cell_type": "code",
      "metadata": {
        "id": "C5Cxrn_MY-lg"
      },
      "source": [
        "import numpy as np\n",
        "import seaborn as sns\n",
        "import pickle\n",
        "\n",
        "from matplotlib import pyplot as plt\n",
        "\n",
        "\n",
        "plt.rcParams[\"figure.figsize\"] = (5,5)"
      ],
      "execution_count": null,
      "outputs": []
    },
    {
      "cell_type": "markdown",
      "metadata": {
        "id": "-ghBdolAY-lg"
      },
      "source": [
        "Загрузим данные в память. В переменной $X$ будут храниться признаковые описания объектов, в переменной $y~-$ метки классов"
      ]
    },
    {
      "cell_type": "code",
      "metadata": {
        "id": "y9x7tIRXY-lh"
      },
      "source": [
        "with open('data.pkl', 'rb') as file:\n",
        "    X, y = pickle.load(file)"
      ],
      "execution_count": null,
      "outputs": []
    },
    {
      "cell_type": "code",
      "metadata": {
        "id": "cARVaWiUY-lh"
      },
      "source": [
        "def plot_data_points(X, labels, xlim, ylim):\n",
        "    g = sns.scatterplot(x=X[:, 0], y=X[:, 1], hue=labels)\n",
        "    g.set(xlim=xlim, ylim=ylim)\n",
        "    plt.xlabel('x')\n",
        "    plt.ylabel('y')\n",
        "    plt.grid()"
      ],
      "execution_count": null,
      "outputs": []
    },
    {
      "cell_type": "markdown",
      "metadata": {
        "id": "-3SndtzLY-li"
      },
      "source": [
        "Визуализируем наши данные"
      ]
    },
    {
      "cell_type": "code",
      "metadata": {
        "colab": {
          "base_uri": "https://localhost:8080/",
          "height": 338
        },
        "id": "jgJ7x-4wY-li",
        "outputId": "6739dd57-6260-48f4-a867-466ac5afe798"
      },
      "source": [
        "plot_data_points(X, y, xlim=(-15, 15), ylim=(-15, 15))"
      ],
      "execution_count": null,
      "outputs": [
        {
          "output_type": "display_data",
          "data": {
            "image/png": "[encoded data removed]",
            "text/plain": [
              "<Figure size 360x360 with 1 Axes>"
            ]
          },
          "metadata": {
            "needs_background": "light"
          }
        }
      ]
    },
    {
      "cell_type": "markdown",
      "metadata": {
        "id": "_eLegFqNY-lk"
      },
      "source": [
        "Как видно, наши данные идеально разделяются прямой $x=0$"
      ]
    },
    {
      "cell_type": "markdown",
      "metadata": {
        "id": "eCrbIYfDY-lk"
      },
      "source": [
        "Функция $plot\\_knn\\_bound$ принимает на вход объекты $X$, метки классов $y$, метод нормализации признаков $scaler$, число соседей $n\\_neighbors$ и границы рисунка $xlim$, $ylim$. Функция обучает $KNN$ классификатор с числом соседей $n\\_neighbors$ и визуализирует разделяющую поверхность для классов, полученную с помощью обученного $KNN$ классификатора.\n",
        "\n",
        "* Если вы не можете различить _выбранные нами цвета_, то измените список цветов в переменных cmap_light и cmap_bold. Актуальный список возможных цветов находится [здесь](https://matplotlib.org/stable/tutorials/colors/colormaps.html)"
      ]
    },
    {
      "cell_type": "code",
      "metadata": {
        "id": "yCuwRJ61Y-ll"
      },
      "source": [
        "from matplotlib.colors import ListedColormap\n",
        "from sklearn import neighbors, datasets\n",
        "\n",
        "def plot_knn_bound(X, y, scaler=None, n_neighbors=10, xlim=(-15, 15), ylim=(-20, 20)):\n",
        "    # step size in the mesh\n",
        "    h = 0.05\n",
        "\n",
        "    # Create color maps\n",
        "    cmap_light = ListedColormap(['C0', 'orange', 'cyan', 'green'][:np.unique(y).shape[0]])\n",
        "    cmap_bold = ['C0', 'orange', 'c', 'darkgreen'][:np.unique(y).shape[0]]\n",
        "    \n",
        "    if np.unique(y).shape[0] > 4:\n",
        "        cmap_bold = sns.color_palette(\"pastel\", n_colors=np.unique(y).shape[0])\n",
        "        cmap_light = sns.color_palette('Pastel1', as_cmap=True)\n",
        "    \n",
        "    x_min, x_max = xlim\n",
        "    y_min, y_max = ylim\n",
        "    xx, yy = np.meshgrid(np.arange(x_min, x_max, h),\n",
        "                         np.arange(y_min, y_max, h))\n",
        "    grid = np.c_[xx.ravel(), yy.ravel()]\n",
        "    \n",
        "    X_scaled = X # if scaler is None\n",
        "    if scaler is not None:\n",
        "        #grid = scaler.transform(grid)\n",
        "        X_scaled = scaler.transform(X)\n",
        "\n",
        "    # we create an instance of Neighbours Classifier and fit the data.\n",
        "    clf = neighbors.KNeighborsClassifier(n_neighbors, algorithm='brute')\n",
        "    clf.fit(X_scaled, y)\n",
        "\n",
        "    Z = clf.predict(grid)\n",
        "\n",
        "    # Put the result into a color plot\n",
        "    Z = Z.reshape(xx.shape)\n",
        "    plt.contourf(xx, yy, Z, cmap=cmap_light)\n",
        "\n",
        "    #     # Plot also the training points\n",
        "    sns.scatterplot(x=X_scaled[:, 0], y=X_scaled[:, 1], hue=y,\n",
        "                palette=cmap_bold, alpha=1.0, edgecolor=\"black\")\n",
        "    plt.xlabel('x')\n",
        "    plt.ylabel('y')\n",
        "    plt.title('Разделющие поверхности алгоритма {}-NN'.format(n_neighbors))\n",
        "    plt.grid()\n",
        "    plt.show()"
      ],
      "execution_count": null,
      "outputs": []
    },
    {
      "cell_type": "markdown",
      "metadata": {
        "id": "-n0QWBjyY-ln"
      },
      "source": [
        "Нарисуем разделющие поверхности $1$-$NN$ и $10$-$NN$"
      ]
    },
    {
      "cell_type": "code",
      "metadata": {
        "scrolled": true,
        "id": "Et0F2lWFY-ln",
        "colab": {
          "base_uri": "https://localhost:8080/",
          "height": 683
        },
        "outputId": "0d5c2b9a-f3e9-4452-d2b7-f5fd5e9380ad"
      },
      "source": [
        "plot_knn_bound(X, y, n_neighbors=1)\n",
        "plot_knn_bound(X, y, n_neighbors=10)"
      ],
      "execution_count": null,
      "outputs": [
        {
          "output_type": "display_data",
          "data": {
            "image/png": "[encoded data removed]",
            "text/plain": [
              "<Figure size 360x360 with 1 Axes>"
            ]
          },
          "metadata": {
            "needs_background": "light"
          }
        },
        {
          "output_type": "display_data",
          "data": {
            "image/png": "[encoded data removed]",
            "text/plain": [
              "<Figure size 360x360 with 1 Axes>"
            ]
          },
          "metadata": {
            "needs_background": "light"
          }
        }
      ]
    },
    {
      "cell_type": "markdown",
      "metadata": {
        "id": "fooWgFPkY-lo"
      },
      "source": [
        "**Задание 1.2** (кросс, 2 балла) Чем отличаются поверхности, полученные при числе соседей 1 и 10? Объясните, чем вызваны данные отличия"
      ]
    },
    {
      "cell_type": "markdown",
      "metadata": {
        "id": "3XZuZ7HoY-lq"
      },
      "source": [
        "При числе соседей равным одному, модель явно недообучается и график проходит ровно посередине двух ближайших соседей. В случае, с 10 соседями ситуация обстоит лучше, т.к. в учет идет уже большее число точек"
      ]
    },
    {
      "cell_type": "markdown",
      "metadata": {
        "id": "cLpg9IwfY-lq"
      },
      "source": [
        "**Задание 1.3** (кросс, 3 балла) Объясните, почему наблюдается сильное отклоенние разделяющей поверхности от прямой $x=0$ при значениях $y < -10$ и $y > 10$"
      ]
    },
    {
      "cell_type": "markdown",
      "metadata": {
        "id": "7Yc4leoeY-lq"
      },
      "source": [
        "При этих условиях недостаточно точек, из-за чего график отклоняется в сторону меньшего количество точек и продолжает двигаться в этом направлении (опять таки, потому что нет точек которые поменяли бы его направление)."
      ]
    },
    {
      "cell_type": "markdown",
      "metadata": {
        "id": "WlV8PLrDY-lr"
      },
      "source": [
        "Данную проблему может решить нормализация признакового пространства. \n",
        "\n",
        "**Задание 1.4** (кросс, 1 балл) Начертите разделяющие поверхности для $KNN$, обученного на нормализованных признаках с помощью реализованных вами нормализаторов. Используйте функцию $plot\\_knn\\_bound$"
      ]
    },
    {
      "cell_type": "code",
      "metadata": {
        "colab": {
          "base_uri": "https://localhost:8080/",
          "height": 350
        },
        "id": "NwuWgp3FY-lr",
        "outputId": "54b9ba22-a7d8-41a2-fbd0-1fa428b18dde"
      },
      "source": [
        "scaler = StandardScaler()\n",
        "scaler.fit(X)\n",
        "#copy_X = scaler.transform(X)\n",
        "plot_knn_bound(X, y, scaler=scaler, n_neighbors=10, xlim=(-3,3), ylim=(-3,3))"
      ],
      "execution_count": null,
      "outputs": [
        {
          "output_type": "display_data",
          "data": {
            "image/png": "[encoded data removed]",
            "text/plain": [
              "<Figure size 360x360 with 1 Axes>"
            ]
          },
          "metadata": {
            "needs_background": "light"
          }
        }
      ]
    },
    {
      "cell_type": "code",
      "metadata": {
        "colab": {
          "base_uri": "https://localhost:8080/",
          "height": 350
        },
        "id": "FkdfiJvjY-lr",
        "outputId": "1d04ae5e-d16a-414e-c4cf-639db5086c30"
      },
      "source": [
        "scaler = MinMaxScaler()\n",
        "scaler.fit(X)\n",
        "#copy_X = scaler.transform(X)\n",
        "plot_knn_bound(X, y, n_neighbors=10, scaler=scaler, xlim=(-0.5,1.5), ylim=(-0.5,1.5))"
      ],
      "execution_count": null,
      "outputs": [
        {
          "output_type": "display_data",
          "data": {
            "image/png": "[encoded data removed]",
            "text/plain": [
              "<Figure size 360x360 with 1 Axes>"
            ]
          },
          "metadata": {
            "needs_background": "light"
          }
        }
      ]
    },
    {
      "cell_type": "markdown",
      "metadata": {
        "id": "u1Uf35VGY-ls"
      },
      "source": [
        "**Задание 1.5** (кросс, 4 балла) Пусть дано произвольное число точек на плоскости. Представим, что каждая точка - это отдельный класс. Пусть на данной выборке был обучен $1$-$NN$ классификатор. Чем с геометрической точки зрения являются раделяющие поверхности этого классификатора? Приведите доказательство для произвольного числа точек\n",
        "\n",
        "В качестве примера ниже представлена визуализация для четырех точек"
      ]
    },
    {
      "cell_type": "code",
      "metadata": {
        "scrolled": true,
        "colab": {
          "base_uri": "https://localhost:8080/",
          "height": 350
        },
        "id": "qm01mLq4Y-ls",
        "outputId": "32d6a741-f10f-4448-f989-fac23d481df2"
      },
      "source": [
        "k = 6\n",
        "X = np.random.randn(k, 2)\n",
        "y = np.arange(k)\n",
        "plot_knn_bound(X, y, n_neighbors=1, xlim=(-3, 3), ylim=(-3, 3))"
      ],
      "execution_count": null,
      "outputs": [
        {
          "output_type": "display_data",
          "data": {
            "image/png": "[encoded data removed]",
            "text/plain": [
              "<Figure size 360x360 with 1 Axes>"
            ]
          },
          "metadata": {
            "needs_background": "light"
          }
        }
      ]
    },
    {
      "cell_type": "markdown",
      "metadata": {
        "id": "MPWtp5vUY-lt"
      },
      "source": [
        "Кривая разделяющая классы представляет собой кривую, которая проходит ровно посередине двух ближайших точек. В качестве доказательства, можно посмотреть как выглядит рисунок при двух точках и увеличении точек.\n",
        "ЗЫ. Функция была изменена, чтобы показывать более чем 4 точки, что сводилось к дополенению цветов. Цветовая палитра ограничена тем, что при большом количестве классов (точек), цвета будут зацикливаться."
      ]
    },
    {
      "cell_type": "markdown",
      "metadata": {
        "id": "MMxGMHgLY-lt"
      },
      "source": [
        "# Часть 2. Кросс-валидация на задаче регрессии"
      ]
    },
    {
      "cell_type": "markdown",
      "metadata": {
        "id": "V64yY0awY-lt"
      },
      "source": [
        "При решении прикладных задач, как правило, доступна лишь обучающая выборка. Для того чтобы иметь возможность оценить качество модели на тестовой выборке, прибегают к методу, называемому кросс-валидация. Пусть зафиксирован некоторый набор параметров модели. В $KNN$ под параметрами могут пониматься число соседей, метрика близости $\\rho$, стратегия выбора весов $w_i$. При кросс-валидации **обучающая** выборка делится на $n$ равных частей (folds). Затем обучаются $n$ моделей с заданными параметрами (у всех моделей параметры одинаковые и фиксированы) - $i$-ая модель обучается на всей обучающей выборке, кроме объектов, которые попали в $i$-ый фолд (out-of-fold). Затем измеряется качество $i$-ой модели на $i$-ом фолде. Так как он не участвовал в обучении этой модели, то полученная оценка качества модели будет являться корректной. Финальным значением метрики качества для модели с заданными параметрами является среднее полученных нами значений на $n$ фолдах.\n",
        "\n",
        "Принцип работы кросс-валидации схематично изображен на рисунке.\n",
        "\n",
        "<img src=\"cross-val.png\" style=\"width: 700px;\">"
      ]
    },
    {
      "cell_type": "markdown",
      "metadata": {
        "id": "WFEAyb8iY-lu"
      },
      "source": [
        "**Задание 2.1** (тест, 10 баллов) В модуле cross\\_val.py реализуйте функции\n",
        "\n",
        "* $kfold\\_split$, которая реализует генерацию индексов обучающей и валидационной выборок для кросс-валидации\n",
        "* $knn\\_cv\\_score$, которая реализует кросс-валидацию для $KNN-$модели"
      ]
    },
    {
      "cell_type": "markdown",
      "metadata": {
        "id": "Pbh3VtCNY-lu"
      },
      "source": [
        "Далее будем решать задачу предсказания цены дома в Бостоне с помощью $KNN$-регрессии. В качестве метрики качества будем использовать $R^2-$score.\n",
        "\n",
        "$R^2(y\\_true, y\\_predict) = 1 - \\frac{\\sum_{i=1}^{n} (y\\_true_i - y\\_predict_i)^2}{\\sum_{i=1}^{n} (y\\_true_i - E(y\\_true))^2}$\n",
        "\n",
        "Наилучшее значение метрики равно $1.0$, метрика может принимать отрицательные значения"
      ]
    },
    {
      "cell_type": "code",
      "metadata": {
        "id": "Mp5KRHk7Y-lv"
      },
      "source": [
        "from sklearn.datasets import load_boston\n",
        "from sklearn.model_selection import train_test_split"
      ],
      "execution_count": null,
      "outputs": []
    },
    {
      "cell_type": "code",
      "metadata": {
        "id": "LxBK1xyHY-lv"
      },
      "source": [
        "X, y = load_boston(return_X_y=True)"
      ],
      "execution_count": null,
      "outputs": []
    },
    {
      "cell_type": "markdown",
      "metadata": {
        "id": "2rGueIdPY-lv"
      },
      "source": [
        "**Задание 2.2** (кросс, 1 балл) Разбейте выборку на обучающую (75%) и тестовую (25%) с помощью функции $train\\_test\\_split$. Используйте параметр **random_state=42!** Не забудьте перемешать данные перед разбиением (см. параметры функции). Запустите кросс-валидацию на 3 фолдах с помощью реализованных вами функций $kfold\\_split$, $knn\\_cv\\_score$. В качестве метрики используйте $r2\\_score$. Параметры для перебора описаны ниже"
      ]
    },
    {
      "cell_type": "code",
      "metadata": {
        "id": "pK9SNNJ2Y-lw"
      },
      "source": [
        "X_train, X_test, y_train, y_test = \\\n",
        "    train_test_split(X, y, train_size=0.75, test_size=0.25, random_state=42, shuffle=True)"
      ],
      "execution_count": null,
      "outputs": []
    },
    {
      "cell_type": "code",
      "metadata": {
        "id": "A-46YlvVY-lw"
      },
      "source": [
        "from sklearn.metrics import r2_score\n",
        "\n",
        "parameters = {\n",
        "    'n_neighbors': [1, 5, 10],\n",
        "    'metrics': ['euclidean', 'cosine'],\n",
        "    'weights': ['uniform', 'distance'],\n",
        "    'normalizers': [(None, 'None'), (MinMaxScaler(), 'MinMax'), (StandardScaler(), 'Standard')]\n",
        "}\n",
        "score_function = r2_score"
      ],
      "execution_count": null,
      "outputs": []
    },
    {
      "cell_type": "markdown",
      "metadata": {
        "id": "zJ1Epu9vY-lw"
      },
      "source": [
        "Положите файл cross_val.py в одну директорию с jupyter ноутбуком"
      ]
    },
    {
      "cell_type": "code",
      "metadata": {
        "scrolled": true,
        "id": "yXEfaZn2Y-lx"
      },
      "source": [
        "from cross_val import kfold_split, knn_cv_score\n",
        "folds = kfold_split(X_train.shape[0], 3)\n",
        "out = knn_cv_score(X_train, y_train, parameters, r2_score, folds, neighbors.KNeighborsRegressor)"
      ],
      "execution_count": null,
      "outputs": []
    },
    {
      "cell_type": "markdown",
      "metadata": {
        "id": "V0zpASfmY-lx"
      },
      "source": [
        "**Задание 2.3** (кросс, 3 балла) Какой наибольший $r2\\_score$ удалось достичь на валидации? Какие закономерности вы видите? Обучите модель с наилучшими параметрами на всей обучающей выборке, измерьте $r2\\_score$ на тестовой выборке."
      ]
    },
    {
      "cell_type": "markdown",
      "metadata": {
        "id": "uOy2ddjGY-lx"
      },
      "source": [
        "Выведите результаты кросс-валидации"
      ]
    },
    {
      "cell_type": "code",
      "metadata": {
        "scrolled": true,
        "colab": {
          "base_uri": "https://localhost:8080/"
        },
        "id": "vYlJEJx4Y-ly",
        "outputId": "72040a89-1389-49cd-b4bb-89d3bfdb353f"
      },
      "source": [
        "for i in out:\n",
        "    print(i, out[i])\n",
        "minval = min([out[i] for i in out])\n",
        "min_key = [k for k, v in out.items() if v==minval]\n",
        "print('Minimal parameters are', min_key, 'with', minval)\n",
        "\n",
        "maxval = max([out[i] for i in out])\n",
        "max_key = [k for k, v in out.items() if v==maxval]\n",
        "print('Maximal parameters are', max_key, 'with', maxval)"
      ],
      "execution_count": null,
      "outputs": [
        {
          "output_type": "stream",
          "name": "stdout",
          "text": [
            "('None', 1, 'euclidean', 'uniform') 0.32798718613907635\n",
            "('None', 1, 'euclidean', 'distance') 0.32798718613907635\n",
            "('None', 1, 'cosine', 'uniform') 0.2706841763263995\n",
            "('None', 1, 'cosine', 'distance') 0.2706841763263995\n",
            "('None', 5, 'euclidean', 'uniform') 0.4073418807077696\n",
            "('None', 5, 'euclidean', 'distance') 0.4618360836998872\n",
            "('None', 5, 'cosine', 'uniform') 0.4562802468921873\n",
            "('None', 5, 'cosine', 'distance') 0.4997134296256324\n",
            "('None', 10, 'euclidean', 'uniform') 0.3670573803440682\n",
            "('None', 10, 'euclidean', 'distance') 0.45453774268456987\n",
            "('None', 10, 'cosine', 'uniform') 0.39658093087459156\n",
            "('None', 10, 'cosine', 'distance') 0.5061782278218225\n",
            "('MinMax', 1, 'euclidean', 'uniform') 0.7344964889354086\n",
            "('MinMax', 1, 'euclidean', 'distance') 0.7344964889354086\n",
            "('MinMax', 1, 'cosine', 'uniform') 0.7081216443149292\n",
            "('MinMax', 1, 'cosine', 'distance') 0.7081216443149292\n",
            "('MinMax', 5, 'euclidean', 'uniform') 0.6399943793812412\n",
            "('MinMax', 5, 'euclidean', 'distance') 0.7244799982110554\n",
            "('MinMax', 5, 'cosine', 'uniform') 0.6558946722812921\n",
            "('MinMax', 5, 'cosine', 'distance') 0.7796865778593013\n",
            "('MinMax', 10, 'euclidean', 'uniform') 0.6009208884799008\n",
            "('MinMax', 10, 'euclidean', 'distance') 0.6869036512217258\n",
            "('MinMax', 10, 'cosine', 'uniform') 0.5973983970226069\n",
            "('MinMax', 10, 'cosine', 'distance') 0.7544603618556215\n",
            "('Standard', 1, 'euclidean', 'uniform') 0.725408060561064\n",
            "('Standard', 1, 'euclidean', 'distance') 0.725408060561064\n",
            "('Standard', 1, 'cosine', 'uniform') 0.6900216988966831\n",
            "('Standard', 1, 'cosine', 'distance') 0.6900216988966831\n",
            "('Standard', 5, 'euclidean', 'uniform') 0.7100596554826127\n",
            "('Standard', 5, 'euclidean', 'distance') 0.7656098081951074\n",
            "('Standard', 5, 'cosine', 'uniform') 0.7008795169569725\n",
            "('Standard', 5, 'cosine', 'distance') 0.7787085035934461\n",
            "('Standard', 10, 'euclidean', 'uniform') 0.7112611078504086\n",
            "('Standard', 10, 'euclidean', 'distance') 0.7535025257684141\n",
            "('Standard', 10, 'cosine', 'uniform') 0.7102836529054194\n",
            "('Standard', 10, 'cosine', 'distance') 0.779099574702129\n",
            "Minimal parameters are [('None', 1, 'cosine', 'uniform'), ('None', 1, 'cosine', 'distance')] with 0.2706841763263995\n",
            "Maximal parameters are [('MinMax', 5, 'cosine', 'distance')] with 0.7796865778593013\n"
          ]
        }
      ]
    },
    {
      "cell_type": "markdown",
      "metadata": {
        "id": "QnuUz6wQY-l0"
      },
      "source": [
        "Наихудшея оценка получается при параметрах ('None', 1, 'cosine', 'uniform'), ('None', 1, 'cosine', 'distance'), а лучшая при параметрах ('MinMax', 5, 'cosine', 'distance') c оценкой ~0.78. Использование какой-либо нормализации, как правило, улучшает оценку. Нормализация Standard для данных данных немного лучше чем MinMax. Выбор 'distance' предпочтительнее чем 'uniform'. При n=1 модель недообучается, а при n=10 переобучается."
      ]
    },
    {
      "cell_type": "markdown",
      "metadata": {
        "id": "WI53Lf-sY-l0"
      },
      "source": [
        "Обучите модель с лучшими по валидации параметрами на обучающей выборке"
      ]
    },
    {
      "cell_type": "code",
      "metadata": {
        "scrolled": true,
        "colab": {
          "base_uri": "https://localhost:8080/"
        },
        "id": "tTLch3_0Y-l1",
        "outputId": "20b56921-9735-4700-e8b5-736909e90744"
      },
      "source": [
        "# тут обучим модель на всей обучающей выборке и проверим на тестовой\n",
        "scaler = MinMaxScaler()\n",
        "scaler.fit(X_train)\n",
        "X_train_copy = scaler.transform(X_train)\n",
        "X_test_copy = scaler.transform(X_test)\n",
        "neigh = neighbors.KNeighborsRegressor(n_neighbors = 5, weights = 'distance', metric = 'cosine')\n",
        "neigh.fit(X_train_copy, y_train)\n",
        "y_predict = neigh.predict(X_test_copy)\n",
        "score = r2_score(y_test, y_predict)\n",
        "print(score)"
      ],
      "execution_count": null,
      "outputs": [
        {
          "output_type": "stream",
          "name": "stdout",
          "text": [
            "0.7444270853336878\n"
          ]
        }
      ]
    },
    {
      "cell_type": "markdown",
      "metadata": {
        "id": "JhWL4AjrY-l2"
      },
      "source": [
        "# Часть 3. Работа с текстовыми данными"
      ]
    },
    {
      "cell_type": "markdown",
      "metadata": {
        "id": "1hA47PbUY-l3"
      },
      "source": [
        "Далее будем решать задачу классификации новостного текста к одному из 20 классов, каждый класс соответствует определенной новостной тематике. В качестве метрики качества будем использовать $accuracy\\_score$. Accuracy - это доля верно классифицированных объектов, среди всех объектов выборки."
      ]
    },
    {
      "cell_type": "code",
      "metadata": {
        "id": "XayFKlawY-l3"
      },
      "source": [
        "from sklearn.datasets import fetch_20newsgroups\n",
        "from sklearn.feature_extraction.text import CountVectorizer, TfidfVectorizer"
      ],
      "execution_count": null,
      "outputs": []
    },
    {
      "cell_type": "code",
      "metadata": {
        "id": "KAb0OFI3Y-l4",
        "colab": {
          "base_uri": "https://localhost:8080/"
        },
        "outputId": "6e32590a-8db5-4f9c-8524-22c63e12256f"
      },
      "source": [
        "X_train, y_train = fetch_20newsgroups(subset='train', return_X_y=True, random_state=42)\n",
        "X_test, y_test = fetch_20newsgroups(subset='test', return_X_y=True, random_state=42)\n",
        "X_train = np.array(X_train)\n",
        "X_test = np.array(X_test)\n",
        "y_train = np.array(y_train)\n",
        "y_test = np.array(y_test)"
      ],
      "execution_count": null,
      "outputs": [
        {
          "output_type": "stream",
          "name": "stderr",
          "text": [
            "Downloading 20news dataset. This may take a few minutes.\n",
            "Downloading dataset from https://ndownloader.figshare.com/files/5975967 (14 MB)\n"
          ]
        }
      ]
    },
    {
      "cell_type": "code",
      "metadata": {
        "colab": {
          "base_uri": "https://localhost:8080/"
        },
        "id": "FWz-SobaY-l4",
        "outputId": "19ff4f0f-5697-4807-bd4a-dc7736ce24d4"
      },
      "source": [
        "print(X_train[0])"
      ],
      "execution_count": null,
      "outputs": [
        {
          "output_type": "stream",
          "name": "stdout",
          "text": [
            "From: lerxst@wam.umd.edu (where's my thing)\n",
            "Subject: WHAT car is this!?\n",
            "Nntp-Posting-Host: rac3.wam.umd.edu\n",
            "Organization: University of Maryland, College Park\n",
            "Lines: 15\n",
            "\n",
            " I was wondering if anyone out there could enlighten me on this car I saw\n",
            "the other day. It was a 2-door sports car, looked to be from the late 60s/\n",
            "early 70s. It was called a Bricklin. The doors were really small. In addition,\n",
            "the front bumper was separate from the rest of the body. This is \n",
            "all I know. If anyone can tellme a model name, engine specs, years\n",
            "of production, where this car is made, history, or whatever info you\n",
            "have on this funky looking car, please e-mail.\n",
            "\n",
            "Thanks,\n",
            "- IL\n",
            "   ---- brought to you by your neighborhood Lerxst ----\n",
            "\n",
            "\n",
            "\n",
            "\n",
            "\n"
          ]
        }
      ]
    },
    {
      "cell_type": "markdown",
      "metadata": {
        "id": "KV7wZD7fY-l5"
      },
      "source": [
        "Как мы видим, объектами обучающей выборки являются тексты. Сырые текстовые данные не могут служить обучающими примерами для алгоритма $KNN$. Перед использованием $KNN$ текстовые данные переменной длины необходимо отобразить в метрическое пространство фиксированной размерности.\n",
        "\n",
        "Работа с текстовыми данными проходит в несколько этапов.\n",
        "\n",
        "* **Токенизация.** Текстовая строка делится на токены. Как правило, в качестве токенов выступают отдельные слова и знаки препинания.\n",
        "\n",
        "* **Нормализация.** Приведение к нижнему регистру, удаление стоп-слов, удаление пунктуации, удаление редких и частотных слов и т.д.\n",
        "\n",
        "* **Векторизация.** Фиксируется словарь токенов $V$ по **обучающей** выборке. Текст представлется в виде вектора длиной $|V|$, где каждый признак есть функция от частоты встречаемости токена в тексте и в обучающей выборке.\n",
        "\n",
        "В данном задании будет использовано два вида векторизации. Первый, $CountVectorizer$, сопоставляет каждому токену частоту встречаемости этого токена в тексте документа. Второй, $TfidfVectorizer$, сопоставляет каждому токену частоту встречаемости этого токена в тексте документа умноженную на величину обратно пропорциональную частоте встречаемости токена во всех документах **обучающей** выборки. Подробне про $tf-idf$ можно прочитать [здесь](https://ru.wikipedia.org/wiki/TF-IDF)."
      ]
    },
    {
      "cell_type": "markdown",
      "metadata": {
        "id": "bpqGuRFXY-l6"
      },
      "source": [
        "В sklearn все векторизаторы автоматически токенизируют текст и приводят его к нижнему регистру. Параметры $max\\_df$ и $min\\_df$ позволяют убрать из словаря наиболее частые и наиболее редкие токены. Параметр $stop\\_words$ позволяет убрать из словаря стоп-слова (малоинформативные слова для данного языка, например, союзы)."
      ]
    },
    {
      "cell_type": "code",
      "metadata": {
        "id": "kyotlDJOY-l8"
      },
      "source": [
        "count_vec = CountVectorizer(max_df=0.8, min_df=10, stop_words='english')\n",
        "tf_idf = TfidfVectorizer(max_df=0.8, min_df=10, stop_words='english')"
      ],
      "execution_count": null,
      "outputs": []
    },
    {
      "cell_type": "markdown",
      "metadata": {
        "id": "j8YWMP0GY-l8"
      },
      "source": [
        "**Задание 3.1** (кросс, 2 балла) Найдите оптимальные параметры обучения модели. Осуществлять перебор параметров следует по заданной ниже сетке. Используйте реализованные вами функции $kfold\\_split$, $knn\\_cv\\_score$. В качестве метрики используйте $accuracy\\_score$."
      ]
    },
    {
      "cell_type": "code",
      "metadata": {
        "id": "j4djewKXY-l9"
      },
      "source": [
        "from sklearn.metrics import accuracy_score\n",
        "\n",
        "parameters = {\n",
        "    'n_neighbors': [i for i in range(1, 11)],\n",
        "    'metrics': ['euclidean', 'cosine'],\n",
        "    'weights': ['uniform', 'distance'],\n",
        "    'normalizers': [(count_vec, 'CountVectorizer'), (tf_idf, 'TfidfVectorizer')]\n",
        "}"
      ],
      "execution_count": null,
      "outputs": []
    },
    {
      "cell_type": "code",
      "metadata": {
        "id": "n-BRjLz9Y-l9"
      },
      "source": [
        "from cross_val import kfold_split, knn_cv_score\n",
        "folds = kfold_split(X_train.shape[0], 3)\n",
        "out = knn_cv_score(X_train, y_train, parameters, accuracy_score, folds, neighbors.KNeighborsClassifier)"
      ],
      "execution_count": null,
      "outputs": []
    },
    {
      "cell_type": "markdown",
      "metadata": {
        "id": "HCw2Aus3Y-l-"
      },
      "source": [
        "**Задание 3.2** (кросс, 2 балла) Какой метод предобработки данных в среднем дает наилучший результат? Почему?"
      ]
    },
    {
      "cell_type": "code",
      "metadata": {
        "id": "1EI2KVPuY-l_",
        "colab": {
          "base_uri": "https://localhost:8080/"
        },
        "outputId": "7e30db97-db60-4ed2-ec0a-0bb45e684834"
      },
      "source": [
        "count_vec = []\n",
        "tfidf_vec = []\n",
        "for i in out:\n",
        "  if 'CountVectorizer' in i:\n",
        "    count_vec.append(out[i])\n",
        "  else:\n",
        "    tfidf_vec.append(out[i])\n",
        "count_vec_mean = np.mean(count_vec)\n",
        "tfidf_vec_mean = np.mean(tfidf_vec)\n",
        "print(\"CountVectorizer:\", count_vec_mean)\n",
        "print(\"TfidfVectorizer:\", tfidf_vec_mean)"
      ],
      "execution_count": null,
      "outputs": [
        {
          "output_type": "stream",
          "name": "stdout",
          "text": [
            "CountVectorizer: 0.6222374409914588\n",
            "TfidfVectorizer: 0.760506679854509\n"
          ]
        }
      ]
    },
    {
      "cell_type": "markdown",
      "metadata": {
        "id": "l3JlfenBY-l_"
      },
      "source": [
        "TfidfVectorizer дает лучший результат, так как он оценивает токены не только относительно одного документа, но и относительно всей выборки в целом, поощряя уникальные токены, что правильно, ведь именно они определяют о чем идет речь в тексте"
      ]
    },
    {
      "cell_type": "markdown",
      "metadata": {
        "id": "AS4f91NZY-l_"
      },
      "source": [
        "**Задание 3.3** (кросс, 2 балла) Какая метрика близости позволяет в среднем достичь наилучшее качество? Почему?"
      ]
    },
    {
      "cell_type": "code",
      "metadata": {
        "id": "ppu0HmQkY-l_",
        "colab": {
          "base_uri": "https://localhost:8080/"
        },
        "outputId": "09e0f0a2-b4ff-4a31-a086-0c37c8fe1591"
      },
      "source": [
        "euclidean = []\n",
        "cosine = []\n",
        "for i in out:\n",
        "  if 'euclidean' in i:\n",
        "    euclidean.append(out[i])\n",
        "  else:\n",
        "    cosine.append(out[i])\n",
        "euclidean_mean = np.mean(euclidean)\n",
        "cosine_mean = np.mean(cosine)\n",
        "print(\"Euclidean:\", euclidean_mean)\n",
        "print(\"Cosine:\", cosine_mean)"
      ],
      "execution_count": null,
      "outputs": [
        {
          "output_type": "stream",
          "name": "stdout",
          "text": [
            "Euclidean: 0.6319266303351873\n",
            "Cosine: 0.7508174905107807\n"
          ]
        }
      ]
    },
    {
      "cell_type": "markdown",
      "metadata": {
        "id": "IEb4_p6HY-l_"
      },
      "source": [
        "Метрика cosine дате лучший результат, так как игнорирует величину текста, что действительно никак не влияет на тематику текста."
      ]
    },
    {
      "cell_type": "markdown",
      "metadata": {
        "id": "z6FvPDNiY-mA"
      },
      "source": [
        "**Задание 3.4** (кросс, 2 балла) Начертите график зависимости метрики качества от числа соседей. Метрику следует усреднить по всем параматрам, кроме числа соседей. Сделайте выводы о наблюдаемых зависимостях (возможно будет полезным ознакомиться с названиями классов)"
      ]
    },
    {
      "cell_type": "code",
      "metadata": {
        "id": "D8IaZ9_GY-mA",
        "colab": {
          "base_uri": "https://localhost:8080/",
          "height": 337
        },
        "outputId": "08e2a904-7e59-4509-b29e-b7739fda6c31"
      },
      "source": [
        "means = dict()\n",
        "for i in out:\n",
        "  if i[1] not in means:\n",
        "    means[i[1]] = out[i]\n",
        "  else:\n",
        "    means[i[1]] += out[i]\n",
        "for i in means:\n",
        "  means[i] /= 8\n",
        "plt.plot(list(means.keys()), list(means.values()))"
      ],
      "execution_count": null,
      "outputs": [
        {
          "output_type": "execute_result",
          "data": {
            "text/plain": [
              "[<matplotlib.lines.Line2D at 0x7fb4d5c4b190>]"
            ]
          },
          "metadata": {},
          "execution_count": 26
        },
        {
          "output_type": "display_data",
          "data": {
            "image/png": "[encoded data removed]",
            "text/plain": [
              "<Figure size 360x360 with 1 Axes>"
            ]
          },
          "metadata": {
            "needs_background": "light"
          }
        }
      ]
    },
    {
      "cell_type": "markdown",
      "metadata": {
        "id": "UYdF_zXtY-mA"
      },
      "source": [
        "С увеличением числа соседей в модели идет спад вниз из-за того, что модель переобучается, то есть вместо того, чтобы находить зависимости, она запоминает вектора."
      ]
    },
    {
      "cell_type": "markdown",
      "metadata": {
        "id": "g9mz3UauY-mA"
      },
      "source": [
        "**Задание 3.5** (кросс, 3 балла) Оцените точность вашей лучшей модели на тестовой части датасета. Отличается ли оно от качества, полученного на кросс-валидации? Почему?"
      ]
    },
    {
      "cell_type": "code",
      "metadata": {
        "id": "FCZjEa2ZY-mB",
        "colab": {
          "base_uri": "https://localhost:8080/"
        },
        "outputId": "7f009c21-1e29-426a-d6e5-c74ae24adf6a"
      },
      "source": [
        "maxval = max([out[i] for i in out])\n",
        "max_key = [k for k, v in out.items() if v==maxval]\n",
        "print('Maximal parameters are', max_key, 'with', maxval)"
      ],
      "execution_count": null,
      "outputs": [
        {
          "output_type": "stream",
          "name": "stdout",
          "text": [
            "Maximal parameters are [('TfidfVectorizer', 4, 'cosine', 'distance')] with 0.7822165473911665\n"
          ]
        }
      ]
    },
    {
      "cell_type": "code",
      "metadata": {
        "colab": {
          "base_uri": "https://localhost:8080/"
        },
        "id": "8xCCaARGTlkG",
        "outputId": "e245e79a-d9d3-4e31-d1f4-68457df4f86b"
      },
      "source": [
        "scaler = TfidfVectorizer()\n",
        "scaler.fit(X_train)\n",
        "X_train_copy = scaler.transform(X_train)\n",
        "X_test_copy = scaler.transform(X_test)\n",
        "neigh = neighbors.KNeighborsClassifier(n_neighbors = 4, weights = 'distance', metric = 'cosine')\n",
        "neigh.fit(X_train_copy, y_train)\n",
        "y_predict = neigh.predict(X_test_copy)\n",
        "score = accuracy_score(y_test, y_predict)\n",
        "print(score)"
      ],
      "execution_count": null,
      "outputs": [
        {
          "output_type": "stream",
          "name": "stdout",
          "text": [
            "0.6865374402549124\n"
          ]
        }
      ]
    },
    {
      "cell_type": "markdown",
      "metadata": {
        "id": "eieEKJoeY-mB"
      },
      "source": [
        "Оценка, хуже, а все потому, что кросс-валидация по сути создала 3 модели, обученные на данных разделенных 75/25, что и улучшило показатель. В то время как эта модель создала лишь одну на выборке, разделенной 75/25, из-за чего и хуже результат."
      ]
    },
    {
      "cell_type": "markdown",
      "metadata": {
        "id": "tcX_GoS0Y-mB"
      },
      "source": [
        "**(!)** А теперь перезапустите ноутбук: Kernel -> Restart & Run All"
      ]
    }
  ]
}