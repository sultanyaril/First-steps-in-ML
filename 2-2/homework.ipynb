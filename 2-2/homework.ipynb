{
 "cells": [
  {
   "cell_type": "markdown",
   "metadata": {
    "collapsed": true,
    "id": "B4G7rk3SShf2",
    "pycharm": {
     "name": "#%% md\n"
    }
   },
   "source": [
    "# Курс по машинному обучению,   ВМК МГУ\n",
    "## Градиентный бустинг деревьев"
   ]
  },
  {
   "cell_type": "markdown",
   "metadata": {
    "id": "tK-h_ByJShf4"
   },
   "source": [
    "### Важно! О формате сдачи\n",
    "\n",
    "* **Практически все выделенные задания из ноутбука оцениваются по системе <font color='red'>кросс-рецензирования</font>. Задания, в котором надо реализовать свой код и послать в систему, выделены здесь и в pdf отдельно**\n",
    "* **В этом ноутбуке есть задание на ML-решение**\n",
    "* **При решении ноутбука используйте данный шаблон. Не нужно удалять текстовые ячейки c разметкой частей ноутбука и формулировками заданий. Добавлять свои ячейки, при необходимости, конечно можно**\n",
    "* **Везде, где в формулровке задания есть какой-либо вопрос (или просьба вывода), необходимо прописать ответ в ячейку (код или markdown).**\n",
    "* **Наличие кода решения обязательно. Письменные ответы на вопросы без сопутствующего кода оцениваются в 0 баллов.**"
   ]
  },
  {
   "cell_type": "markdown",
   "metadata": {
    "id": "SAqazm5UShf5"
   },
   "source": [
    "**А также..**\n",
    "\n",
    "Если в ячейке написана фраза \"Вывод\"/\"Ответ на вопрос\" итд, то ожидается ответ в виде текста (можете добавить ячейки с кодом, если считаете это необходимым, но это необязательно). Если в ячейке написано \"Your code here\", то ожидается ответ в виде кода (можете добавить ячейки с кодом, если считаете это необходимым, но это необязательно). Если есть и ячейка с фразой \"Вывод\", и ячейка с фразой \"Your code here\", то в ответе ожидается и код, и текст)"
   ]
  },
  {
   "cell_type": "markdown",
   "metadata": {
    "id": "oexxloJ5Shf6"
   },
   "source": [
    "__В этом задании вы..:__\n",
    "\n",
    "- Познакомитесь с несколькими новыми библиотеками машинного обучения\n",
    "- Сравните между собой разные реализации градиентных бустингов\n",
    "- Примените все полученные знания для получения лучшего скора на датасете фильмов"
   ]
  },
  {
   "cell_type": "markdown",
   "metadata": {
    "id": "X6VShSCVShf6"
   },
   "source": [
    "\n",
    "\n",
    "\n",
    "## Введение\n",
    "\n",
    "Привет, ребятушки!\n",
    "\n",
    "Сегодня мы с вами будем решать очень важную задачу, а именно оценивать цену поддержанных автомобилей в ряде стран. Делать мы это будем с помощью различных методов градиентного бустинга. Мы с вами узнаем, что в мире существует не только sklearn, и что существуют библиотеки, облегчающие нам задачу поиска оптимальных параметров для моделей.\n",
    "\n",
    "**Внимание! Во всех заданиях в качестве целевой метрики используется MAE (средняя абсолютная ошибка).** Значение MAE вычисляется как\n",
    "\n",
    "$$\n",
    "  MAE = \\sum_{i = 1}^N\\dfrac{|a(x_i) - y_i|}{N},\n",
    "$$\n",
    "\n",
    "где $N$ - число объектов в тестовой выборке, $x_i$ - вектор признаков i-го объекта, $a(x_i)$ - предсказание на i-ом объекте, $y_i$ - значение целевого признака на i-м объекте."
   ]
  },
  {
   "cell_type": "markdown",
   "metadata": {
    "id": "BsSySCTOShf7",
    "pycharm": {
     "name": "#%% md\n"
    }
   },
   "source": [
    "## Установка дополнительных библиотек.\n",
    "\n",
    "В этом задании нам понадобятся три бибиотеки, которыми вы ранее не пользовались в этом курсе, а именно:\n",
    "\n",
    "**XGBoost**: Документация [здесь](https://xgboost.readthedocs.io/en/stable/).<br />\n",
    "**LightGBM**: Документация [здесь](https://lightgbm.readthedocs.io/en/latest/index.html). Также дополнительно про установку [тут](https://pypi.org/project/lightgbm/).<br />\n",
    "**Catboost**: Документация [здесь](https://catboost.ai/en/docs/). Можно найти также некоторую информацию на русском [тут](https://habr.com/ru/company/otus/blog/527554/).<br />\n",
    "**HyperOpt**: Документация [здесь](http://hyperopt.github.io/hyperopt/). <br />\n",
    "\n",
    "Все библиотеки легко ставятся через pip (либо альтернативные установщики вроде conda).\n"
   ]
  },
  {
   "cell_type": "markdown",
   "metadata": {
    "id": "3SODVx0bShf8",
    "pycharm": {
     "name": "#%% md\n"
    }
   },
   "source": [
    "## Как правильно перебирать параметры\n",
    "\n",
    "В этом ноутбуке мы будем несколько раз заниматься поиском оптимальных параметров для градиентного бустинга, перебирая задания по заданной сетке. В этом задании от Вас не будет требоваться найти самые лучшие параметры, но всё равно важно правильно составлять сетку для перебора. Для этого нужно понимать суть параметров и их смысл.\n",
    "\n",
    "\n",
    "\n",
    "**learning_rate** -- темп обучения нашего метода. Для этого метода сетка перебора должна быть логарифмической, т.е. перебирать порядковые значения (к примеру, [1e-3, 1e-2, 1e-1, 1]). В большинстве случаев достаточно перебрать значения от 1e-5 до 1.<br />\n",
    "**max_depth** -- максимальная глубина деревьев в ансамбле. Вообще говоря, эта величина зависит от числа признаков, но обычно лучше растить небольшие деревья. К примеру, библиотека CatBoost, которую мы будем исследовать сегодня, рекомендует перебирать значения до 10 (и уточняется, что обычно оптимальная глубина лежит от 6 до 10).<br />\n",
    "**n_estimators** -- количество деревьев в ансамбле. Обычно стоит перебирать с каким-то крупным шагом (можно по логарифмической сетке). Здесь важно найти баланс между производительностью, временем обучения и качеством. Обычно нескольких тысяч деревьев бывает достаточно.<br />\n",
    "\n",
    "Учтите, что в реальных задачах необходимо следить за тем, что оптимальные значения параметров не попадают на границы интервалов, т.е. что вы нашли хотя бы локальный минимум. Если Вы перебрали значения параметра от 1 до 10 и оказалось, что 10 - оптимальное значение, значит следует перебрать и бОльшие числа, чтобы убедиться, что качество не улучшается дальше (или по крайней мере убедиться, что рост качества сильно замедляется и на сильное улучшения рассчитывать не стоит.\n"
   ]
  },
  {
   "cell_type": "markdown",
   "metadata": {
    "id": "mIfsngPGShf8"
   },
   "source": [
    "## Подготовка датасета\n",
    "\n",
    "Все библиотеки, используемые сегодня, мы будем проверять на одних и тех же параметрах: n_estimators=1000, max_depth=5, learning_rate=0.1. Таким образом мы устанавливаем, соответственно, число деревьев в ансамбле равным 1000, ограничиваем максимальную глубину деревьев 5 и устанавливаем темп обучения равным 0.1. Создадим сразу словарь, чтобы передавать эти параметры создаваемым регрессорам (если вдруг не знали, словарь можно передавать как параметры, поставив перед ним **).\n",
    "\n",
    "Эти параметры мы вынесем в отдельную переменную `test_parameters`.\n",
    "\n",
    "<span style=\"color:red\">Загрузите датасет, с которым мы будем работать. Его можно найти на платформе cv-gml.ru, в задании `Град. бустинг (ML)`, по ссылке `Дополнительные файлы для решения`. Если Вы решите сохранить этот файл не рядом с ноутбуком, Вы можете исправить путь к этому файлу во второй ячейке ноутбука (в строке с `read_csv`).</span>\n",
    "\n",
    "При желании можно почитать про этот датасет на платформе kaggle: [ссылка на данные](https://www.kaggle.com/bushnag/cars-in-the-middle-east?select=dataframe_YesIndex_YesHeader_C.csv). <span style=\"color:red\"> Не скачивайте датасет из kaggle для выполнения ноутбука, поскольку его могут изменить.</span> Нас интересует файл dataframe_YesIndex_YesHeader_C.csv, поскольку он уже хорошо предобработан (хотя, конечно, датасаентисты должны сами уметь это делать, но ладно).\n",
    "Давайте попробуем загрузить датасет в память и посмотреть, как он выглядит."
   ]
  },
  {
   "cell_type": "code",
   "execution_count": 1,
   "metadata": {
    "id": "bKPimwUFShf9",
    "pycharm": {
     "name": "#%%\n"
    }
   },
   "outputs": [],
   "source": [
    "%matplotlib inline\n",
    "from sklearn.ensemble import GradientBoostingRegressor\n",
    "from sklearn.model_selection import train_test_split, GridSearchCV, cross_val_score\n",
    "from sklearn.metrics import mean_absolute_error, make_scorer\n",
    "\n",
    "from hyperopt import hp, tpe, Trials\n",
    "from hyperopt.fmin import fmin\n",
    "from hyperopt.pyll import scope\n",
    "\n",
    "from xgboost import XGBRegressor\n",
    "\n",
    "from lightgbm import LGBMRegressor\n",
    "\n",
    "from catboost import CatBoostRegressor\n",
    "\n",
    "import matplotlib.pyplot as plt\n",
    "\n",
    "import pandas as pd\n",
    "\n",
    "import numpy as np\n",
    "\n",
    "import time"
   ]
  },
  {
   "cell_type": "code",
   "execution_count": 2,
   "metadata": {
    "colab": {
     "base_uri": "https://localhost:8080/",
     "height": 629
    },
    "id": "XsZM7eWYShf-",
    "outputId": "ebd702c5-5eeb-40fe-e217-08298d8b3b12",
    "pycharm": {
     "name": "#%%\n"
    }
   },
   "outputs": [
    {
     "data": {
      "text/html": [
       "<div>\n",
       "<style scoped>\n",
       "    .dataframe tbody tr th:only-of-type {\n",
       "        vertical-align: middle;\n",
       "    }\n",
       "\n",
       "    .dataframe tbody tr th {\n",
       "        vertical-align: top;\n",
       "    }\n",
       "\n",
       "    .dataframe thead th {\n",
       "        text-align: right;\n",
       "    }\n",
       "</style>\n",
       "<table border=\"1\" class=\"dataframe\">\n",
       "  <thead>\n",
       "    <tr style=\"text-align: right;\">\n",
       "      <th></th>\n",
       "      <th>Engine Capacity</th>\n",
       "      <th>Cylinders</th>\n",
       "      <th>Drive Type</th>\n",
       "      <th>Fuel Tank Capacity</th>\n",
       "      <th>Fuel Economy</th>\n",
       "      <th>Fuel Type</th>\n",
       "      <th>Horsepower</th>\n",
       "      <th>Torque</th>\n",
       "      <th>Transmission</th>\n",
       "      <th>Top Speed</th>\n",
       "      <th>...</th>\n",
       "      <th>Acceleration</th>\n",
       "      <th>Length</th>\n",
       "      <th>Width</th>\n",
       "      <th>Height</th>\n",
       "      <th>Wheelbase</th>\n",
       "      <th>Trunk Capacity</th>\n",
       "      <th>name</th>\n",
       "      <th>price</th>\n",
       "      <th>currency</th>\n",
       "      <th>Country</th>\n",
       "    </tr>\n",
       "  </thead>\n",
       "  <tbody>\n",
       "    <tr>\n",
       "      <th>0</th>\n",
       "      <td>1.2</td>\n",
       "      <td>3</td>\n",
       "      <td>0</td>\n",
       "      <td>42.0</td>\n",
       "      <td>4.9</td>\n",
       "      <td>0</td>\n",
       "      <td>76</td>\n",
       "      <td>100.0</td>\n",
       "      <td>0</td>\n",
       "      <td>170</td>\n",
       "      <td>...</td>\n",
       "      <td>14.0</td>\n",
       "      <td>4.245</td>\n",
       "      <td>1.670</td>\n",
       "      <td>1.515</td>\n",
       "      <td>2.550</td>\n",
       "      <td>450.0</td>\n",
       "      <td>Mitsubishi Attrage 2021 1.2 GLX (Base)</td>\n",
       "      <td>34099.0</td>\n",
       "      <td>0</td>\n",
       "      <td>0</td>\n",
       "    </tr>\n",
       "    <tr>\n",
       "      <th>1</th>\n",
       "      <td>1.2</td>\n",
       "      <td>3</td>\n",
       "      <td>0</td>\n",
       "      <td>42.0</td>\n",
       "      <td>4.9</td>\n",
       "      <td>0</td>\n",
       "      <td>76</td>\n",
       "      <td>100.0</td>\n",
       "      <td>0</td>\n",
       "      <td>170</td>\n",
       "      <td>...</td>\n",
       "      <td>14.0</td>\n",
       "      <td>4.245</td>\n",
       "      <td>1.670</td>\n",
       "      <td>1.515</td>\n",
       "      <td>2.550</td>\n",
       "      <td>450.0</td>\n",
       "      <td>Mitsubishi Attrage 2021 1.2 GLX (Base)</td>\n",
       "      <td>34099.0</td>\n",
       "      <td>0</td>\n",
       "      <td>0</td>\n",
       "    </tr>\n",
       "    <tr>\n",
       "      <th>2</th>\n",
       "      <td>1.4</td>\n",
       "      <td>4</td>\n",
       "      <td>0</td>\n",
       "      <td>45.0</td>\n",
       "      <td>6.3</td>\n",
       "      <td>0</td>\n",
       "      <td>75</td>\n",
       "      <td>118.0</td>\n",
       "      <td>1</td>\n",
       "      <td>156</td>\n",
       "      <td>...</td>\n",
       "      <td>16.0</td>\n",
       "      <td>3.864</td>\n",
       "      <td>1.716</td>\n",
       "      <td>1.721</td>\n",
       "      <td>2.513</td>\n",
       "      <td>2800.0</td>\n",
       "      <td>Fiat Fiorino 2021 1.4L Standard</td>\n",
       "      <td>41250.0</td>\n",
       "      <td>0</td>\n",
       "      <td>0</td>\n",
       "    </tr>\n",
       "    <tr>\n",
       "      <th>3</th>\n",
       "      <td>1.6</td>\n",
       "      <td>4</td>\n",
       "      <td>0</td>\n",
       "      <td>50.0</td>\n",
       "      <td>6.4</td>\n",
       "      <td>0</td>\n",
       "      <td>102</td>\n",
       "      <td>145.0</td>\n",
       "      <td>0</td>\n",
       "      <td>180</td>\n",
       "      <td>...</td>\n",
       "      <td>11.0</td>\n",
       "      <td>4.354</td>\n",
       "      <td>1.994</td>\n",
       "      <td>1.529</td>\n",
       "      <td>2.635</td>\n",
       "      <td>510.0</td>\n",
       "      <td>Renault Symbol 2021 1.6L PE</td>\n",
       "      <td>44930.0</td>\n",
       "      <td>0</td>\n",
       "      <td>0</td>\n",
       "    </tr>\n",
       "    <tr>\n",
       "      <th>4</th>\n",
       "      <td>1.5</td>\n",
       "      <td>4</td>\n",
       "      <td>0</td>\n",
       "      <td>48.0</td>\n",
       "      <td>5.8</td>\n",
       "      <td>0</td>\n",
       "      <td>112</td>\n",
       "      <td>150.0</td>\n",
       "      <td>0</td>\n",
       "      <td>170</td>\n",
       "      <td>...</td>\n",
       "      <td>10.9</td>\n",
       "      <td>4.314</td>\n",
       "      <td>1.809</td>\n",
       "      <td>1.624</td>\n",
       "      <td>2.585</td>\n",
       "      <td>448.0</td>\n",
       "      <td>MG ZS 2021 1.5L STD</td>\n",
       "      <td>57787.0</td>\n",
       "      <td>0</td>\n",
       "      <td>0</td>\n",
       "    </tr>\n",
       "  </tbody>\n",
       "</table>\n",
       "<p>5 rows × 21 columns</p>\n",
       "</div>"
      ],
      "text/plain": [
       "   Engine Capacity  Cylinders  Drive Type  Fuel Tank Capacity  Fuel Economy  \\\n",
       "0              1.2          3           0                42.0           4.9   \n",
       "1              1.2          3           0                42.0           4.9   \n",
       "2              1.4          4           0                45.0           6.3   \n",
       "3              1.6          4           0                50.0           6.4   \n",
       "4              1.5          4           0                48.0           5.8   \n",
       "\n",
       "   Fuel Type  Horsepower  Torque  Transmission  Top Speed  ...  Acceleration  \\\n",
       "0          0          76   100.0             0        170  ...          14.0   \n",
       "1          0          76   100.0             0        170  ...          14.0   \n",
       "2          0          75   118.0             1        156  ...          16.0   \n",
       "3          0         102   145.0             0        180  ...          11.0   \n",
       "4          0         112   150.0             0        170  ...          10.9   \n",
       "\n",
       "   Length  Width  Height  Wheelbase  Trunk Capacity  \\\n",
       "0   4.245  1.670   1.515      2.550           450.0   \n",
       "1   4.245  1.670   1.515      2.550           450.0   \n",
       "2   3.864  1.716   1.721      2.513          2800.0   \n",
       "3   4.354  1.994   1.529      2.635           510.0   \n",
       "4   4.314  1.809   1.624      2.585           448.0   \n",
       "\n",
       "                                     name    price  currency  Country  \n",
       "0  Mitsubishi Attrage 2021 1.2 GLX (Base)  34099.0         0        0  \n",
       "1  Mitsubishi Attrage 2021 1.2 GLX (Base)  34099.0         0        0  \n",
       "2         Fiat Fiorino 2021 1.4L Standard  41250.0         0        0  \n",
       "3             Renault Symbol 2021 1.6L PE  44930.0         0        0  \n",
       "4                     MG ZS 2021 1.5L STD  57787.0         0        0  \n",
       "\n",
       "[5 rows x 21 columns]"
      ]
     },
     "execution_count": 2,
     "metadata": {},
     "output_type": "execute_result"
    }
   ],
   "source": [
    "test_parameters = {\"n_estimators\": 1000, \"max_depth\": 5, \"learning_rate\":0.1}\n",
    "\n",
    "df = pd.read_csv('dataframe_YesIndex_YesHeader_C.csv', index_col=0)\n",
    "df.head()"
   ]
  },
  {
   "cell_type": "markdown",
   "metadata": {
    "id": "MAbTaqu4Shf-",
    "pycharm": {
     "name": "#%% md\n"
    }
   },
   "source": [
    "### Задание 0 (без проверки, 0 баллов)\n",
    "\n",
    "Посмотрите на цены автомобилей. Попробуйте понять, написаны они в одной валюте или нет. Если нет -- будут ли у нас серьезные проблемы при использовании деревьев? Стоит ли нам что-то сделать для того, чтобы нивелировать эту проблему?\n"
   ]
  },
  {
   "cell_type": "markdown",
   "metadata": {
    "id": "FMwFRSOeShf_"
   },
   "source": [
    "В глаза бросаются две проблемы: у нас имеется информация о производителе автомобиля, скрытая в текстовой переменной модели автомобиля (нет отдельного признака). Также имеются некоторые категориальные переменные. Со всем этим безобразием надо что-то сделать.\n",
    "\n",
    "### **Задание 1 (кросс-проверка, 3 балла)**\n",
    "**Данные**: датасет со стоимостью поддержанных автомобилей  \n",
    "**Цели**: В данном задании следует выполнить следующие пункты (выполнять можно в любом порядке)\n",
    "1. Изучить датасет, проверить наличие пропусков. При необходимости заменить их на среднее значение признака.\n",
    "3. Добавить столбец brand с информацией о производителе автомобиля (для простоты можно взять первое слово в названии модели)\n",
    "4. Решить, какие признаки Вы хотите сделать категориальными. Конвертировать выбранные категориальные столбцы в тип category. \n",
    "5. Создать датасет А с категориальными признаками в виде категорий. Для этого необходимо создать вектор целевых значений (столбец цен автомобилей) и матрицу признаков с категориальными переменными в виде категорий (получается путем удаления только целевой переменной из матрицы с данными). Дополнительно стоит создать список с названиями и индексами столбцов категориальных переменных (поможет в будущем).\n",
    "6. Создать датасет B без категориальных признаков. Для этого необходимо создать вектор целевых значений (столбец цен автомобилей) и удалить из матрицы признаков столбец с целевыми переменными, а также все категориальные переменные.\n",
    "8. Создать датасет C с категориальными признаками в виде one-hot encoding. Для этого необходимо создать вектор целевых значений (столбец цен автомобилей), удалить из матрицы признаков столбец с целевыми переменными и все категориальными переменные, а затем добавить новые признаки, соответствующие one-hot encoding категориальных переменных (здесь вам поможет функция `pd.get_dummies`).\n",
    "9. Разбить датасеты на тренировочное и тестовое множества, используя `train_test_split(X, y, test_size=0.25, random_state=0)` (зафиксировав random_seed мы получим одинаковое разбиение на обучение/тест для всех трёх выборок)."
   ]
  },
  {
   "cell_type": "code",
   "execution_count": 3,
   "metadata": {
    "colab": {
     "base_uri": "https://localhost:8080/"
    },
    "id": "-lDLjvJQVPlV",
    "outputId": "4ca771b2-fa2a-4d75-f60d-dc6ba274d2da"
   },
   "outputs": [
    {
     "data": {
      "text/plain": [
       "Engine Capacity       0\n",
       "Cylinders             0\n",
       "Drive Type            0\n",
       "Fuel Tank Capacity    0\n",
       "Fuel Economy          0\n",
       "Fuel Type             0\n",
       "Horsepower            0\n",
       "Torque                0\n",
       "Transmission          0\n",
       "Top Speed             0\n",
       "Seating Capacity      0\n",
       "Acceleration          0\n",
       "Length                0\n",
       "Width                 0\n",
       "Height                0\n",
       "Wheelbase             0\n",
       "Trunk Capacity        0\n",
       "name                  0\n",
       "price                 0\n",
       "currency              0\n",
       "Country               0\n",
       "dtype: int64"
      ]
     },
     "execution_count": 3,
     "metadata": {},
     "output_type": "execute_result"
    }
   ],
   "source": [
    "df.isnull().sum()"
   ]
  },
  {
   "cell_type": "code",
   "execution_count": 4,
   "metadata": {
    "id": "0G8YFeKCcU1w"
   },
   "outputs": [],
   "source": [
    "df['brand'] = [i.split()[0] for i in df['name']]"
   ]
  },
  {
   "cell_type": "code",
   "execution_count": 5,
   "metadata": {
    "colab": {
     "base_uri": "https://localhost:8080/"
    },
    "id": "TFaaxdPcct3m",
    "outputId": "14a7e932-b6e7-40be-abef-c55953a48559"
   },
   "outputs": [
    {
     "data": {
      "text/plain": [
       "Engine Capacity         51\n",
       "Cylinders                8\n",
       "Drive Type               3\n",
       "Fuel Tank Capacity      75\n",
       "Fuel Economy           134\n",
       "Fuel Type                3\n",
       "Horsepower             277\n",
       "Torque                 234\n",
       "Transmission             3\n",
       "Top Speed              143\n",
       "Seating Capacity         8\n",
       "Acceleration           121\n",
       "Length                 456\n",
       "Width                  250\n",
       "Height                 341\n",
       "Wheelbase              263\n",
       "Trunk Capacity         306\n",
       "name                  1734\n",
       "price                 2011\n",
       "currency                 6\n",
       "Country                  6\n",
       "brand                   66\n",
       "dtype: int64"
      ]
     },
     "execution_count": 5,
     "metadata": {},
     "output_type": "execute_result"
    }
   ],
   "source": [
    "df.nunique()"
   ]
  },
  {
   "cell_type": "code",
   "execution_count": 6,
   "metadata": {
    "id": "ZDfr3zXD0W3L"
   },
   "outputs": [],
   "source": [
    "del df['name']"
   ]
  },
  {
   "cell_type": "code",
   "execution_count": 7,
   "metadata": {
    "id": "wVk2_uydezm7"
   },
   "outputs": [],
   "source": [
    "categorical_names = ['Cylinders', 'Drive Type', 'Fuel Type', 'Transmission', 'Seating Capacity', 'currency', 'Country', 'brand']\n",
    "categorical_indices = [1, 2, 5, 8, 10, 18, 19, 20]\n",
    "for i in categorical_names:\n",
    "  df[i] = df[i].astype('category')"
   ]
  },
  {
   "cell_type": "code",
   "execution_count": 8,
   "metadata": {
    "id": "WVDIfl4Ufbk_"
   },
   "outputs": [],
   "source": [
    "y = df['price']\n",
    "a = df.copy()\n",
    "del a['price']"
   ]
  },
  {
   "cell_type": "code",
   "execution_count": 9,
   "metadata": {
    "id": "Xdo10KELhAq5"
   },
   "outputs": [],
   "source": [
    "b = df.copy()\n",
    "del b['price']\n",
    "for i in categorical_names:\n",
    "  del b[i]"
   ]
  },
  {
   "cell_type": "code",
   "execution_count": 10,
   "metadata": {
    "id": "OAOn4-ulhCPq"
   },
   "outputs": [],
   "source": [
    "c = df.copy()\n",
    "categoricals = pd.DataFrame()\n",
    "del c['price']\n",
    "for i in categorical_names:\n",
    "  categoricals[i] = c[i]\n",
    "  del c[i]\n",
    "one_hot = pd.get_dummies(categoricals, prefix = categorical_names)\n",
    "c = pd.concat([c, one_hot], axis=1)"
   ]
  },
  {
   "cell_type": "code",
   "execution_count": 11,
   "metadata": {
    "id": "ttvM3C4RShf_",
    "pycharm": {
     "name": "#%%\n"
    }
   },
   "outputs": [],
   "source": [
    "datasets = {'A' : a, 'B': b, 'C': c}\n",
    "\n",
    "# your awesome code here\n",
    "X_train = {}\n",
    "X_test = {}\n",
    "y_train = {}\n",
    "y_test = {}\n",
    "for i in ['A', 'B', 'C']:\n",
    "  X_train[i], X_test[i], y_train[i], y_test[i] = train_test_split(datasets[i], y, test_size=0.25, random_state=0)"
   ]
  },
  {
   "cell_type": "markdown",
   "metadata": {
    "id": "EGvnygLLShf_",
    "pycharm": {
     "name": "#%% md\n"
    }
   },
   "source": [
    "Итак, кажется, что у нас всё готово для того, чтобы начать искать ответы на волнующие нас вопросы. Начнем со столь любимой нами библиотеки, а именно...\n",
    "\n",
    "## Градиентный бустинг со sklearn\n",
    "\n",
    "Естественно, в sklearn имеется реализация градиентного бустинга, которая хранится в sklearn.ensemble.GradientBoostingRegressor. Преимущественно данным классом пользуются в учебных заданиях, поскольку в реальных задачах предпочтение отдаётся другим библиотекам. Давайте попробуем понять, заслуженно ли градиентный бустинг в sklearn не пользуется популярностью.\n",
    "\n",
    "FYI: в sklearn имеется также реализация GradientBoostingClassifier для задач классификации, но пользоваться им мы сегодня не будем.\n",
    "\n",
    "GradientBoostingRegressor из коробки не умеет работать с категориальными признаками. Мы к этому уже подготовились, закодировав наши признаки.\n",
    "\n",
    "### **Задание 2 (кросс-проверка, 2 балла)**:\n",
    "\n",
    "**Данные**: датасет со стоимостью поддержанных автомобилей    \n",
    "**Метрика**: MAE    \n",
    "**Цели**: В данном задании следует выполнить следующие пункты:    \n",
    "1. Обучить sklearn.ensemble.GradientBoostingRegressor на датасетах B и C, используя параметры n_estimators=1000, max_depth=5, learning_rate=0.1 (наши `test_parameters`). Замерьте время обучения, получите предсказания данных моделей на тестовом множестве.\n",
    "2. Обучить sklearn.ensemble.GradientBoostingRegressor на датасете B (можно и на C, если позволяют вычислительные ресурсы), используя кросс-валидацию на тренировочном множестве и подбирая значения для параметров n_estimators, learning_rate и max_depth. для простоты можете воспользоваться GridSearchCV. При необходимости можно оптимизировать параметры по одному, а не все сразу. Выведите лучшие параметры. Получите предсказания лучшей модели (с лучшими параметрами) на тестовом множестве. Для ускорения процесса не забудьте воспользоваться n_jobs.\n",
    "3. Посчитать MAE для полученных предсказаний на тренировочном и тестовом множествах (можно воспользоваться sklearn.metrics.mean_absolute_error).\n",
    "5. Вывести результаты и время в таблице DataFrame.\n",
    "4. Сделайте выводы. Оцените полезность категориальных переменных и поиска оптимальных параметров. Оцените время, затраченное на обучение. Попробуйте дать оценку получившемуся MAE: оно большое или маленькое?\n"
   ]
  },
  {
   "cell_type": "code",
   "execution_count": 12,
   "metadata": {
    "id": "bFgQvAb8ShgA",
    "pycharm": {
     "name": "#%%\n"
    }
   },
   "outputs": [],
   "source": [
    "df_skl = pd.DataFrame(columns=['Dataset', 'Parameters', 'Time', 'MAE'])\n",
    "\n",
    "# your cool code here\n",
    "for i in ['B', 'C']:\n",
    "  res = {}\n",
    "  res['Dataset'] = i\n",
    "  res['Parameters'] = test_parameters\n",
    "  gbr = GradientBoostingRegressor(**test_parameters)\n",
    "  start = time.time()\n",
    "  gbr.fit(X_train[i], y_train[i])\n",
    "  res['Time'] = time.time() - start\n",
    "  y_pred = gbr.predict(X_test[i])\n",
    "  res['MAE'] = mean_absolute_error(y_test[i], y_pred)\n",
    "  df_skl = df_skl.append(res, ignore_index=True)"
   ]
  },
  {
   "cell_type": "code",
   "execution_count": 13,
   "metadata": {
    "id": "P-hhOExH0uzB"
   },
   "outputs": [],
   "source": [
    "param_grid = {'learning_rate' : [1e-2, 1e-1],\n",
    "        'max_depth' : [6, 7, 8],\n",
    "        'n_estimators' : [1000, 2000, 3000]}\n",
    "gbr = GradientBoostingRegressor()\n",
    "gscv = GridSearchCV(gbr, param_grid, scoring = 'neg_mean_absolute_error',n_jobs=-1)\n",
    "res = {}\n",
    "res['Dataset'] = 'B'\n",
    "start = time.time()\n",
    "gscv.fit(X_train['B'], y_train['B'])\n",
    "res['Time'] = time.time() - start\n",
    "res['Parameters'] = gscv.best_params_\n",
    "y_pred = gscv.best_estimator_.predict(X_test['B'])\n",
    "res['MAE'] = mean_absolute_error(y_test['B'], y_pred)\n",
    "df_skl = df_skl.append(res, ignore_index=True)"
   ]
  },
  {
   "cell_type": "code",
   "execution_count": 14,
   "metadata": {
    "id": "NmdWEVYf8McI"
   },
   "outputs": [
    {
     "name": "stdout",
     "output_type": "stream",
     "text": [
      "Лучшие параметры: {'learning_rate': 0.01, 'max_depth': 6, 'n_estimators': 1000}\n",
      "На тренировочной выборке 103230.3188633872\n",
      "На тестовой выборке 122145.44380573834\n"
     ]
    }
   ],
   "source": [
    "print('Лучшие параметры:', gscv.best_params_)\n",
    "y_pred = gscv.best_estimator_.predict(X_train['B'])\n",
    "print('На тренировочной выборке', mean_absolute_error(y_train['B'], y_pred))\n",
    "y_pred = gscv.best_estimator_.predict(X_test['B'])\n",
    "print('На тестовой выборке', mean_absolute_error(y_test['B'], y_pred))"
   ]
  },
  {
   "cell_type": "code",
   "execution_count": 15,
   "metadata": {
    "id": "NMH-52j92qui"
   },
   "outputs": [
    {
     "data": {
      "text/html": [
       "<div>\n",
       "<style scoped>\n",
       "    .dataframe tbody tr th:only-of-type {\n",
       "        vertical-align: middle;\n",
       "    }\n",
       "\n",
       "    .dataframe tbody tr th {\n",
       "        vertical-align: top;\n",
       "    }\n",
       "\n",
       "    .dataframe thead th {\n",
       "        text-align: right;\n",
       "    }\n",
       "</style>\n",
       "<table border=\"1\" class=\"dataframe\">\n",
       "  <thead>\n",
       "    <tr style=\"text-align: right;\">\n",
       "      <th></th>\n",
       "      <th>Dataset</th>\n",
       "      <th>Parameters</th>\n",
       "      <th>Time</th>\n",
       "      <th>MAE</th>\n",
       "    </tr>\n",
       "  </thead>\n",
       "  <tbody>\n",
       "    <tr>\n",
       "      <th>0</th>\n",
       "      <td>B</td>\n",
       "      <td>{'n_estimators': 1000, 'max_depth': 5, 'learni...</td>\n",
       "      <td>12.477137</td>\n",
       "      <td>123501.778049</td>\n",
       "    </tr>\n",
       "    <tr>\n",
       "      <th>1</th>\n",
       "      <td>C</td>\n",
       "      <td>{'n_estimators': 1000, 'max_depth': 5, 'learni...</td>\n",
       "      <td>24.146086</td>\n",
       "      <td>18054.559875</td>\n",
       "    </tr>\n",
       "    <tr>\n",
       "      <th>2</th>\n",
       "      <td>B</td>\n",
       "      <td>{'learning_rate': 0.01, 'max_depth': 6, 'n_est...</td>\n",
       "      <td>997.586758</td>\n",
       "      <td>122145.443806</td>\n",
       "    </tr>\n",
       "  </tbody>\n",
       "</table>\n",
       "</div>"
      ],
      "text/plain": [
       "  Dataset                                         Parameters        Time  \\\n",
       "0       B  {'n_estimators': 1000, 'max_depth': 5, 'learni...   12.477137   \n",
       "1       C  {'n_estimators': 1000, 'max_depth': 5, 'learni...   24.146086   \n",
       "2       B  {'learning_rate': 0.01, 'max_depth': 6, 'n_est...  997.586758   \n",
       "\n",
       "             MAE  \n",
       "0  123501.778049  \n",
       "1   18054.559875  \n",
       "2  122145.443806  "
      ]
     },
     "execution_count": 15,
     "metadata": {},
     "output_type": "execute_result"
    }
   ],
   "source": [
    "df_skl.head()"
   ]
  },
  {
   "cell_type": "markdown",
   "metadata": {
    "id": "GtuBV39tShgA"
   },
   "source": [
    "**Ваши выводы:** Учет категориальных признаков значительно улучшает результаты. В то время как тюнинг не дал сильного (относительного) прироста. Ошибку можно оценить как небольшную, так как цифра небольшая относительна объема выборки * цену автомобиля."
   ]
  },
  {
   "cell_type": "markdown",
   "metadata": {
    "id": "IE-P8UzlShgA"
   },
   "source": [
    "И так, sklearn предлагает нам привычный и простой способ тренировки моделей. Однако, для градиентного бустинга существует множество эвристик и трюков, помогающих улучшить результаты. И одна из библиотек, реализующая улучшенную версию бустинга, называется xgboost.\n",
    "\n",
    "## Градиентный бустинг с XGBoost\n",
    "\n",
    "XGBoost стала достаточно популярной библиотекой, которая позволяет добиться хороших результатов без особых усилий (во всяком случае, так гласят легенды). И у нас для вас две новости: хорошая и плохая. Хорошая – xgboost, хоть и является сторонней библиотекой, сохраняет интерфейс sklearn и даже прекрасно работает с GridSearchCV. Плохая – она тоже не умеет из коробки работать с категориальными признаками. Ну что же, давайте пощупаем это безобразие. На этот раз нас интересует класс xgboost.XGBRegressor.\n",
    "\n",
    "Update: относительно недавно в xgboost появилась экспериментальная поддержка категориальных переменных, которая еще не добавлена в стабильную версию, поэтому ею мы пользоваться пока не будем.\n",
    "\n",
    "### Задание 3 (кросс-проверка, 2 балла):\n",
    "**Данные**: датасет со стоимостью поддержанных автомобилей  \n",
    "**Метрика**: MAE  \n",
    "**Цели**: В данном задании следует выполнить следующие пункты:  \n",
    "1. Обучить xgboost.XGBRegressor на датасетах B и C, используя параметры n_estimators=1000, max_depth=5, learning_rate=0.1 (наши `test_parameters`). Замерьте время обучения. Получите предсказания данных моделей на тестовом множестве.\n",
    "2. Обучить xgboost.XGBRegressor на датасетах B и C, используя кросс-валидацию на тренировочном множестве и подбирая значения для параметров n_estimators, learning_rate и max_depth (для простоты можете воспользоваться GridSearchCV). При необходимости можно оптимизировать параметры по одному, а не все сразу. Замерьте время перебора, получите предсказания лучшей модели (с лучшими параметрами) на тестовом множестве. В этом случае устанавливать n_jobs у GridSearchCV не рекомендую, поскольку xgboost сам умеет захватывать все доступные ресурсы, и если GridSearchCV начнет их размножать, то последствия будут печальны.\n",
    "3. Посчитать MAE для полученных предсказаний на тренировочном и тестовом множествах (можно воспользоваться sklearn.metrics.mean_absolute_error).\n",
    "1. Выведите результаты и время в таблице DataFrame.\n",
    "4. Сделайте выводы. Оцените полезность категориальных переменных и поиска оптимальных параметров. Оцените время, затраченное на обучение. Сравните результаты со sklearn."
   ]
  },
  {
   "cell_type": "code",
   "execution_count": 16,
   "metadata": {
    "id": "GuGRzXkrShgA",
    "pycharm": {
     "name": "#%%\n"
    }
   },
   "outputs": [],
   "source": [
    "df_xgb = pd.DataFrame(columns=['Dataset', 'Parameters', 'Time', 'MAE'])\n",
    "\n",
    "# your perfect code here\n",
    "\n",
    "# your cool code here\n",
    "for i in ['B', 'C']:\n",
    "  res = {}\n",
    "  res['Dataset'] = i\n",
    "  res['Parameters'] = test_parameters\n",
    "  gbr = XGBRegressor(**test_parameters)\n",
    "  start = time.time()\n",
    "  gbr.fit(X_train[i], y_train[i])\n",
    "  res['Time'] = time.time() - start\n",
    "  y_pred = gbr.predict(X_test[i])\n",
    "  res['MAE'] = mean_absolute_error(y_test[i], y_pred)\n",
    "  df_xgb = df_xgb.append(res, ignore_index=True)"
   ]
  },
  {
   "cell_type": "code",
   "execution_count": 17,
   "metadata": {
    "id": "BOrpfymv-Ucj"
   },
   "outputs": [
    {
     "name": "stdout",
     "output_type": "stream",
     "text": [
      "Результаты для B\n",
      "Лучшие параметры: {'learning_rate': 0.01, 'max_depth': 6, 'n_estimators': 2000}\n",
      "На тренировочной выборке 98132.43551732114\n",
      "На тестовой выборке 122311.1110514323\n",
      "Результаты для C\n",
      "Лучшие параметры: {'learning_rate': 0.1, 'max_depth': 7, 'n_estimators': 3000}\n",
      "На тренировочной выборке 2281.6140593590094\n",
      "На тестовой выборке 16269.641816570884\n"
     ]
    }
   ],
   "source": [
    "param_grid = {'learning_rate' : [1e-2, 1e-1],\n",
    "        'max_depth' : [6, 7, 8],\n",
    "        'n_estimators' : [1000, 2000, 3000]}\n",
    "gbr = XGBRegressor()\n",
    "gscv = GridSearchCV(gbr, param_grid, scoring = 'neg_mean_absolute_error')\n",
    "for i in ['B', 'C']:\n",
    "  res = {}\n",
    "  res['Dataset'] = i\n",
    "  start = time.time()\n",
    "  gscv.fit(X_train[i], y_train[i])\n",
    "  res['Time'] = time.time() - start\n",
    "  res['Parameters'] = gscv.best_params_\n",
    "  y_pred = gscv.best_estimator_.predict(X_test[i])\n",
    "  res['MAE'] = mean_absolute_error(y_test[i], y_pred)\n",
    "  df_xgb = df_xgb.append(res, ignore_index=True)\n",
    "  print('Результаты для ' + i)\n",
    "  print('Лучшие параметры:', gscv.best_params_)\n",
    "  y_pred = gscv.best_estimator_.predict(X_train[i])\n",
    "  print('На тренировочной выборке', mean_absolute_error(y_train[i], y_pred))\n",
    "  y_pred = gscv.best_estimator_.predict(X_test[i])\n",
    "  print('На тестовой выборке', mean_absolute_error(y_test[i], y_pred))"
   ]
  },
  {
   "cell_type": "code",
   "execution_count": 18,
   "metadata": {
    "id": "YZPiujCSH9Ba"
   },
   "outputs": [
    {
     "data": {
      "text/html": [
       "<div>\n",
       "<style scoped>\n",
       "    .dataframe tbody tr th:only-of-type {\n",
       "        vertical-align: middle;\n",
       "    }\n",
       "\n",
       "    .dataframe tbody tr th {\n",
       "        vertical-align: top;\n",
       "    }\n",
       "\n",
       "    .dataframe thead th {\n",
       "        text-align: right;\n",
       "    }\n",
       "</style>\n",
       "<table border=\"1\" class=\"dataframe\">\n",
       "  <thead>\n",
       "    <tr style=\"text-align: right;\">\n",
       "      <th></th>\n",
       "      <th>Dataset</th>\n",
       "      <th>Parameters</th>\n",
       "      <th>Time</th>\n",
       "      <th>MAE</th>\n",
       "    </tr>\n",
       "  </thead>\n",
       "  <tbody>\n",
       "    <tr>\n",
       "      <th>0</th>\n",
       "      <td>B</td>\n",
       "      <td>{'n_estimators': 1000, 'max_depth': 5, 'learni...</td>\n",
       "      <td>2.350817</td>\n",
       "      <td>123037.212284</td>\n",
       "    </tr>\n",
       "    <tr>\n",
       "      <th>1</th>\n",
       "      <td>C</td>\n",
       "      <td>{'n_estimators': 1000, 'max_depth': 5, 'learni...</td>\n",
       "      <td>8.272372</td>\n",
       "      <td>18504.879760</td>\n",
       "    </tr>\n",
       "    <tr>\n",
       "      <th>2</th>\n",
       "      <td>B</td>\n",
       "      <td>{'learning_rate': 0.01, 'max_depth': 6, 'n_est...</td>\n",
       "      <td>535.784885</td>\n",
       "      <td>122311.111051</td>\n",
       "    </tr>\n",
       "    <tr>\n",
       "      <th>3</th>\n",
       "      <td>C</td>\n",
       "      <td>{'learning_rate': 0.1, 'max_depth': 7, 'n_esti...</td>\n",
       "      <td>1782.023447</td>\n",
       "      <td>16269.641817</td>\n",
       "    </tr>\n",
       "  </tbody>\n",
       "</table>\n",
       "</div>"
      ],
      "text/plain": [
       "  Dataset                                         Parameters         Time  \\\n",
       "0       B  {'n_estimators': 1000, 'max_depth': 5, 'learni...     2.350817   \n",
       "1       C  {'n_estimators': 1000, 'max_depth': 5, 'learni...     8.272372   \n",
       "2       B  {'learning_rate': 0.01, 'max_depth': 6, 'n_est...   535.784885   \n",
       "3       C  {'learning_rate': 0.1, 'max_depth': 7, 'n_esti...  1782.023447   \n",
       "\n",
       "             MAE  \n",
       "0  123037.212284  \n",
       "1   18504.879760  \n",
       "2  122311.111051  \n",
       "3   16269.641817  "
      ]
     },
     "execution_count": 18,
     "metadata": {},
     "output_type": "execute_result"
    }
   ],
   "source": [
    "df_xgb.head()"
   ]
  },
  {
   "cell_type": "markdown",
   "metadata": {
    "id": "xjxOvqpYShgA"
   },
   "source": [
    "**Ваши выводы:** Все посчиталось значительно быстрее и прирост в скорости очевиден, в то время как качество не уступает SKlearn. Опять таки, использование категориальных признаков дает сильное улучшение модели, а тьюнинг лишь немного ее улучшает. Стоит заметить, что тюнинг лучше работает с категориальными признаками."
   ]
  },
  {
   "cell_type": "markdown",
   "metadata": {
    "id": "OoUseSl1ShgA",
    "pycharm": {
     "name": "#%% md\n"
    }
   },
   "source": [
    "Таким вот несложным образом нам удалось воспользоваться еще одной библиотекой. Давайте перейдем к третьей библиотеке, которую мы сегодня изучим, и называется она lightgbm.\n",
    "\n",
    "## Градиентный бустинг в lightgbm\n",
    "\n",
    "Про Lightgbm легенды гласят, что она очень быстрая и легкая: что самый большой датасет она без проблем переварит за относительно небольшое время. А еще её разрабатывали не хухры кто, а сами мелкомягкие, так что попробовать её определённо стоит. На этот раз у нас вновь две новости, две хороших и две плохих. Первая хорошая — lightgbm тоже работает с GridSearchCV. Вторая хорошая — lightgbm умеет из коробки работать с категориальными признаками! Плохая — делает она это немного нетривиально (не зря я просил вас запомнить категориальные переменные!). Вторая плохая — да, нам придётся этим пользоваться.\n",
    "\n",
    "Внимание! LightGBM может писать сотню радостных сообщений о том, что он увидел ваши categorical_feature и использует их. При желании можете заглушать эти оповещения, ибо в случае перебора параметров их становится слишком много. (заклинание для заглушения: `warnings.filterwarnings(\"ignore\")`)\n",
    "\n",
    "### Задание 4 (кросс-проверка, 3 балла):\n",
    "**Данные**: датасет со стоимостью поддержанных автомобилей  \n",
    "**Метрика**: MAE  \n",
    "**Цели**: В данном задании следует выполнить следующие пункты:  \n",
    "1. В случае датасета, сохраненном в numpy, lightgbm требует, чтобы категории были закодированы целыми числами от 0 до числа признаков(e.g. ['a', 'b', 'a'] -> [0, 1, 0]). Сделайте это для датасета A. Если вы используете pandas, то для датасета A достаточно установить соответствующие столбцы типа \"категория\", тогда categorical_feature='auto' сам всё подхватит.\n",
    "2. Обучить lightgbm.LGBMRegressor на датасетах A, B и C, используя параметры используя параметры n_estimators=1000, max_depth=5, learning_rate=0.1. В случае датасета A, передайте в функцию fit индексы/имена категориальных признаков. Замерьте время обучения, получите предсказания данных моделей на тестовом множестве.\n",
    "3. Обучить lightgbm.LGBMRegressor на датасетах A, B и C, используя кросс-валидацию на тренировочном множестве и подбирая значения для параметров n_estimators, learning_rate и max_depth (для простоты можете воспользоваться GridSearchCV). Замерьте время, потраченное на поиск оптимальных параметров(вновь не советую использовать n_jobs). Замерьте время перебора, получите предсказания лучшей модели (с лучшими параметрами) на тестовом множестве.\n",
    "4. Посчитать MAE для полученных предсказаний на тренировочном и тестовом множествах (можно воспользоваться sklearn.metrics.mean_absolute_error). Сделайте выводы и полезности использования категориальных переменных и поиска оптимальных параметров.\n",
    "5. Вывести результаты и время в таблице DataFrame."
   ]
  },
  {
   "cell_type": "code",
   "execution_count": 19,
   "metadata": {
    "id": "9sg_TW6HShgB",
    "pycharm": {
     "name": "#%%\n"
    }
   },
   "outputs": [],
   "source": [
    "import warnings\n",
    "warnings.filterwarnings(\"ignore\")\n",
    "\n",
    "df_lightgbm = pd.DataFrame(columns=['Dataset', 'Parameters', 'Time', 'MAE'])\n",
    "\n",
    "# your great code here\n",
    "res = {}\n",
    "res['Dataset'] = 'A'\n",
    "res['Parameters'] = test_parameters\n",
    "gbr = LGBMRegressor(**test_parameters)\n",
    "start = time.time()\n",
    "gbr.fit(X_train['A'], y_train['A'], categorical_feature = categorical_names)\n",
    "res['Time'] = time.time() - start\n",
    "y_pred = gbr.predict(X_test['A'])\n",
    "res['MAE'] = mean_absolute_error(y_test['A'], y_pred)\n",
    "df_lightgbm = df_lightgbm.append(res, ignore_index=True)\n",
    "\n",
    "for i in ['B', 'C']:\n",
    "  res = {}\n",
    "  res['Dataset'] = i\n",
    "  res['Parameters'] = test_parameters\n",
    "  gbr = LGBMRegressor(**test_parameters)\n",
    "  start = time.time()\n",
    "  gbr.fit(X_train[i], y_train[i])\n",
    "  res['Time'] = time.time() - start\n",
    "  y_pred = gbr.predict(X_test[i])\n",
    "  res['MAE'] = mean_absolute_error(y_test[i], y_pred)\n",
    "  df_lightgbm = df_lightgbm.append(res, ignore_index=True)"
   ]
  },
  {
   "cell_type": "code",
   "execution_count": 20,
   "metadata": {
    "id": "KFe-QdqtDNW2"
   },
   "outputs": [
    {
     "name": "stdout",
     "output_type": "stream",
     "text": [
      "Результаты для A\n",
      "Лучшие параметры: {'learning_rate': 0.1, 'max_depth': 7, 'n_estimators': 3000}\n",
      "На тренировочной выборке 4857.601715303375\n",
      "На тестовой выборке 22715.904596175653\n",
      "Результаты для B\n",
      "Лучшие параметры: {'learning_rate': 0.1, 'max_depth': 6, 'n_estimators': 1000}\n",
      "На тренировочной выборке 96251.5515602163\n",
      "На тестовой выборке 122494.9452192865\n",
      "Результаты для C\n",
      "Лучшие параметры: {'learning_rate': 0.1, 'max_depth': 6, 'n_estimators': 3000}\n",
      "На тренировочной выборке 7656.308407753305\n",
      "На тестовой выборке 25518.781038156318\n"
     ]
    }
   ],
   "source": [
    "param_grid = {'learning_rate' : [1e-2, 1e-1],\n",
    "        'max_depth' : [6, 7, 8],\n",
    "        'n_estimators' : [1000, 2000, 3000]}\n",
    "gbr = LGBMRegressor(**test_parameters)\n",
    "gscv = GridSearchCV(gbr, param_grid, scoring = 'neg_mean_absolute_error')\n",
    "\n",
    "res = {}\n",
    "res['Dataset'] = 'A'\n",
    "start = time.time()\n",
    "gscv.fit(X_train['A'], y_train['A'], categorical_feature = categorical_names)\n",
    "res['Time'] = time.time() - start\n",
    "res['Parameters'] = gscv.best_params_\n",
    "y_pred = gscv.best_estimator_.predict(X_test['A'])\n",
    "res['MAE'] = mean_absolute_error(y_test['A'], y_pred)\n",
    "df_lightgbm = df_lightgbm.append(res, ignore_index=True)\n",
    "print('Результаты для ' + 'A')\n",
    "print('Лучшие параметры:', gscv.best_params_)\n",
    "y_pred = gscv.best_estimator_.predict(X_train['A'])\n",
    "print('На тренировочной выборке', mean_absolute_error(y_train['A'], y_pred))\n",
    "y_pred = gscv.best_estimator_.predict(X_test['A'])\n",
    "print('На тестовой выборке', mean_absolute_error(y_test['A'], y_pred))\n",
    "\n",
    "\n",
    "for i in ['B', 'C']:\n",
    "  res = {}\n",
    "  res['Dataset'] = i\n",
    "  start = time.time()\n",
    "  gscv.fit(X_train[i], y_train[i])\n",
    "  res['Time'] = time.time() - start\n",
    "  res['Parameters'] = gscv.best_params_\n",
    "  y_pred = gscv.best_estimator_.predict(X_test[i])\n",
    "  res['MAE'] = mean_absolute_error(y_test[i], y_pred)\n",
    "  df_lightgbm = df_lightgbm.append(res, ignore_index=True)\n",
    "  print('Результаты для ' + i)\n",
    "  print('Лучшие параметры:', gscv.best_params_)\n",
    "  y_pred = gscv.best_estimator_.predict(X_train[i])\n",
    "  print('На тренировочной выборке', mean_absolute_error(y_train[i], y_pred))\n",
    "  y_pred = gscv.best_estimator_.predict(X_test[i])\n",
    "  print('На тестовой выборке', mean_absolute_error(y_test[i], y_pred))"
   ]
  },
  {
   "cell_type": "code",
   "execution_count": 21,
   "metadata": {
    "id": "EKKtIt0WH_vg"
   },
   "outputs": [
    {
     "data": {
      "text/html": [
       "<div>\n",
       "<style scoped>\n",
       "    .dataframe tbody tr th:only-of-type {\n",
       "        vertical-align: middle;\n",
       "    }\n",
       "\n",
       "    .dataframe tbody tr th {\n",
       "        vertical-align: top;\n",
       "    }\n",
       "\n",
       "    .dataframe thead th {\n",
       "        text-align: right;\n",
       "    }\n",
       "</style>\n",
       "<table border=\"1\" class=\"dataframe\">\n",
       "  <thead>\n",
       "    <tr style=\"text-align: right;\">\n",
       "      <th></th>\n",
       "      <th>Dataset</th>\n",
       "      <th>Parameters</th>\n",
       "      <th>Time</th>\n",
       "      <th>MAE</th>\n",
       "    </tr>\n",
       "  </thead>\n",
       "  <tbody>\n",
       "    <tr>\n",
       "      <th>0</th>\n",
       "      <td>A</td>\n",
       "      <td>{'n_estimators': 1000, 'max_depth': 5, 'learni...</td>\n",
       "      <td>0.626268</td>\n",
       "      <td>25297.219522</td>\n",
       "    </tr>\n",
       "    <tr>\n",
       "      <th>1</th>\n",
       "      <td>B</td>\n",
       "      <td>{'n_estimators': 1000, 'max_depth': 5, 'learni...</td>\n",
       "      <td>0.500457</td>\n",
       "      <td>122340.527995</td>\n",
       "    </tr>\n",
       "    <tr>\n",
       "      <th>2</th>\n",
       "      <td>C</td>\n",
       "      <td>{'n_estimators': 1000, 'max_depth': 5, 'learni...</td>\n",
       "      <td>0.608709</td>\n",
       "      <td>31303.163628</td>\n",
       "    </tr>\n",
       "    <tr>\n",
       "      <th>3</th>\n",
       "      <td>A</td>\n",
       "      <td>{'learning_rate': 0.1, 'max_depth': 7, 'n_esti...</td>\n",
       "      <td>151.307561</td>\n",
       "      <td>22715.904596</td>\n",
       "    </tr>\n",
       "    <tr>\n",
       "      <th>4</th>\n",
       "      <td>B</td>\n",
       "      <td>{'learning_rate': 0.1, 'max_depth': 6, 'n_esti...</td>\n",
       "      <td>112.021801</td>\n",
       "      <td>122494.945219</td>\n",
       "    </tr>\n",
       "    <tr>\n",
       "      <th>5</th>\n",
       "      <td>C</td>\n",
       "      <td>{'learning_rate': 0.1, 'max_depth': 6, 'n_esti...</td>\n",
       "      <td>177.354771</td>\n",
       "      <td>25518.781038</td>\n",
       "    </tr>\n",
       "  </tbody>\n",
       "</table>\n",
       "</div>"
      ],
      "text/plain": [
       "  Dataset                                         Parameters        Time  \\\n",
       "0       A  {'n_estimators': 1000, 'max_depth': 5, 'learni...    0.626268   \n",
       "1       B  {'n_estimators': 1000, 'max_depth': 5, 'learni...    0.500457   \n",
       "2       C  {'n_estimators': 1000, 'max_depth': 5, 'learni...    0.608709   \n",
       "3       A  {'learning_rate': 0.1, 'max_depth': 7, 'n_esti...  151.307561   \n",
       "4       B  {'learning_rate': 0.1, 'max_depth': 6, 'n_esti...  112.021801   \n",
       "5       C  {'learning_rate': 0.1, 'max_depth': 6, 'n_esti...  177.354771   \n",
       "\n",
       "             MAE  \n",
       "0   25297.219522  \n",
       "1  122340.527995  \n",
       "2   31303.163628  \n",
       "3   22715.904596  \n",
       "4  122494.945219  \n",
       "5   25518.781038  "
      ]
     },
     "execution_count": 21,
     "metadata": {},
     "output_type": "execute_result"
    }
   ],
   "source": [
    "df_lightgbm"
   ]
  },
  {
   "cell_type": "markdown",
   "metadata": {},
   "source": [
    "**Ваши выводы:** Какая чудо-библиотека! Отработало все очень быстро, но немного потеряла в качестве. Снова, использование категориальных признаков улучшает модель сильно, а тюнинг просто улучшает модель."
   ]
  },
  {
   "cell_type": "markdown",
   "metadata": {
    "id": "R61v9fYeShgB",
    "pycharm": {
     "name": "#%% md\n"
    }
   },
   "source": [
    "Как вы видите, иногда можно не возиться с OHE, а позволить библиотекам самим это сделать (хотя иногда при этом приходится повозиться с самими данными, чтобы библиотека съела данные).\n",
    "\n",
    "Итак, мы с вами почти стали мастерами градиентного бустинга. Переходим к последней звезде нашего хит-парада.\n",
    "\n"
   ]
  },
  {
   "cell_type": "markdown",
   "metadata": {
    "id": "MfhsKeZTShgB",
    "pycharm": {
     "name": "#%% md\n"
    }
   },
   "source": [
    "## Градиентный бустинг в catboost\n",
    "\n",
    "Библиотека, созданная в тёмных подвалах яндекса. По легендам эта библиотека умеет работать с категориальными данными, быстрая, эффективная, легко настраивается, из коробки понимает текстовые признаки в задачах классификации и спасла Брюса Уиллиса. Давайте проверим.\n",
    "Вас, наверное, не удивить тем, что эта библиотека работает с GridSearchCV, но им мы пользоваться не будем. В catboost существует своя реализация перебора параметров, и мы попробуем им воспользоваться (ура, разнообразие!). В качестве регрессора нас интересует catboost.CatBoostRegressor.\n",
    "\n",
    "Внимание! Эта библиотека еще более болтлива, чем lightgbm, но это (почти) полностью лечится с помощью verbose. К сожалению, отключением warnings её не сделать молчаливее. А еще эта библиотека может неожиданно создать вам парочку новых папок.\n",
    "\n",
    "### Задание 5 (кросс-проверка, 3 балла):\n",
    "**Данные**: датасет со стоимостью поддержанных автомобилей  \n",
    "**Метрика**: MAE  \n",
    "**Цели**: В данном задании следует выполнить следующие пункты:  \n",
    "1. Обучить catboost.CatBoostRegressor на датасетах A, B и C, используя параметры используя параметры n_estimators=1000, max_depth=5, learning_rate=0.1. В случае датасета A, передайте на вход методу fit/конструктору параметр cat_features, содержащий имена/индексы категориальных переменных. В данном случае переводить категории в целые числа, как мы делали для lightgbm, не нужно. Замерьте время обучения, получите предсказания данных моделей на тестовом множестве.\n",
    "2. Обучить catboost.CatBoostRegressor на датасетах A, B и C, используя метод grid_search (является методом экземпляра класса CatBoostRegressor). Замерьте время, потраченное на поиск оптимальных параметров. Замерьте время перебора, получите предсказания лучшей модели (с лучшими параметрами) на тестовом множестве.\n",
    "3. Посчитать MAE для полученных предсказаний на тренировочном и тестовом множествах (можно воспользоваться sklearn.metrics.mean_absolute_error).\n",
    "4. Сделайте выводы и полезности использования категориальных переменных и поиска оптимальных параметров.\n",
    "5. Вывести результаты и время в таблице DataFrame.\n"
   ]
  },
  {
   "cell_type": "code",
   "execution_count": null,
   "metadata": {
    "id": "jhvr1RUPShgB",
    "pycharm": {
     "name": "#%%\n"
    },
    "scrolled": false
   },
   "outputs": [],
   "source": [
    "df_catboost = pd.DataFrame(columns=['Dataset', 'Parameters', 'Time', 'MAE'])\n",
    "\n",
    "# your ideal code here\n",
    "res = {}\n",
    "res['Dataset'] = 'A'\n",
    "res['Parameters'] = test_parameters\n",
    "gbr = CatBoostRegressor(**test_parameters, cat_features = categorical_names)\n",
    "start = time.time()\n",
    "gbr.fit(X_train['A'], y_train['A'], categorical_names)\n",
    "res['Time'] = time.time() - start\n",
    "y_pred = gbr.predict(X_test['A'])\n",
    "res['MAE'] = mean_absolute_error(y_test['A'], y_pred)\n",
    "df_catboost = df_catboost.append(res, ignore_index=True)\n",
    "\n",
    "for i in ['B', 'C']:\n",
    "  res = {}\n",
    "  res['Dataset'] = i\n",
    "  res['Parameters'] = test_parameters\n",
    "  gbr = CatBoostRegressor(**test_parameters)\n",
    "  start = time.time()\n",
    "  gbr.fit(X_train[i], y_train[i])\n",
    "  res['Time'] = time.time() - start\n",
    "  y_pred = gbr.predict(X_test[i])\n",
    "  res['MAE'] = mean_absolute_error(y_test[i], y_pred)\n",
    "  df_catboost = df_catboost.append(res, ignore_index=True)"
   ]
  },
  {
   "cell_type": "code",
   "execution_count": null,
   "metadata": {
    "id": "rsDqog_JH9CV"
   },
   "outputs": [],
   "source": [
    "param_grid = {'learning_rate' : [1e-2, 1e-1],\n",
    "        'max_depth' : [6, 7, 8],\n",
    "        'n_estimators' : [1000, 2000, 3000]}\n",
    "gbr = CatBoostRegressor(cat_features = categorical_names)\n",
    "\n",
    "prints = []\n",
    "\n",
    "res = {}\n",
    "res['Dataset'] = 'A'\n",
    "start = time.time()\n",
    "gscv = gbr.grid_search(param_grid, X_train['A'], y_train['A'], verbose=False)\n",
    "res['Time'] = time.time() - start\n",
    "res['Parameters'] = gscv['params']\n",
    "best_estimator_ = CatBoostRegressor(**gscv['params'], cat_features = categorical_names).fit(X_train['A'], y_train['A'])\n",
    "y_pred = best_estimator_.predict(X_test['A'])\n",
    "res['MAE'] = mean_absolute_error(y_test['A'], y_pred)\n",
    "df_catboost = df_catboost.append(res, ignore_index=True)\n",
    "y_pred_1 = best_estimator_.predict(X_train['A'])\n",
    "y_pred_2 = best_estimator_.predict(X_test['A'])\n",
    "prints.append({'res' : 'A', \n",
    "               'best_params' : gscv['params'], \n",
    "               'on_train' : mean_absolute_error(y_train['A'], y_pred_1),\n",
    "               'on_test' : mean_absolute_error(y_test['A'], y_pred_2)})\n",
    "\n",
    "for i in ['B', 'C']:\n",
    "  gbr = CatBoostRegressor() \n",
    "  res = {}\n",
    "  res['Dataset'] = i\n",
    "  start = time.time()\n",
    "  gscv = gbr.grid_search(param_grid, X_train[i], y_train[i], verbose=False)\n",
    "  res['Time'] = time.time() - start\n",
    "  res['Parameters'] = gscv['params']\n",
    "  best_estimator_ = CatBoostRegressor(**gscv['params']).fit(X_train[i], y_train[i])\n",
    "  res['MAE'] = mean_absolute_error(y_test[i], y_pred)\n",
    "  df_catboost = df_catboost.append(res, ignore_index=True)\n",
    "  y_pred_1 = best_estimator_.predict(X_train[i])\n",
    "  y_pred_2 = best_estimator_.predict(X_test[i])\n",
    "  prints.append({'res' : i, \n",
    "               'best_params' : gscv['params'], \n",
    "               'on_train' : mean_absolute_error(y_train['A'], y_pred_1),\n",
    "               'on_test' : mean_absolute_error(y_test['A'], y_pred_2)})"
   ]
  },
  {
   "cell_type": "code",
   "execution_count": 24,
   "metadata": {},
   "outputs": [
    {
     "name": "stdout",
     "output_type": "stream",
     "text": [
      "Результаты для A\n",
      "Лучшие параметры: {'depth': 6, 'iterations': 3000, 'learning_rate': 0.1}\n",
      "На тренировочной выборке 8752.374996166604\n",
      "На обучающей выборке 14723.201628004324\n",
      "Результаты для B\n",
      "Лучшие параметры: {'depth': 6, 'iterations': 2000, 'learning_rate': 0.01}\n",
      "На тренировочной выборке 109841.65647345377\n",
      "На обучающей выборке 120823.20315017967\n",
      "Результаты для C\n",
      "Лучшие параметры: {'depth': 6, 'iterations': 3000, 'learning_rate': 0.1}\n",
      "На тренировочной выборке 4404.670419276924\n",
      "На обучающей выборке 16857.625006951457\n"
     ]
    }
   ],
   "source": [
    "for i in prints:\n",
    "    print('Результаты для', i['res'])\n",
    "    print('Лучшие параметры:', i['best_params'])\n",
    "    print('На тренировочной выборке', i['on_train'])\n",
    "    print('На обучающей выборке', i['on_test'])"
   ]
  },
  {
   "cell_type": "code",
   "execution_count": 25,
   "metadata": {
    "id": "yXKorOEOIEF4"
   },
   "outputs": [
    {
     "data": {
      "text/html": [
       "<div>\n",
       "<style scoped>\n",
       "    .dataframe tbody tr th:only-of-type {\n",
       "        vertical-align: middle;\n",
       "    }\n",
       "\n",
       "    .dataframe tbody tr th {\n",
       "        vertical-align: top;\n",
       "    }\n",
       "\n",
       "    .dataframe thead th {\n",
       "        text-align: right;\n",
       "    }\n",
       "</style>\n",
       "<table border=\"1\" class=\"dataframe\">\n",
       "  <thead>\n",
       "    <tr style=\"text-align: right;\">\n",
       "      <th></th>\n",
       "      <th>Dataset</th>\n",
       "      <th>Parameters</th>\n",
       "      <th>Time</th>\n",
       "      <th>MAE</th>\n",
       "    </tr>\n",
       "  </thead>\n",
       "  <tbody>\n",
       "    <tr>\n",
       "      <th>0</th>\n",
       "      <td>A</td>\n",
       "      <td>{'n_estimators': 1000, 'max_depth': 5, 'learni...</td>\n",
       "      <td>7.477293</td>\n",
       "      <td>16397.647307</td>\n",
       "    </tr>\n",
       "    <tr>\n",
       "      <th>1</th>\n",
       "      <td>B</td>\n",
       "      <td>{'n_estimators': 1000, 'max_depth': 5, 'learni...</td>\n",
       "      <td>2.957862</td>\n",
       "      <td>121638.588895</td>\n",
       "    </tr>\n",
       "    <tr>\n",
       "      <th>2</th>\n",
       "      <td>C</td>\n",
       "      <td>{'n_estimators': 1000, 'max_depth': 5, 'learni...</td>\n",
       "      <td>3.427638</td>\n",
       "      <td>19286.268017</td>\n",
       "    </tr>\n",
       "    <tr>\n",
       "      <th>3</th>\n",
       "      <td>A</td>\n",
       "      <td>{'depth': 6, 'iterations': 3000, 'learning_rat...</td>\n",
       "      <td>731.360633</td>\n",
       "      <td>14723.201628</td>\n",
       "    </tr>\n",
       "    <tr>\n",
       "      <th>4</th>\n",
       "      <td>B</td>\n",
       "      <td>{'depth': 6, 'iterations': 2000, 'learning_rat...</td>\n",
       "      <td>274.564541</td>\n",
       "      <td>14723.201628</td>\n",
       "    </tr>\n",
       "    <tr>\n",
       "      <th>5</th>\n",
       "      <td>C</td>\n",
       "      <td>{'depth': 6, 'iterations': 3000, 'learning_rat...</td>\n",
       "      <td>379.270529</td>\n",
       "      <td>14723.201628</td>\n",
       "    </tr>\n",
       "  </tbody>\n",
       "</table>\n",
       "</div>"
      ],
      "text/plain": [
       "  Dataset                                         Parameters        Time  \\\n",
       "0       A  {'n_estimators': 1000, 'max_depth': 5, 'learni...    7.477293   \n",
       "1       B  {'n_estimators': 1000, 'max_depth': 5, 'learni...    2.957862   \n",
       "2       C  {'n_estimators': 1000, 'max_depth': 5, 'learni...    3.427638   \n",
       "3       A  {'depth': 6, 'iterations': 3000, 'learning_rat...  731.360633   \n",
       "4       B  {'depth': 6, 'iterations': 2000, 'learning_rat...  274.564541   \n",
       "5       C  {'depth': 6, 'iterations': 3000, 'learning_rat...  379.270529   \n",
       "\n",
       "             MAE  \n",
       "0   16397.647307  \n",
       "1  121638.588895  \n",
       "2   19286.268017  \n",
       "3   14723.201628  \n",
       "4   14723.201628  \n",
       "5   14723.201628  "
      ]
     },
     "execution_count": 25,
     "metadata": {},
     "output_type": "execute_result"
    }
   ],
   "source": [
    "df_catboost"
   ]
  },
  {
   "cell_type": "markdown",
   "metadata": {
    "id": "L1CIcxJdShgB"
   },
   "source": [
    "**Ваши выводы:** Все еще быстрее SKlearn, и интересно заметить, что в отличии от него модель лучше справлялась с датасетами B и C чем с А. При этом с тюнингом все показали одинаковый результат (надеюсь я нигде ничего не напутал). Использование категориальных признаков снова хорошо улучшает модель."
   ]
  },
  {
   "cell_type": "markdown",
   "metadata": {
    "id": "4iD11rQ6ShgC",
    "pycharm": {
     "name": "#%% md\n"
    }
   },
   "source": [
    "И так, мы наконец познакомились со всеми библиотеками градиентного бустинга.\n",
    "\n",
    "## Обобщение результатов\n",
    "\n",
    "На текущем этапе у вас должно быть несколько датафреймов результатами по каждой библиотеке. Мы, конечно, сделали некоторые выводы, но пришло время собрать это в красивый отчет.\n",
    "\n",
    "### Задание 6 (кросс-проверка, 3 балла):\n",
    "**Данные**: датасет с ценами поддержанных автомобилей  \n",
    "**Цели**: В данном задании следует выполнить следующие пункты:  \n",
    "1. При помощи одного или нескольких графиков показать результаты различных библиотек: времени работы и качество результатов. Можете воспользоваться любым типом графиков: гистограммы, scatter и т.д. По этим графикам должно быть понятно какая библиотека и насколько быстрее, насколько различается их качество, сравнение оптимизированных и неоптимизированных параметров.\n",
    "2. По графикам сравните библиотеки, производительность и качество работы. Опишите ваши выводы ниже."
   ]
  },
  {
   "cell_type": "code",
   "execution_count": 26,
   "metadata": {},
   "outputs": [
    {
     "name": "stdout",
     "output_type": "stream",
     "text": [
      "12.477137327194214\n"
     ]
    }
   ],
   "source": [
    "print(min(df_skl.Time))"
   ]
  },
  {
   "cell_type": "code",
   "execution_count": 27,
   "metadata": {
    "id": "7rvzXefDShgC",
    "pycharm": {
     "name": "#%%\n"
    }
   },
   "outputs": [
    {
     "data": {
      "image/png": "[encoded data removed]",
      "text/plain": [
       "<Figure size 432x288 with 1 Axes>"
      ]
     },
     "metadata": {
      "needs_background": "light"
     },
     "output_type": "display_data"
    },
    {
     "data": {
      "image/png": "[encoded data removed]",
      "text/plain": [
       "<Figure size 432x288 with 1 Axes>"
      ]
     },
     "metadata": {
      "needs_background": "light"
     },
     "output_type": "display_data"
    }
   ],
   "source": [
    "dfs = (df_skl, df_xgb, df_lightgbm, df_catboost)\n",
    "names = ('Sklearn', 'Xgd', 'Lightgbm', 'Catboost')\n",
    "\n",
    "times = [list((i[i[\"MAE\"]== min(i[\"MAE\"])])['Time']) for i in dfs]\n",
    "times = [min(i) for i in times]\n",
    "\n",
    "plt.title('Время на обучение лучшей модели')\n",
    "plt.bar(names, times)\n",
    "plt.show()\n",
    "\n",
    "scores = [list((i[i.MAE == min(i.MAE)])['MAE']) for i in dfs]\n",
    "scores = [min(i) for i in scores]\n",
    "\n",
    "plt.title('Оценка лучшей модели')\n",
    "plt.bar(names, scores)\n",
    "plt.show()"
   ]
  },
  {
   "cell_type": "markdown",
   "metadata": {
    "id": "0yQW5kb-ShgC",
    "pycharm": {
     "name": "#%% md\n"
    }
   },
   "source": [
    "**Ваши выводы:** На самом деле, у всех реализаций есть свои особенности: одни быстрее, но качественно хуже, другие наоборот. Как оказалось, sklearn не самая худшая реализация. Нам повезло сразу подобрать хорошие параметры, но тем не менее результат показал средний. Однако, как нам стало известно sklearn плохо справляется с категориальными признаками и нужно заниматься препроцессингом данных. На графиках видно, что Catboost оказался самым качественным, и стоит заметить, что скорость обучения лишь немного уступает xgd, который хоть и немного быстрее, но также и немного хуже."
   ]
  },
  {
   "cell_type": "markdown",
   "metadata": {
    "id": "ENXfsk_hShgC",
    "pycharm": {
     "name": "#%% md\n"
    }
   },
   "source": [
    "## Оптимизация параметров с hyperopt\n",
    "\n",
    "И так, мы с вами научились пользоваться библиотеками для градиентного бустинга. И я почти уверен, что знаю вашу самую \"любимую\" часть всех этих заданий: оптимизация параметров. Она достаточно долгая, нудная, да еще и над сетками перебора нужно думать. Значит сейчас, когда вы поняли всю тяжесть этого процесса, мы можем узнать как относительно быстро и безболезненно нащупать оптимальные параметры!\n"
   ]
  },
  {
   "cell_type": "markdown",
   "metadata": {
    "id": "agYW1OX3ShgC",
    "pycharm": {
     "name": "#%% md\n"
    }
   },
   "source": [
    "[Эмоции выполняющего в этот момент.](https://disk.yandex.ru/i/qwkvBEFrWYoV9A)\n"
   ]
  },
  {
   "cell_type": "markdown",
   "metadata": {
    "id": "FyZ3--sTShgC",
    "pycharm": {
     "name": "#%% md\n"
    }
   },
   "source": [
    "Нашего спасителя зовут HyperOpt. На первый взгляд hyperopt делает всё то же самое, что и grid search, а именно перебирает параметры. По факту же hyperopt превращает это в задачу оптимизации, используя некоторые эвристики для ускорения сходимости процесса. К тому же, он требует лишь информацию о границе интарвалов, а не сами сетки. В теории это должно помочь нам добиться лучших результатов за более короткое время. Давайте попробуем это сделать.\n",
    "\n",
    "Для данного эксперимента я рекомендую использовать lightgbm, поскольку она быстрее и с ней удобнее играться, но Вы можете воспользоваться любой библиотекой из представленных выше.\n",
    "\n",
    "### Задание 7 (кросс-проверка, 4 балла):\n",
    "**Данные**: датасет со стоимостью поддержанных автомобилей\n",
    "**Метрика**: MAE\n",
    "**Цели**: В данном задании следует выполнить следующие пункты:\n",
    "1. Взять любую библиотеку градиентного бустинга (можете взять самую быструю)\n",
    "2. Составить сетку перебора в hyperopt, включающую параметры n_estimators, max_depth и learning_rate в hyperopt. Вам могут понадобиться такие типы данных, как hp.choise, hp.qloguniform, hp.uniform и hp.quniform (можно также пользоваться np.arange). Также для округления значения типа float до целых чисел (4.0 -> 4) используйте `scope.int`.\n",
    "3. Реализуйте функцию, которая принимает на вход словарь параметров для регрессора, и при помощи cv оценивает его качество на датасете A (можно воспользоваться cross_val_score, а для ускорения поставить cv=3). Не забудьте о том, в каком виде lightgbm принимает категориальные признаки в numpy и что также надо передавать индексы категориальных признаков.\n",
    "4. Создайте объект trials=Trials(), который будет хранить информацию о процессе оптимизации.\n",
    "5. Используя функцию fmin, оптимизируйте Вашу функцию. Установите algo=tpe.suggest, trials=trials и max_evals, по крайней мере, 50. verbose=1 позволит видеть прогресс-бар по типу tqdm.\n",
    "6. Выведите получившиеся параметры. Нарисуйте график, показывающий значение loss в ходе оптимизации. Посчитайте качество на тесте при использовании лучших параметров (возвращаются после использования fmin). Сделайте выводы по результату."
   ]
  },
  {
   "cell_type": "code",
   "execution_count": 28,
   "metadata": {
    "id": "FMo248pFShgC",
    "pycharm": {
     "name": "#%%\n"
    }
   },
   "outputs": [
    {
     "name": "stdout",
     "output_type": "stream",
     "text": [
      "100%|██████████| 50/50 [08:17<00:00,  9.95s/trial, best loss: 30469.754708840162]\n"
     ]
    }
   ],
   "source": [
    "import warnings\n",
    "warnings.filterwarnings(\"ignore\")\n",
    "\n",
    "trials = Trials()\n",
    "\n",
    "def quality(params):\n",
    "    gbr = LGBMRegressor(**params)\n",
    "    res = cross_val_score(gbr, X_train['A'], y_train['A'], cv=3, scoring = 'neg_mean_absolute_error')\n",
    "    return -np.mean(res)\n",
    "\n",
    "grid = {\n",
    "    # your clever grid here\n",
    "    \"n_estimators\" : scope.int(hp.quniform('n_estimators', 1000, 5001, 1000)),\n",
    "    \"max_depth\" : scope.int(hp.quniform(\"max_depth\", 5, 10, 1)),\n",
    "    \"learning_rate\" : hp.loguniform(\"learning_rate\", np.log(0.01), np.log(1))\n",
    "}\n",
    "\n",
    "best = fmin(fn=quality,\n",
    "            space=grid,\n",
    "            algo=tpe.suggest,\n",
    "            max_evals=50,\n",
    "            trials=trials,\n",
    "            verbose=1)\n",
    "\n",
    "\n",
    "# your super code for super graph"
   ]
  },
  {
   "cell_type": "code",
   "execution_count": 29,
   "metadata": {},
   "outputs": [
    {
     "name": "stdout",
     "output_type": "stream",
     "text": [
      "Лучшие параметры:\n",
      "{'learning_rate': 0.010041210761894967, 'max_depth': 10.0, 'n_estimators': 4000.0}\n"
     ]
    }
   ],
   "source": [
    "print('Лучшие параметры:')\n",
    "print(best)"
   ]
  },
  {
   "cell_type": "code",
   "execution_count": 30,
   "metadata": {},
   "outputs": [
    {
     "data": {
      "image/png": "[encoded data removed]",
      "text/plain": [
       "<Figure size 432x288 with 1 Axes>"
      ]
     },
     "metadata": {
      "needs_background": "light"
     },
     "output_type": "display_data"
    }
   ],
   "source": [
    "losses = [i['result']['loss'] for i in trials]\n",
    "plt.plot(losses)\n",
    "plt.show()"
   ]
  },
  {
   "cell_type": "code",
   "execution_count": 31,
   "metadata": {},
   "outputs": [
    {
     "name": "stdout",
     "output_type": "stream",
     "text": [
      "20756.041488800864\n"
     ]
    }
   ],
   "source": [
    "best['n_estimators'] = int(best['n_estimators'])\n",
    "best['max_depth'] = int(best['max_depth'])\n",
    "gbr = LGBMRegressor(**best)\n",
    "gbr.fit(X_train['A'], y_train['A'])\n",
    "y_pred = gbr.predict(X_test['A'])\n",
    "print(mean_absolute_error(y_test['A'], y_pred))"
   ]
  },
  {
   "cell_type": "markdown",
   "metadata": {
    "id": "2l_WhSHYShgC",
    "pycharm": {
     "name": "#%% md\n"
    }
   },
   "source": [
    "**Ваши выводы:** Данный метод позволяет лучше подобрать параметры, так как он проходится не только по сетке, но умеет перебирать непрерывные значения, засчет чего достигается более точный оптимум, однако стоит заметить, что работает он дольше обычного перебора, что очевидно."
   ]
  },
  {
   "cell_type": "markdown",
   "metadata": {
    "id": "xCklFIYmShgC"
   },
   "source": [
    "## Предсказание зрительских симпатий\n",
    "\n",
    "Ну что, детишки, а теперь перейдём к действительно важным вопросам.\n",
    "\n",
    "**Внимание!** Следующее задание сдается в системе cv-gml.ru, задание `Град. бустинг (ML)` Для выполнения этого задания необходимо скачать датасет из задания. Здесь вы можете немного почитать про датасет и, при желании, поэкспериментировать. На cv-gml.ru загружайте уже готовый скрипт с подобранными параметрами для обучаемого регрессора. Релизовать код необходимо в шаблонном файле awards_prediction.py, который вы можете найти в проверяющей системе.\n",
    "\n",
    "В некотором царстве, некотором государстве была развита кинопромышленность. Новые фильмы в этом государстве показывают по интернету, а пользователи после просмотра могут дать фильму некоторую \"награду\". Наша цель - предсказать число наград для фильма.\n",
    "\n",
    "В нашем распоряжении имеются следующие данные:\n",
    "\n",
    "**awards** - количество наград, полученных фильмом от пользователей (целевое значение)  \n",
    "**potions** - количество магических зелий, потраченных на создание спец-эффектов  \n",
    "**genres** - жанры созданного фильма  \n",
    "**questions** - количество вопросов, заданных пользователями на соответствующих форумах об этом фильме до премьеры  \n",
    "**directors** - режиссеры фильма (если неизвестны, то unknown)  \n",
    "**filming_locations** - области, в которых снимался фильм  \n",
    "**runtime** - продолжительность фильма в некоторых единицах, принятых в этом государстве  \n",
    "**critics_liked** - количество критиков из 100, присудивших награды фильму на предварительных закрытых показах  \n",
    "**pre-orders** - количество зрителей, заранее купивших билеты на первый показ  \n",
    "**keywords** - ключевые слова, описывающие содержание фильма\n",
    "**release_year** - год, во котором фильм был показан (конечно, в летоисчислении этого государства)\n",
    "\n",
    "Следующие поля появляются несколько раз с разными значениями i:\n",
    "\n",
    "**actor_i_known_movies** - количество известных фильмов актера i (i от 1 до 3)\n",
    "\n",
    "**actor_i_postogramm** - количество подписчиков в социальной сети \"по сто грамм\" актера i (i от 1 до 3)\n",
    "\n",
    "**actor_i_gender** - пол актера i (i от 1 до 3)\n",
    "\n",
    "**actor_i_age** - возраст актера i (i от 1 до 3)\n",
    "\n",
    "-----\n",
    "**Внимание!** Учтите, что при OHE кодировании признаки на обучении и тестировании должны совпадать! Если вы примените простое .get_dummies() или что-то подобное, то признаки на трейне и тесте получатся разные! Так что вам, вероятно, придётся придумать способ для того, чтобы сохранить их :)  \n",
    "\n",
    "### Задание 8 (ML задание, 20 баллов):\n",
    "**Данные**: датасет с ценами поддержанных автомобилей  \n",
    "**Метрика**: MAE  \n",
    "**Цели**: В данном задании следует выполнить следующие пункты:  \n",
    "1. Взять любую библиотеку градиентного бустинга\n",
    "2. Используя предложенный датасет, обучить регрессор для предсказания awards (предоставляем полную свободу в настройках и выборе методов)\n",
    "3. Загрузить решение и получить качество на закрытой выборке больше порогового значения"
   ]
  },
  {
   "cell_type": "code",
   "execution_count": 32,
   "metadata": {
    "id": "5-_zpUhBShgD",
    "pycharm": {
     "name": "#%%\n"
    }
   },
   "outputs": [],
   "source": [
    "## your efficient code here\n"
   ]
  },
  {
   "cell_type": "markdown",
   "metadata": {
    "id": "-aoXKWofShgD"
   },
   "source": [
    "\n",
    "## Конец\n",
    "\n",
    "Ну что детишки... Можете добавлять еще 4 библиотеки в своё резюме датасаентиста!\n"
   ]
  }
 ],
 "metadata": {
  "colab": {
   "collapsed_sections": [],
   "name": "homework.ipynb",
   "provenance": []
  },
  "kernelspec": {
   "display_name": "Python 3",
   "language": "python",
   "name": "python3"
  },
  "language_info": {
   "codemirror_mode": {
    "name": "ipython",
    "version": 3
   },
   "file_extension": ".py",
   "mimetype": "text/x-python",
   "name": "python",
   "nbconvert_exporter": "python",
   "pygments_lexer": "ipython3",
   "version": "3.6.9"
  }
 },
 "nbformat": 4,
 "nbformat_minor": 1
}
